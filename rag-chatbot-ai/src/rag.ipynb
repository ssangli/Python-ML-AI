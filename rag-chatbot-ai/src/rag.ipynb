{
 "cells": [
  {
   "cell_type": "code",
   "execution_count": 66,
   "id": "4e2bd80b-4018-43bf-b166-b4e73be508d5",
   "metadata": {},
   "outputs": [
    {
     "name": "stderr",
     "output_type": "stream",
     "text": [
      "/Users/sandhyasangli/anaconda3/envs/pytorch_env/lib/python3.12/site-packages/huggingface_hub/file_download.py:1132: FutureWarning: `resume_download` is deprecated and will be removed in version 1.0.0. Downloads always resume when possible. If you want to force a new download, use `force_download=True`.\n",
      "  warnings.warn(\n"
     ]
    }
   ],
   "source": [
    "import os,sys, yaml\n",
    "import string\n",
    "import nltk\n",
    "from sklearn.feature_extraction.text import TfidfVectorizer\n",
    "from nltk.corpus import stopwords\n",
    "from nltk.tokenize import word_tokenize, sent_tokenize\n",
    "from langchain_community.document_loaders import PyMuPDFLoader, PyPDFLoader\n",
    "from langchain.text_splitter import RecursiveCharacterTextSplitter, CharacterTextSplitter\n",
    "from sentence_transformers import SentenceTransformer\n",
    "from langchain.vectorstores import Chroma\n",
    "from langchain_community.llms import Ollama\n",
    "from langchain_core.prompts import ChatPromptTemplate\n",
    "import numpy as np\n",
    "\n",
    "embed_model = SentenceTransformer('sentence-transformers/all-MiniLM-L6-v2')\n"
   ]
  },
  {
   "cell_type": "code",
   "execution_count": 67,
   "id": "fbbf97bb-597a-44df-b8d2-6f3a82e620c5",
   "metadata": {},
   "outputs": [],
   "source": [
    "import yaml, torch\n",
    "with open(\"config.yaml\", 'r') as f:\n",
    "    cfg = yaml.safe_load(f)\n",
    "\n",
    "def read_file(filename):\n",
    "    loader = PyMuPDFLoader(filename)\n",
    "    return loader.load()\n",
    "\n",
    "# Character based chunking\n",
    "def split_document_char_based(filename):\n",
    "    data = read_file(filename)\n",
    "    text_splitter = CharacterTextSplitter(\n",
    "            chunk_size=cfg['TEXT_SPLITTER']['chunk_size'],\n",
    "            chunk_overlap=cfg['TEXT_SPLITTER']['chunk_overlap'],\n",
    "            separator=\"\\n\",\n",
    "            )\n",
    "    docs = []\n",
    "    for d in data:\n",
    "        docs.append(d.page_content)\n",
    "    return text_splitter.split_text(' '.join(docs))\n",
    "\n",
    "# Sentence based chunking\n",
    "def split_document_on_sentence(filename):\n",
    "    data = read_file(filename)\n",
    "    docs = []\n",
    "    for d in data:\n",
    "        content = d.page_content\n",
    "        for sent in sent_tokenize(content):\n",
    "            docs.append(sent)\n",
    "    return docs\n",
    "\n",
    "def generate_embeddings(embed_model, data):\n",
    "    #docs = split_document_char_based(filename)\n",
    "    embeddings = []\n",
    "    for d in data:\n",
    "        embeddings.append(embed_model.encode(d))\n",
    "    return torch.tensor(embeddings)\n",
    "\n",
    "def cosine_similarity(embeddings, query_embeddings):\n",
    "    cosine_similarity ={}\n",
    "    for i, emb in enumerate(embeddings):\n",
    "        dot_product = np.dot(emb, query_embeddings)\n",
    "        norm_a = np.linalg.norm(emb)\n",
    "        norm_b = np.linalg.norm(query_embeddings)\n",
    "        cosine_similarity[i] = dot_product / (norm_a * norm_b)\n",
    "    return cosine_similarity\n",
    "\n",
    "def euclidean_similarity(embeddings, query_embeddings):\n",
    "    euc_dist = {}\n",
    "    for i, emb in enumerate(embeddings):\n",
    "        euc_dist[i] = np.linalg.norm(emb - query_embeddings)\n",
    "    return euc_dist\n",
    "\n",
    "def similarity_search(embeddings, query_embeddings, type=\"cosine\", top_k = 3):\n",
    "    if type==\"cosine\":\n",
    "        result = cosine_similarity(embeddings, query_embeddings)  \n",
    "        top_k_sorted = sorted(result.items(), key = lambda x : x[1], reverse=True)[:top_k]\n",
    "    else:\n",
    "        result = euclidean_similarity(embeddings, query_embeddings)\n",
    "        top_k_sorted = sorted(result.items(), key=lambda x : x[1])[:top_k]\n",
    "    return [x[0] for x in top_k_sorted]\n",
    "\n",
    "def get_similar_docs(data, embeddings, similar_docs_idx):\n",
    "    for idx in similar_docs_idx:\n",
    "        print(\"------------{}-----------\".format(idx))\n",
    "        print(data[idx])\n",
    "\n",
    "def generate_context(data_chunks, embeddings, query_embeddings, search_type=\"cosine\", top_k=3):\n",
    "    similar_doc_indices = [similarity_search(embeddings, query_embeddings, search_type, top_k)]\n",
    "    context = []\n",
    "    for idx in similar_doc_indices:\n",
    "        context.append(data_chunks[idx[0]])\n",
    "    return ' '.join(context)\n",
    "\n",
    "def process_document(data):\n",
    "    punctuation = string.punctuation\n",
    "    stop_words = stopwords.words('english')\n",
    "    # first split by sentences\n",
    "    sentences = []\n",
    "    for sentence in sent_tokenize(data):\n",
    "        mod_sentence = []\n",
    "        for word in word_tokenize(sentence):\n",
    "            word = word.lower()\n",
    "            if not word.isalpha() or word in stop_words or word in punctuation:\n",
    "                continue\n",
    "            mod_sentence.append(word)\n",
    "        sentences.append(' '.join(mod_sentence))\n",
    "    return sentences\n"
   ]
  },
  {
   "cell_type": "markdown",
   "id": "5bf1ed25-a771-47ae-9b20-6cecc932e6d3",
   "metadata": {},
   "source": [
    "Generate Embeddings"
   ]
  },
  {
   "cell_type": "code",
   "execution_count": 3,
   "id": "85578177-0524-4876-810e-ec62032fed4a",
   "metadata": {},
   "outputs": [
    {
     "name": "stderr",
     "output_type": "stream",
     "text": [
      "/var/folders/s7/nsvqzd050512zsxdfsllv8740000gn/T/ipykernel_1363/3948116586.py:37: UserWarning: Creating a tensor from a list of numpy.ndarrays is extremely slow. Please consider converting the list to a single numpy.ndarray with numpy.array() before converting to a tensor. (Triggered internally at /Users/runner/work/_temp/anaconda/conda-bld/pytorch_1708025535429/work/torch/csrc/utils/tensor_new.cpp:278.)\n",
      "  return torch.tensor(embeddings)\n"
     ]
    }
   ],
   "source": [
    "chunks_by_char = split_document_char_based(\"batch_normalization.pdf\")\n",
    "chunks_by_sent = split_document_on_sentence(\"batch_normalization.pdf\")\n",
    "char_embeddings = generate_embeddings(embed_model, chunks_by_char)\n",
    "sent_embeddings = generate_embeddings(embed_model, chunks_by_sent)"
   ]
  },
  {
   "cell_type": "code",
   "execution_count": 8,
   "id": "7d48d431-dedd-4ab4-b513-4c95bd6361ab",
   "metadata": {},
   "outputs": [],
   "source": [
    "query = \"What is the topic of this document?\"\n",
    "q_emb = embed_model.encode(query)"
   ]
  },
  {
   "cell_type": "code",
   "execution_count": 9,
   "id": "3dd4dc0a-013e-4cbe-8f82-9fb8d4687b65",
   "metadata": {},
   "outputs": [],
   "source": [
    "context_for_chunk_by_char = generate_context(chunks_by_char, char_embeddings, q_emb)\n",
    "context_for_chunk_by_sent = generate_context(chunks_by_sent, sent_embeddings, q_emb)"
   ]
  },
  {
   "cell_type": "code",
   "execution_count": 329,
   "id": "773d78d9-5757-4a94-bace-044d2b5ad0ad",
   "metadata": {},
   "outputs": [
    {
     "name": "stdout",
     "output_type": "stream",
     "text": [
      "-------- Context : Char chunking ----------\n",
      "pair of parameters γ(k) and β(k) per feature map, rather\n",
      "than per activation. Alg. 2 is modiﬁed similarly, so that\n",
      "during inference the BN transform applies the same linear\n",
      "transformation to each activation in a given feature map.\n",
      "3.3\n",
      "Batch Normalization enables higher\n",
      "learning rates\n",
      "In traditional deep networks, too-high learning rate may\n",
      "result in the gradients that explode or vanish, as well as\n",
      "getting stuck in poor local minima.\n",
      "Batch Normaliza-\n",
      "tion helps address these issues. By normalizing activa-\n",
      "tions throughout the network, it prevents small changes\n",
      "to the parameters from amplifying into larger and subop-\n",
      "timal changes in activations in gradients; for instance, it\n",
      "prevents the training from getting stuck in the saturated\n",
      "regimes of nonlinearities.\n",
      "Batch Normalization also makes training more resilient\n",
      "to the parameter scale. Normally, large learning rates may\n",
      "increase the scale of layer parameters, which then amplify\n",
      "the gradient during backpropagationand lead to the model\n"
     ]
    }
   ],
   "source": [
    "print(\"-------- Context : Char chunking ----------\")\n",
    "print(context_for_chunk_by_char)"
   ]
  },
  {
   "cell_type": "code",
   "execution_count": 10,
   "id": "c663d4c0-3c81-4326-b1cb-05b76bf19785",
   "metadata": {},
   "outputs": [
    {
     "name": "stdout",
     "output_type": "stream",
     "text": [
      "-------- Context : Sentence chunking ----------\n",
      "ISSN 1532-4435.\n"
     ]
    }
   ],
   "source": [
    "print(\"-------- Context : Sentence chunking ----------\")\n",
    "print(context_for_chunk_by_sent)"
   ]
  },
  {
   "cell_type": "code",
   "execution_count": 16,
   "id": "480fb5be",
   "metadata": {},
   "outputs": [],
   "source": [
    "llm = Ollama(model=\"llama3\")"
   ]
  },
  {
   "cell_type": "code",
   "execution_count": 20,
   "id": "e69b3aef",
   "metadata": {},
   "outputs": [
    {
     "name": "stdout",
     "output_type": "stream",
     "text": [
      "\u001b[1mOllama\u001b[0m\n",
      "Params: {'model': 'llama3', 'format': None, 'options': {'mirostat': None, 'mirostat_eta': None, 'mirostat_tau': None, 'num_ctx': None, 'num_gpu': None, 'num_thread': None, 'num_predict': None, 'repeat_last_n': None, 'repeat_penalty': None, 'temperature': None, 'stop': None, 'tfs_z': None, 'top_k': None, 'top_p': None}, 'system': None, 'template': None, 'keep_alive': None}\n"
     ]
    },
    {
     "data": {
      "text/plain": [
       "\"Sky isn't actually blue. The sky appears blue to us because of the way that light scatters in the Earth's atmosphere.\\n\\nWhen sunlight enters the Earth's atmosphere, it encounters tiny molecules of gases such as nitrogen (N2) and oxygen (O2). These molecules scatter the light in all directions, but they do it in a way that favors shorter wavelengths, like blue and violet. This is known as Rayleigh scattering, named after the British physicist Lord Rayleigh who first described the phenomenon.\\n\\nThe shorter wavelengths of light are scattered more than the longer wavelengths, like red and orange. This is why the sky typically appears blue during the daytime, especially in the direction perpendicular to the sun. The blue color is most intense when the sun is overhead, which is why the sky often seems more vibrant at noon.\\n\\nAt sunrise and sunset, the sun's rays have to travel longer distances through the atmosphere, which scatters even more of the shorter wavelengths. This is why the sky can take on hues of orange, pink, and red during these times. The color of the sky can also be affected by atmospheric conditions like pollution, dust, and water vapor, but Rayleigh scattering is the main reason for its blue appearance.\\n\\nSo, to summarize, the sky isn't actually blue; it's just that our atmosphere makes it appear that way!\""
      ]
     },
     "execution_count": 20,
     "metadata": {},
     "output_type": "execute_result"
    }
   ],
   "source": [
    "print(llm)\n",
    "llm.invoke(\"Why is Sky blue?\")"
   ]
  },
  {
   "cell_type": "code",
   "execution_count": 25,
   "id": "96d0640d",
   "metadata": {},
   "outputs": [],
   "source": [
    "data = read_file(\"batch_normalization.pdf\")"
   ]
  },
  {
   "cell_type": "code",
   "execution_count": 32,
   "id": "6eb98004",
   "metadata": {},
   "outputs": [],
   "source": [
    "all_content = \"\"\n",
    "for d in data:\n",
    "    all_content += d.page_content"
   ]
  },
  {
   "cell_type": "code",
   "execution_count": 33,
   "id": "e9a4ee64",
   "metadata": {},
   "outputs": [
    {
     "name": "stdout",
     "output_type": "stream",
     "text": [
      "A chance to dig into some deep learning research!\n",
      "\n",
      "Here are the top 5 questions I'd ask based on arXiv:1502.03167:\n",
      "\n",
      "1. **What motivated the changes in the Inception architecture compared to GoogLeNet?** The paper presents a variant of the Inception model, but it's not immediately clear why these specific changes were made. Were they driven by computational constraints, accuracy concerns, or some other factor?\n",
      "2. **How do the separable convolutional layers with depth multiplier 8 impact training time and memory consumption?** The use of separable convolutions is an interesting approach to reducing computational costs while maintaining performance. I'd like to know more about their effect on the overall training process.\n",
      "3. **What are the trade-offs between the increased maximum depth, number of parameters, and computational cost resulting from replacing 5×5 convolutional layers with two consecutive 3×3 layers?** This change seems significant, but what were the consequences for training time, accuracy, or model complexity?\n",
      "4. **Can you elaborate on the role of stride-2 convolution/pooling layers in the Inception modules (3c, 4e)?** These specific layers seem to be used differently than others in the architecture. What was the reasoning behind their placement and function?\n",
      "5. **How did the increased number of inception modules (from 2 to 3) affect model performance and training time?** The authors mention an increase in parameters and computational cost, but I'd like to know more about the impact on the final accuracy or any noticeable differences in the training process.\n",
      "\n",
      "These questions should provide a good starting point for exploring the insights and implications of this research paper!\n"
     ]
    }
   ],
   "source": [
    "prompt_template = \"\"\"You are good at asking questions relevant to {data}. Can you list the top 5 questions that you would ask?\"\"\"\n",
    "prompt = ChatPromptTemplate.from_template(prompt_template)\n",
    "chain = prompt | llm\n",
    "#print(context)\n",
    "print(chain.invoke({\"query\" : query, \"data\" : all_content}))"
   ]
  },
  {
   "cell_type": "code",
   "execution_count": 34,
   "id": "7097516b-5245-48bc-9f2a-dfdf0a90dcef",
   "metadata": {},
   "outputs": [],
   "source": [
    "# Create prompt and invoke llm\n",
    "\n",
    "prompt_template = \"\"\"you are excellent at summarizing document {data}.\"\"\"\n",
    "prompt = ChatPromptTemplate.from_template(prompt_template)\n",
    "chain = prompt | llm\n"
   ]
  },
  {
   "cell_type": "code",
   "execution_count": 36,
   "id": "3e6816af-bddf-4b53-82fc-485030b86b64",
   "metadata": {},
   "outputs": [
    {
     "name": "stdout",
     "output_type": "stream",
     "text": [
      "------------LLM response -------------\n",
      "A summary of a research paper on deep learning!\n",
      "\n",
      "Here's a brief overview:\n",
      "\n",
      "**Paper:** \"A Convergence Analysis of Log-Linear Training\" by Simon et al. (2011) and \"Mean-Normalized Stochastic Gradient for Large-Scale Deep Learning\" by Wiesler et al. (2014)\n",
      "\n",
      "**Context:** The papers explore the convergence analysis of log-linear training in deep neural networks, which is essential for large-scale image recognition tasks.\n",
      "\n",
      "**Summary:**\n",
      "\n",
      "The first paper presents a convergence analysis of log-linear training in deep neural networks, demonstrating that it converges to a globally optimal solution under certain conditions. This analysis is crucial for understanding the behavior of large-scale deep learning models.\n",
      "\n",
      "The second paper proposes a mean-normalized stochastic gradient method for training deep neural networks on large datasets. The approach improves the stability and convergence rate of the optimization process, making it more suitable for large-scale image recognition tasks.\n",
      "\n",
      "**Inception Architecture:**\n",
      "\n",
      "The appendix presents the Inception architecture used in their model, which is an improved version of the GoogleNet architecture. The key modifications include:\n",
      "\n",
      "* Replacing 5x5 convolutional layers with two consecutive 3x3 convolutional layers\n",
      "* Increasing the number of inception modules from 2 to 3\n",
      "* Employing average and maximum-pooling within modules\n",
      "* Using stride-2 convolution/pooling layers before filter concatenation in certain modules\n",
      "* Implementing separable convolution with a depth multiplier of 8 on the first convolutional layer\n",
      "\n",
      "The Inception architecture is designed to increase the maximum depth of the network, reduce computational cost while increasing memory consumption at training time.\n",
      "\n",
      "Please note that this summary is not an exhaustive review of the papers. If you'd like me to expand on any specific aspect or provide more context, feel free to ask!\n"
     ]
    }
   ],
   "source": [
    "print(\"------------LLM response -------------\")\n",
    "print(chain.invoke ({\"query\": \"summarize\", \"data\" : all_content}))"
   ]
  },
  {
   "cell_type": "markdown",
   "id": "8d3e9eb8-8d9b-4992-88ff-bc216927dc41",
   "metadata": {},
   "source": [
    "Based on the LLM response, it is clear that more the information sent to LLM, better will be the result. Both character level and sentence level chunking is giving good answers but since sentence based chunking has overall less information compared to character level chunking, the result from LLM is also concise."
   ]
  },
  {
   "cell_type": "code",
   "execution_count": 40,
   "id": "1ced6e82",
   "metadata": {},
   "outputs": [],
   "source": [
    "from sklearn.feature_extraction.text import TfidfVectorizer\n",
    "\n",
    "processed_content = process_document(all_content)"
   ]
  },
  {
   "cell_type": "code",
   "execution_count": 42,
   "id": "114adf70",
   "metadata": {},
   "outputs": [],
   "source": [
    "tfidf = TfidfVectorizer()\n",
    "vectorizer = tfidf.fit_transform(processed_content)\n"
   ]
  },
  {
   "cell_type": "code",
   "execution_count": 62,
   "id": "23ffd365",
   "metadata": {},
   "outputs": [
    {
     "data": {
      "text/plain": [
       "(372, 1226)"
      ]
     },
     "execution_count": 62,
     "metadata": {},
     "output_type": "execute_result"
    }
   ],
   "source": [
    "matrix = vectorizer.toarray()\n",
    "feature_names = tfidf.get_feature_names_out()\n",
    "len(feature_names)\n",
    "matrix.shape"
   ]
  },
  {
   "cell_type": "code",
   "execution_count": 65,
   "id": "8a7593c2",
   "metadata": {},
   "outputs": [
    {
     "name": "stdout",
     "output_type": "stream",
     "text": [
      "address 0.349096403691236\n",
      "covariate 0.27689921717018784\n",
      "internal 0.27689921717018784\n",
      "layer 0.21936629097225357\n",
      "normalizing 0.2972815790280928\n",
      "phenomenon 0.40931201711462734\n",
      "problem 0.33711483059357916\n",
      "puts 0.349096403691236\n",
      "refer 0.349096403691236\n",
      "shift 0.2517302259278154\n"
     ]
    }
   ],
   "source": [
    "#print(feature_names)\n",
    "doc = 2\n",
    "first_doc = matrix[doc, :].nonzero()\n",
    "for i in first_doc:\n",
    "    for n, s in zip(feature_names[i], matrix[doc, i]):\n",
    "        print(n, s)"
   ]
  },
  {
   "cell_type": "code",
   "execution_count": 335,
   "id": "c2b79bbc-1c63-4da2-aa6a-e99aa3370cd2",
   "metadata": {},
   "outputs": [
    {
     "name": "stdout",
     "output_type": "stream",
     "text": [
      "--------------Context---------------\n",
      "Here are some disadvantages of Batch Normalization with chunk pair of parameters γ(k) and β(k) per feature map:\n",
      "\n",
      "**Disadvantages:**\n",
      "\n",
      "• **Computational Cost:** Batch Normalization requires computing statistical values (mean and variance) for each feature map, which can be computationally expensive.\n",
      "\n",
      "• **Memory Requirements:** The algorithm needs to store the batch statistics, which can increase memory requirements.\n",
      "\n",
      "• **Overfitting:** Although Batch Normalization helps with generalization, it can also introduce overfitting if the batch size is too small or if the model is complex enough.\n",
      "\n",
      "• **Interpretable Models:** Since each feature map has its own normalization parameters γ(k) and β(k), it may be more challenging to interpret the learned features.\n",
      "\n",
      "• **Scalability:** Batch Normalization might not scale well with very large models or datasets, as computing statistics for each feature map can become too computationally expensive.\n",
      "\n",
      "Let me know if you'd like me to expand on these points!\n"
     ]
    }
   ],
   "source": [
    "query1 = \"Why are the disadvantages of Batch Normalization?\"\n",
    "context = generate_context(chunks_by_char, char_embeddings, embed_model.encode(query1))\n",
    "print(\"--------------Context---------------\")\n",
    "print(chain.invoke({\"query\" : query1,\n",
    "                    \"context\" : context}))"
   ]
  },
  {
   "cell_type": "code",
   "execution_count": 12,
   "id": "4a659f00-5457-4b75-9e27-a37a3abb40ee",
   "metadata": {},
   "outputs": [
    {
     "name": "stdout",
     "output_type": "stream",
     "text": [
      "Requirement already satisfied: arxiv in /Users/sandhyasangli/anaconda3/envs/pytorch_env/lib/python3.12/site-packages (2.1.3)\n",
      "Requirement already satisfied: feedparser~=6.0.10 in /Users/sandhyasangli/anaconda3/envs/pytorch_env/lib/python3.12/site-packages (from arxiv) (6.0.11)\n",
      "Requirement already satisfied: requests~=2.32.0 in /Users/sandhyasangli/anaconda3/envs/pytorch_env/lib/python3.12/site-packages (from arxiv) (2.32.3)\n",
      "Requirement already satisfied: sgmllib3k in /Users/sandhyasangli/anaconda3/envs/pytorch_env/lib/python3.12/site-packages (from feedparser~=6.0.10->arxiv) (1.0.0)\n",
      "Requirement already satisfied: charset-normalizer<4,>=2 in /Users/sandhyasangli/anaconda3/envs/pytorch_env/lib/python3.12/site-packages (from requests~=2.32.0->arxiv) (2.0.4)\n",
      "Requirement already satisfied: idna<4,>=2.5 in /Users/sandhyasangli/anaconda3/envs/pytorch_env/lib/python3.12/site-packages (from requests~=2.32.0->arxiv) (3.4)\n",
      "Requirement already satisfied: urllib3<3,>=1.21.1 in /Users/sandhyasangli/anaconda3/envs/pytorch_env/lib/python3.12/site-packages (from requests~=2.32.0->arxiv) (2.2.1)\n",
      "Requirement already satisfied: certifi>=2017.4.17 in /Users/sandhyasangli/anaconda3/envs/pytorch_env/lib/python3.12/site-packages (from requests~=2.32.0->arxiv) (2024.2.2)\n",
      "Note: you may need to restart the kernel to use updated packages.\n",
      "Collecting arxiv2text\n",
      "  Downloading arxiv2text-0.1.14-py3-none-any.whl.metadata (4.4 kB)\n",
      "Requirement already satisfied: beautifulsoup4 in /Users/sandhyasangli/anaconda3/envs/pytorch_env/lib/python3.12/site-packages (from arxiv2text) (4.12.3)\n",
      "Collecting pdfminer-six (from arxiv2text)\n",
      "  Using cached pdfminer.six-20240706-py3-none-any.whl.metadata (4.1 kB)\n",
      "Requirement already satisfied: scikit-learn in /Users/sandhyasangli/anaconda3/envs/pytorch_env/lib/python3.12/site-packages (from arxiv2text) (1.4.1.post1)\n",
      "Requirement already satisfied: PyPDF2 in /Users/sandhyasangli/anaconda3/envs/pytorch_env/lib/python3.12/site-packages (from arxiv2text) (3.0.1)\n",
      "Requirement already satisfied: soupsieve>1.2 in /Users/sandhyasangli/anaconda3/envs/pytorch_env/lib/python3.12/site-packages (from beautifulsoup4->arxiv2text) (2.5)\n",
      "Requirement already satisfied: charset-normalizer>=2.0.0 in /Users/sandhyasangli/anaconda3/envs/pytorch_env/lib/python3.12/site-packages (from pdfminer-six->arxiv2text) (2.0.4)\n",
      "Requirement already satisfied: cryptography>=36.0.0 in /Users/sandhyasangli/.local/lib/python3.12/site-packages (from pdfminer-six->arxiv2text) (43.0.3)\n",
      "Requirement already satisfied: numpy<2.0,>=1.19.5 in /Users/sandhyasangli/anaconda3/envs/pytorch_env/lib/python3.12/site-packages (from scikit-learn->arxiv2text) (1.26.4)\n",
      "Requirement already satisfied: scipy>=1.6.0 in /Users/sandhyasangli/anaconda3/envs/pytorch_env/lib/python3.12/site-packages (from scikit-learn->arxiv2text) (1.12.0)\n",
      "Requirement already satisfied: joblib>=1.2.0 in /Users/sandhyasangli/anaconda3/envs/pytorch_env/lib/python3.12/site-packages (from scikit-learn->arxiv2text) (1.3.2)\n",
      "Requirement already satisfied: threadpoolctl>=2.0.0 in /Users/sandhyasangli/anaconda3/envs/pytorch_env/lib/python3.12/site-packages (from scikit-learn->arxiv2text) (3.3.0)\n",
      "Requirement already satisfied: cffi>=1.12 in /Users/sandhyasangli/anaconda3/envs/pytorch_env/lib/python3.12/site-packages (from cryptography>=36.0.0->pdfminer-six->arxiv2text) (1.16.0)\n",
      "Requirement already satisfied: pycparser in /Users/sandhyasangli/anaconda3/envs/pytorch_env/lib/python3.12/site-packages (from cffi>=1.12->cryptography>=36.0.0->pdfminer-six->arxiv2text) (2.21)\n",
      "Downloading arxiv2text-0.1.14-py3-none-any.whl (15 kB)\n",
      "Downloading pdfminer.six-20240706-py3-none-any.whl (5.6 MB)\n",
      "\u001b[2K   \u001b[38;2;114;156;31m━━━━━━━━━━━━━━━━━━━━━━━━━━━━━━━━━━━━━━━━\u001b[0m \u001b[32m5.6/5.6 MB\u001b[0m \u001b[31m30.2 MB/s\u001b[0m eta \u001b[36m0:00:00\u001b[0m\n",
      "\u001b[?25hInstalling collected packages: pdfminer-six, arxiv2text\n",
      "Successfully installed arxiv2text-0.1.14 pdfminer-six-20240706\n",
      "Note: you may need to restart the kernel to use updated packages.\n"
     ]
    }
   ],
   "source": [
    "\n",
    "%pip install arxiv\n",
    "%pip install arxiv2text"
   ]
  },
  {
   "cell_type": "code",
   "execution_count": 13,
   "id": "27ce46fb-db78-4737-b691-de7a13df7bed",
   "metadata": {},
   "outputs": [],
   "source": [
    "import requests, PyPDF2, io\n",
    "url =\"https://arxiv.org/pdf/1502.03167\"\n",
    "\n",
    "def read_pdf_url(url):\n",
    "    response = requests.get(url)\n",
    "    pdf_file = io.BytesIO(response.content)\n",
    "    pdf_reader = PyPDF2.PdfReader(pdf_file)\n",
    "    # Extract text\n",
    "    text = \"\"\n",
    "    for page in pdf_reader.pages:\n",
    "        text += page.extract_text()\n",
    "    return text\n",
    "\n",
    "def split_document_char_based_v1(data):\n",
    "    text_splitter = CharacterTextSplitter(\n",
    "            chunk_size=cfg['TEXT_SPLITTER']['chunk_size'],\n",
    "            chunk_overlap=cfg['TEXT_SPLITTER']['chunk_overlap'],\n",
    "            separator=\"\\n\",\n",
    "            )\n",
    "    return text_splitter.split_text(data)"
   ]
  },
  {
   "cell_type": "code",
   "execution_count": 31,
   "id": "41390a45-caf1-44a2-86ab-af8284083d04",
   "metadata": {},
   "outputs": [
    {
     "data": {
      "text/plain": [
       "str"
      ]
     },
     "execution_count": 31,
     "metadata": {},
     "output_type": "execute_result"
    }
   ],
   "source": [
    "type(text)"
   ]
  },
  {
   "cell_type": "code",
   "execution_count": 4,
   "id": "0f8b961a-67aa-4c2c-8c69-450cdaea4ee4",
   "metadata": {},
   "outputs": [],
   "source": [
    "url = \"https://arxiv.org/pdf/1603.09320\"\n",
    "data = read_pdf_url(url)"
   ]
  },
  {
   "cell_type": "code",
   "execution_count": 12,
   "id": "038ab8b2-70f4-4cc7-95d8-ab26d8864fe7",
   "metadata": {},
   "outputs": [
    {
     "data": {
      "text/plain": [
       "(70823, str)"
      ]
     },
     "execution_count": 12,
     "metadata": {},
     "output_type": "execute_result"
    }
   ],
   "source": [
    "len(data), type(data)"
   ]
  },
  {
   "cell_type": "code",
   "execution_count": 14,
   "id": "16486d24-8804-4738-bf15-cbedf0b53dc1",
   "metadata": {},
   "outputs": [],
   "source": [
    "data_chunks= split_document_char_based_v1(data)"
   ]
  },
  {
   "cell_type": "code",
   "execution_count": 15,
   "id": "48103475-6668-44d7-919e-f6c931e71adc",
   "metadata": {},
   "outputs": [
    {
     "data": {
      "text/plain": [
       "84"
      ]
     },
     "execution_count": 15,
     "metadata": {},
     "output_type": "execute_result"
    }
   ],
   "source": [
    "len(data_chunks)"
   ]
  },
  {
   "cell_type": "code",
   "execution_count": 19,
   "id": "5c74ad98-53ee-4cb7-a20f-39c4f264823c",
   "metadata": {},
   "outputs": [
    {
     "data": {
      "text/plain": [
       "'IEEE TRANSACTIONS ON  JOURNAL NAME,  MANUS CRIPT ID  1 \\n Efficient and robust approximate nearest \\nneighbor search using Hierarchical Navigable \\nSmall World graphs  \\nYu. A. Malkov,  D. A. Yashunin  \\nAbstract  — We present a new approach for the approximate K -nearest neighbor search based on navigable small world \\ngraphs with controllable hierarchy (Hierarchical NSW , HNSW ). The proposed solution is fully graph -based, without any need for \\nadditional search structures, which are typically used at the coarse search stage of the most proximity graph techniques. \\nHierarchical NSW incrementally builds  a multi -layer structure consisting from hierarchical set of proximity graphs (layers) for \\nnested  subsets of the stored elements. The maximum layer in which an element is present is selected randomly with an \\nexponentially decaying probability distribution. This allows producing graphs similar to the previously studied Navigable Sma ll'"
      ]
     },
     "execution_count": 19,
     "metadata": {},
     "output_type": "execute_result"
    }
   ],
   "source": [
    "data_chunks[0]"
   ]
  },
  {
   "cell_type": "code",
   "execution_count": 18,
   "id": "dbaa9b2a-79b4-4452-845f-3ff0292f4a5e",
   "metadata": {},
   "outputs": [
    {
     "name": "stderr",
     "output_type": "stream",
     "text": [
      "/var/folders/s7/nsvqzd050512zsxdfsllv8740000gn/T/ipykernel_62596/3948116586.py:37: UserWarning: Creating a tensor from a list of numpy.ndarrays is extremely slow. Please consider converting the list to a single numpy.ndarray with numpy.array() before converting to a tensor. (Triggered internally at /Users/runner/work/_temp/anaconda/conda-bld/pytorch_1708025535429/work/torch/csrc/utils/tensor_new.cpp:278.)\n",
      "  return torch.tensor(embeddings)\n"
     ]
    }
   ],
   "source": [
    "embeddings = generate_embeddings(embed_model, data_chunks)"
   ]
  },
  {
   "cell_type": "code",
   "execution_count": 76,
   "id": "c81ad0f2-06ed-432b-a442-fa5a448e07db",
   "metadata": {},
   "outputs": [
    {
     "name": "stdout",
     "output_type": "stream",
     "text": [
      "Based on the provided documents, I'll summarize the content as follows:\n",
      "\n",
      "**Document 1: Page 9**\n",
      "\n",
      "1. **Problem Statement**: The problem statement is not explicitly mentioned in this document.\n",
      "2. **Existing Method**: Not applicable.\n",
      "3. **Proposed Solution and its differences from existing one**: Not applicable.\n",
      "4. **Experimental Results**: No experimental results are provided in this document.\n",
      "\n",
      "**Document 2: Page 10**\n",
      "\n",
      "1. **Problem Statement**: The problem statement is not explicitly mentioned in this document either.\n",
      "2. **Existing Method**: Not applicable.\n",
      "3. **Proposed Solution and its differences from existing one**: This document appears to describe a neural network architecture called Inception, which is designed for image classification tasks. The proposed solution is a multi-layer convolutional network with multiple layers of inception modules, each consisting of parallel branches of different sizes.\n",
      "4. **Experimental Results**:\n",
      "\n",
      "The document provides a table (Figure 5) illustrating the architecture of the Inception model, showing the various layers and their corresponding input/output dimensions.\n",
      "\n",
      "**Conclusion**: The conclusion is not explicitly stated in this document.\n",
      "\n",
      "Please note that these documents seem to be describing a specific neural network architecture, rather than presenting a scientific study or experiment. Therefore, there may not be a traditional problem statement, existing method, proposed solution, experimental results, or conclusion.\n"
     ]
    }
   ],
   "source": [
    "prompt_template = \"\"\"you are excellent at summarizing scientific document {data}.\n",
    "Summary should be in the format of \n",
    "1. What is the problem statement?\n",
    "2. What is the existing method?\n",
    "3. What is the proposed solution and how is it different from the existing one?\n",
    "4. Include any experimental result like table or images.\n",
    "5. What is the conclusion?\n",
    "\"\"\"\n",
    "prompt = ChatPromptTemplate.from_template(prompt_template)\n",
    "chain = prompt | llm\n",
    "print(chain.invoke({\"data\" : data}))"
   ]
  },
  {
   "cell_type": "code",
   "execution_count": 71,
   "id": "89e18115",
   "metadata": {},
   "outputs": [
    {
     "data": {
      "text/plain": [
       "11"
      ]
     },
     "execution_count": 71,
     "metadata": {},
     "output_type": "execute_result"
    }
   ],
   "source": [
    "len(data)"
   ]
  },
  {
   "cell_type": "code",
   "execution_count": 72,
   "id": "be9a5857",
   "metadata": {},
   "outputs": [],
   "source": [
    "content = \"\"\n",
    "for d in data:\n",
    "    content += d.page_content\n",
    "    "
   ]
  },
  {
   "cell_type": "code",
   "execution_count": 77,
   "id": "46187449",
   "metadata": {},
   "outputs": [
    {
     "name": "stdout",
     "output_type": "stream",
     "text": [
      "Here's a summary of the scientific document in the format you requested:\n",
      "\n",
      "**1. Problem Statement:**\n",
      "The problem statement is to improve the performance of large-scale deep learning models, particularly in image recognition tasks.\n",
      "\n",
      "**2. Existing Method:**\n",
      "The existing method referred to is the GoogLeNet architecture, which was introduced by Szegedy et al. (2014). The original model consisted of 28×28 inception modules with average and maximum-pooling layers, as well as 5×5 convolutional layers.\n",
      "\n",
      "**3. Proposed Solution:**\n",
      "The proposed solution is a variant of the Inception model that modifies the architecture to improve performance and efficiency. The key changes are:\n",
      "\n",
      "* Replacing 5×5 convolutional layers with two consecutive 3×3 convolutional layers, which increases the maximum depth of the network and number of parameters.\n",
      "* Increasing the number of inception modules from 2 to 3.\n",
      "* Employing average and maximum-pooling layers within the inception modules.\n",
      "* Using stride-2 convolution/pooling layers before filter concatenation in some modules.\n",
      "\n",
      "The proposed model also employs separable convolution with a depth multiplier of 8 on the first convolutional layer, which reduces computational cost while increasing memory consumption during training.\n",
      "\n",
      "**4. Experimental Results:**\n",
      "Figure 5 shows the modified Inception architecture, highlighting the changes made to the original GoogLeNet model. The table provides a detailed breakdown of each module's components and dimensions.\n",
      "\n",
      "**5. Conclusion:**\n",
      "The proposed variant of the Inception model offers improved performance and efficiency in large-scale deep learning tasks, particularly image recognition. By modifying the architecture and incorporating separable convolution, the model reduces computational cost while maintaining or improving performance.\n"
     ]
    }
   ],
   "source": [
    "print(chain.invoke({\"data\" :content}))"
   ]
  },
  {
   "cell_type": "code",
   "execution_count": 75,
   "id": "c2a126e7",
   "metadata": {},
   "outputs": [
    {
     "data": {
      "text/plain": [
       "{'source': 'batch_normalization.pdf',\n",
       " 'file_path': 'batch_normalization.pdf',\n",
       " 'page': 0,\n",
       " 'total_pages': 11,\n",
       " 'format': 'PDF 1.4',\n",
       " 'title': '',\n",
       " 'author': '',\n",
       " 'subject': '',\n",
       " 'keywords': '',\n",
       " 'creator': 'LaTeX with hyperref package',\n",
       " 'producer': 'dvips + GPL Ghostscript GIT PRERELEASE 9.08',\n",
       " 'creationDate': \"D:20150302203121-05'00'\",\n",
       " 'modDate': \"D:20150302203121-05'00'\",\n",
       " 'trapped': ''}"
      ]
     },
     "execution_count": 75,
     "metadata": {},
     "output_type": "execute_result"
    }
   ],
   "source": [
    "data[0].metadata"
   ]
  },
  {
   "cell_type": "code",
   "execution_count": 78,
   "id": "72921043",
   "metadata": {},
   "outputs": [],
   "source": [
    "prompt_template1 = \"\"\"\n",
    "Could you please provide a concise and comprehensive summary of the given text? The summary should capture the main points and key details of the text while conveying the author's intended meaning accurately. Please ensure that the summary is well-organized and easy to read, with clear headings and subheadings to guide the reader through each section. The length of the summary should be appropriate to capture the main points and key details of the text, without including unnecessary information or becoming overly long.\n",
    "Document : {document}\n",
    "\"\"\""
   ]
  },
  {
   "cell_type": "code",
   "execution_count": 79,
   "id": "65d4b8a9",
   "metadata": {},
   "outputs": [],
   "source": [
    "prompt = ChatPromptTemplate.from_template(prompt_template1)\n",
    "chain = prompt | llm"
   ]
  },
  {
   "cell_type": "code",
   "execution_count": 80,
   "id": "b4d21bdf",
   "metadata": {},
   "outputs": [
    {
     "name": "stdout",
     "output_type": "stream",
     "text": [
      "Here is a concise and comprehensive summary of the text:\n",
      "\n",
      "The provided text appears to be an appendix or supplementary material for a research paper on deep learning. The main topic discussed is the architecture of the Inception Model, specifically the variant used in this study.\n",
      "\n",
      "The text begins by describing changes made to the GoogleNet architecture to create the new model. These changes include replacing 5x5 convolutional layers with two consecutive 3x3 layers, increasing the number of inception modules from 2 to 3, and employing average or maximum-pooling within some modules.\n",
      "\n",
      "The rest of the text presents a table (Figure 5) documenting the architecture of the Inception Model used in this study. The table shows the type of layer, patch size/stride, output size, depth, and number of layers for each module.\n",
      "\n",
      "The notable features of the model include:\n",
      "\n",
      "* Separable convolution with a depth multiplier of 8 on the first convolutional layer to reduce computational cost while increasing memory consumption at training time.\n",
      "* No across-the-board pooling layers between any two Inception modules.\n",
      "* Stride-2 convolution/pooling layers used before filter concatenation in some modules.\n",
      "\n",
      "Overall, this text provides an overview of the architecture and design choices made for the Inception Model used in a specific deep learning study.\n"
     ]
    }
   ],
   "source": [
    "print(chain.invoke({\"document\": content}))"
   ]
  },
  {
   "cell_type": "code",
   "execution_count": 83,
   "id": "f9421b06",
   "metadata": {},
   "outputs": [
    {
     "name": "stderr",
     "output_type": "stream",
     "text": [
      "huggingface/tokenizers: The current process just got forked, after parallelism has already been used. Disabling parallelism to avoid deadlocks...\n",
      "To disable this warning, you can either:\n",
      "\t- Avoid using `tokenizers` before the fork if possible\n",
      "\t- Explicitly set the environment variable TOKENIZERS_PARALLELISM=(true | false)\n"
     ]
    },
    {
     "name": "stdout",
     "output_type": "stream",
     "text": [
      "Collecting transformers==2.2.0\n",
      "  Obtaining dependency information for transformers==2.2.0 from https://files.pythonhosted.org/packages/ec/e7/0a1babead1b79afabb654fbec0a052e0d833ba4205a6dfd98b1aeda9c82e/transformers-2.2.0-py3-none-any.whl.metadata\n",
      "  Downloading transformers-2.2.0-py3-none-any.whl.metadata (32 kB)\n",
      "Requirement already satisfied: numpy in /Users/sandhyasangli/anaconda3/lib/python3.11/site-packages (from transformers==2.2.0) (2.0.2)\n",
      "Collecting boto3 (from transformers==2.2.0)\n",
      "  Obtaining dependency information for boto3 from https://files.pythonhosted.org/packages/94/83/81c3d2199f2196493b1f67852e6361a082ca05dc5d976432b86808b7db82/boto3-1.35.54-py3-none-any.whl.metadata\n",
      "  Downloading boto3-1.35.54-py3-none-any.whl.metadata (6.7 kB)\n",
      "Requirement already satisfied: requests in /Users/sandhyasangli/anaconda3/lib/python3.11/site-packages (from transformers==2.2.0) (2.31.0)\n",
      "Requirement already satisfied: tqdm in /Users/sandhyasangli/anaconda3/lib/python3.11/site-packages (from transformers==2.2.0) (4.65.0)\n",
      "Requirement already satisfied: regex in /Users/sandhyasangli/anaconda3/lib/python3.11/site-packages (from transformers==2.2.0) (2022.7.9)\n",
      "Collecting sentencepiece (from transformers==2.2.0)\n",
      "  Obtaining dependency information for sentencepiece from https://files.pythonhosted.org/packages/de/42/ae30952c4a0bd773e90c9bf2579f5533037c886dfc8ec68133d5694f4dd2/sentencepiece-0.2.0-cp311-cp311-macosx_11_0_arm64.whl.metadata\n",
      "  Downloading sentencepiece-0.2.0-cp311-cp311-macosx_11_0_arm64.whl.metadata (7.7 kB)\n",
      "Collecting sacremoses (from transformers==2.2.0)\n",
      "  Obtaining dependency information for sacremoses from https://files.pythonhosted.org/packages/0b/f0/89ee2bc9da434bd78464f288fdb346bc2932f2ee80a90b2a4bbbac262c74/sacremoses-0.1.1-py3-none-any.whl.metadata\n",
      "  Downloading sacremoses-0.1.1-py3-none-any.whl.metadata (8.3 kB)\n",
      "Collecting botocore<1.36.0,>=1.35.54 (from boto3->transformers==2.2.0)\n",
      "  Obtaining dependency information for botocore<1.36.0,>=1.35.54 from https://files.pythonhosted.org/packages/f2/cd/e79c87014d0ed371335273cbf8a2bc1fdd6dd2071ba6cb9efedb6e311504/botocore-1.35.54-py3-none-any.whl.metadata\n",
      "  Downloading botocore-1.35.54-py3-none-any.whl.metadata (5.7 kB)\n",
      "Requirement already satisfied: jmespath<2.0.0,>=0.7.1 in /Users/sandhyasangli/anaconda3/lib/python3.11/site-packages (from boto3->transformers==2.2.0) (0.10.0)\n",
      "Collecting s3transfer<0.11.0,>=0.10.0 (from boto3->transformers==2.2.0)\n",
      "  Obtaining dependency information for s3transfer<0.11.0,>=0.10.0 from https://files.pythonhosted.org/packages/e5/c0/b0fba8259b61c938c9733da9346b9f93e00881a9db22aafdd72f6ae0ec05/s3transfer-0.10.3-py3-none-any.whl.metadata\n",
      "  Downloading s3transfer-0.10.3-py3-none-any.whl.metadata (1.7 kB)\n",
      "Requirement already satisfied: charset-normalizer<4,>=2 in /Users/sandhyasangli/anaconda3/lib/python3.11/site-packages (from requests->transformers==2.2.0) (2.0.4)\n",
      "Requirement already satisfied: idna<4,>=2.5 in /Users/sandhyasangli/anaconda3/lib/python3.11/site-packages (from requests->transformers==2.2.0) (3.4)\n",
      "Requirement already satisfied: urllib3<3,>=1.21.1 in /Users/sandhyasangli/anaconda3/lib/python3.11/site-packages (from requests->transformers==2.2.0) (1.26.16)\n",
      "Requirement already satisfied: certifi>=2017.4.17 in /Users/sandhyasangli/anaconda3/lib/python3.11/site-packages (from requests->transformers==2.2.0) (2024.2.2)\n",
      "Requirement already satisfied: click in /Users/sandhyasangli/anaconda3/lib/python3.11/site-packages (from sacremoses->transformers==2.2.0) (8.0.4)\n",
      "Requirement already satisfied: joblib in /Users/sandhyasangli/anaconda3/lib/python3.11/site-packages (from sacremoses->transformers==2.2.0) (1.2.0)\n",
      "Requirement already satisfied: python-dateutil<3.0.0,>=2.1 in /Users/sandhyasangli/anaconda3/lib/python3.11/site-packages (from botocore<1.36.0,>=1.35.54->boto3->transformers==2.2.0) (2.8.2)\n",
      "Requirement already satisfied: six>=1.5 in /Users/sandhyasangli/anaconda3/lib/python3.11/site-packages (from python-dateutil<3.0.0,>=2.1->botocore<1.36.0,>=1.35.54->boto3->transformers==2.2.0) (1.16.0)\n",
      "Downloading transformers-2.2.0-py3-none-any.whl (360 kB)\n",
      "\u001b[2K   \u001b[38;2;114;156;31m━━━━━━━━━━━━━━━━━━━━━━━━━━━━━━━━━━━━━━━━\u001b[0m \u001b[32m360.6/360.6 kB\u001b[0m \u001b[31m7.8 MB/s\u001b[0m eta \u001b[36m0:00:00\u001b[0mm eta \u001b[36m0:00:01\u001b[0m\n",
      "\u001b[?25hDownloading boto3-1.35.54-py3-none-any.whl (139 kB)\n",
      "\u001b[2K   \u001b[38;2;114;156;31m━━━━━━━━━━━━━━━━━━━━━━━━━━━━━━━━━━━━━━━━\u001b[0m \u001b[32m139.2/139.2 kB\u001b[0m \u001b[31m15.4 MB/s\u001b[0m eta \u001b[36m0:00:00\u001b[0m\n",
      "\u001b[?25hDownloading sacremoses-0.1.1-py3-none-any.whl (897 kB)\n",
      "\u001b[2K   \u001b[38;2;114;156;31m━━━━━━━━━━━━━━━━━━━━━━━━━━━━━━━━━━━━━━━━\u001b[0m \u001b[32m897.5/897.5 kB\u001b[0m \u001b[31m16.2 MB/s\u001b[0m eta \u001b[36m0:00:00\u001b[0m31m15.8 MB/s\u001b[0m eta \u001b[36m0:00:01\u001b[0m\n",
      "\u001b[?25hDownloading sentencepiece-0.2.0-cp311-cp311-macosx_11_0_arm64.whl (1.2 MB)\n",
      "\u001b[2K   \u001b[38;2;114;156;31m━━━━━━━━━━━━━━━━━━━━━━━━━━━━━━━━━━━━━━━━\u001b[0m \u001b[32m1.2/1.2 MB\u001b[0m \u001b[31m22.9 MB/s\u001b[0m eta \u001b[36m0:00:00\u001b[0m[36m0:00:01\u001b[0m\n",
      "\u001b[?25hDownloading botocore-1.35.54-py3-none-any.whl (12.7 MB)\n",
      "\u001b[2K   \u001b[38;2;114;156;31m━━━━━━━━━━━━━━━━━━━━━━━━━━━━━━━━━━━━━━━━\u001b[0m \u001b[32m12.7/12.7 MB\u001b[0m \u001b[31m7.8 MB/s\u001b[0m eta \u001b[36m0:00:00\u001b[0mm eta \u001b[36m0:00:01\u001b[0m0:01\u001b[0m:01\u001b[0m\n",
      "\u001b[?25hDownloading s3transfer-0.10.3-py3-none-any.whl (82 kB)\n",
      "\u001b[2K   \u001b[38;2;114;156;31m━━━━━━━━━━━━━━━━━━━━━━━━━━━━━━━━━━━━━━━━\u001b[0m \u001b[32m82.6/82.6 kB\u001b[0m \u001b[31m8.9 MB/s\u001b[0m eta \u001b[36m0:00:00\u001b[0m\n",
      "\u001b[?25hInstalling collected packages: sentencepiece, sacremoses, botocore, s3transfer, boto3, transformers\n",
      "  Attempting uninstall: botocore\n",
      "    Found existing installation: botocore 1.29.76\n",
      "    Uninstalling botocore-1.29.76:\n",
      "      Successfully uninstalled botocore-1.29.76\n",
      "  Attempting uninstall: transformers\n",
      "    Found existing installation: transformers 4.32.1\n",
      "    Uninstalling transformers-4.32.1:\n",
      "      Successfully uninstalled transformers-4.32.1\n",
      "\u001b[31mERROR: pip's dependency resolver does not currently take into account all the packages that are installed. This behaviour is the source of the following dependency conflicts.\n",
      "aiobotocore 2.5.0 requires botocore<1.29.77,>=1.29.76, but you have botocore 1.35.54 which is incompatible.\u001b[0m\u001b[31m\n",
      "\u001b[0mSuccessfully installed boto3-1.35.54 botocore-1.35.54 s3transfer-0.10.3 sacremoses-0.1.1 sentencepiece-0.2.0 transformers-2.2.0\n"
     ]
    },
    {
     "name": "stderr",
     "output_type": "stream",
     "text": [
      "huggingface/tokenizers: The current process just got forked, after parallelism has already been used. Disabling parallelism to avoid deadlocks...\n",
      "To disable this warning, you can either:\n",
      "\t- Avoid using `tokenizers` before the fork if possible\n",
      "\t- Explicitly set the environment variable TOKENIZERS_PARALLELISM=(true | false)\n"
     ]
    },
    {
     "name": "stdout",
     "output_type": "stream",
     "text": [
      "Requirement already satisfied: bert-extractive-summarizer in /Users/sandhyasangli/anaconda3/lib/python3.11/site-packages (0.10.1)\n",
      "Requirement already satisfied: transformers in /Users/sandhyasangli/anaconda3/lib/python3.11/site-packages (from bert-extractive-summarizer) (2.2.0)\n",
      "Requirement already satisfied: scikit-learn in /Users/sandhyasangli/anaconda3/lib/python3.11/site-packages (from bert-extractive-summarizer) (1.3.0)\n",
      "Requirement already satisfied: spacy in /Users/sandhyasangli/anaconda3/lib/python3.11/site-packages (from bert-extractive-summarizer) (3.8.2)\n",
      "Requirement already satisfied: numpy>=1.17.3 in /Users/sandhyasangli/anaconda3/lib/python3.11/site-packages (from scikit-learn->bert-extractive-summarizer) (2.0.2)\n",
      "Requirement already satisfied: scipy>=1.5.0 in /Users/sandhyasangli/anaconda3/lib/python3.11/site-packages (from scikit-learn->bert-extractive-summarizer) (1.14.1)\n",
      "Requirement already satisfied: joblib>=1.1.1 in /Users/sandhyasangli/anaconda3/lib/python3.11/site-packages (from scikit-learn->bert-extractive-summarizer) (1.2.0)\n",
      "Requirement already satisfied: threadpoolctl>=2.0.0 in /Users/sandhyasangli/anaconda3/lib/python3.11/site-packages (from scikit-learn->bert-extractive-summarizer) (2.2.0)\n",
      "Requirement already satisfied: spacy-legacy<3.1.0,>=3.0.11 in /Users/sandhyasangli/anaconda3/lib/python3.11/site-packages (from spacy->bert-extractive-summarizer) (3.0.12)\n",
      "Requirement already satisfied: spacy-loggers<2.0.0,>=1.0.0 in /Users/sandhyasangli/anaconda3/lib/python3.11/site-packages (from spacy->bert-extractive-summarizer) (1.0.5)\n",
      "Requirement already satisfied: murmurhash<1.1.0,>=0.28.0 in /Users/sandhyasangli/anaconda3/lib/python3.11/site-packages (from spacy->bert-extractive-summarizer) (1.0.10)\n",
      "Requirement already satisfied: cymem<2.1.0,>=2.0.2 in /Users/sandhyasangli/anaconda3/lib/python3.11/site-packages (from spacy->bert-extractive-summarizer) (2.0.8)\n",
      "Requirement already satisfied: preshed<3.1.0,>=3.0.2 in /Users/sandhyasangli/anaconda3/lib/python3.11/site-packages (from spacy->bert-extractive-summarizer) (3.0.9)\n",
      "Requirement already satisfied: thinc<8.4.0,>=8.3.0 in /Users/sandhyasangli/anaconda3/lib/python3.11/site-packages (from spacy->bert-extractive-summarizer) (8.3.2)\n",
      "Requirement already satisfied: wasabi<1.2.0,>=0.9.1 in /Users/sandhyasangli/anaconda3/lib/python3.11/site-packages (from spacy->bert-extractive-summarizer) (1.1.3)\n",
      "Requirement already satisfied: srsly<3.0.0,>=2.4.3 in /Users/sandhyasangli/anaconda3/lib/python3.11/site-packages (from spacy->bert-extractive-summarizer) (2.4.8)\n",
      "Requirement already satisfied: catalogue<2.1.0,>=2.0.6 in /Users/sandhyasangli/anaconda3/lib/python3.11/site-packages (from spacy->bert-extractive-summarizer) (2.0.10)\n",
      "Requirement already satisfied: weasel<0.5.0,>=0.1.0 in /Users/sandhyasangli/anaconda3/lib/python3.11/site-packages (from spacy->bert-extractive-summarizer) (0.4.1)\n",
      "Requirement already satisfied: typer<1.0.0,>=0.3.0 in /Users/sandhyasangli/anaconda3/lib/python3.11/site-packages (from spacy->bert-extractive-summarizer) (0.12.5)\n",
      "Requirement already satisfied: tqdm<5.0.0,>=4.38.0 in /Users/sandhyasangli/anaconda3/lib/python3.11/site-packages (from spacy->bert-extractive-summarizer) (4.65.0)\n",
      "Requirement already satisfied: requests<3.0.0,>=2.13.0 in /Users/sandhyasangli/anaconda3/lib/python3.11/site-packages (from spacy->bert-extractive-summarizer) (2.31.0)\n",
      "Requirement already satisfied: pydantic!=1.8,!=1.8.1,<3.0.0,>=1.7.4 in /Users/sandhyasangli/anaconda3/lib/python3.11/site-packages (from spacy->bert-extractive-summarizer) (1.10.8)\n",
      "Requirement already satisfied: jinja2 in /Users/sandhyasangli/anaconda3/lib/python3.11/site-packages (from spacy->bert-extractive-summarizer) (3.1.2)\n",
      "Requirement already satisfied: setuptools in /Users/sandhyasangli/anaconda3/lib/python3.11/site-packages (from spacy->bert-extractive-summarizer) (68.0.0)\n",
      "Requirement already satisfied: packaging>=20.0 in /Users/sandhyasangli/anaconda3/lib/python3.11/site-packages (from spacy->bert-extractive-summarizer) (23.1)\n",
      "Requirement already satisfied: langcodes<4.0.0,>=3.2.0 in /Users/sandhyasangli/anaconda3/lib/python3.11/site-packages (from spacy->bert-extractive-summarizer) (3.4.1)\n",
      "Requirement already satisfied: boto3 in /Users/sandhyasangli/anaconda3/lib/python3.11/site-packages (from transformers->bert-extractive-summarizer) (1.35.54)\n",
      "Requirement already satisfied: regex in /Users/sandhyasangli/anaconda3/lib/python3.11/site-packages (from transformers->bert-extractive-summarizer) (2022.7.9)\n",
      "Requirement already satisfied: sentencepiece in /Users/sandhyasangli/anaconda3/lib/python3.11/site-packages (from transformers->bert-extractive-summarizer) (0.2.0)\n",
      "Requirement already satisfied: sacremoses in /Users/sandhyasangli/anaconda3/lib/python3.11/site-packages (from transformers->bert-extractive-summarizer) (0.1.1)\n",
      "Requirement already satisfied: language-data>=1.2 in /Users/sandhyasangli/anaconda3/lib/python3.11/site-packages (from langcodes<4.0.0,>=3.2.0->spacy->bert-extractive-summarizer) (1.2.0)\n",
      "Requirement already satisfied: typing-extensions>=4.2.0 in /Users/sandhyasangli/anaconda3/lib/python3.11/site-packages (from pydantic!=1.8,!=1.8.1,<3.0.0,>=1.7.4->spacy->bert-extractive-summarizer) (4.7.1)\n",
      "Requirement already satisfied: charset-normalizer<4,>=2 in /Users/sandhyasangli/anaconda3/lib/python3.11/site-packages (from requests<3.0.0,>=2.13.0->spacy->bert-extractive-summarizer) (2.0.4)\n",
      "Requirement already satisfied: idna<4,>=2.5 in /Users/sandhyasangli/anaconda3/lib/python3.11/site-packages (from requests<3.0.0,>=2.13.0->spacy->bert-extractive-summarizer) (3.4)\n",
      "Requirement already satisfied: urllib3<3,>=1.21.1 in /Users/sandhyasangli/anaconda3/lib/python3.11/site-packages (from requests<3.0.0,>=2.13.0->spacy->bert-extractive-summarizer) (1.26.16)\n",
      "Requirement already satisfied: certifi>=2017.4.17 in /Users/sandhyasangli/anaconda3/lib/python3.11/site-packages (from requests<3.0.0,>=2.13.0->spacy->bert-extractive-summarizer) (2024.2.2)\n",
      "Requirement already satisfied: blis<1.1.0,>=1.0.0 in /Users/sandhyasangli/anaconda3/lib/python3.11/site-packages (from thinc<8.4.0,>=8.3.0->spacy->bert-extractive-summarizer) (1.0.1)\n",
      "Requirement already satisfied: confection<1.0.0,>=0.0.1 in /Users/sandhyasangli/anaconda3/lib/python3.11/site-packages (from thinc<8.4.0,>=8.3.0->spacy->bert-extractive-summarizer) (0.1.5)\n",
      "Requirement already satisfied: click>=8.0.0 in /Users/sandhyasangli/anaconda3/lib/python3.11/site-packages (from typer<1.0.0,>=0.3.0->spacy->bert-extractive-summarizer) (8.0.4)\n",
      "Requirement already satisfied: shellingham>=1.3.0 in /Users/sandhyasangli/anaconda3/lib/python3.11/site-packages (from typer<1.0.0,>=0.3.0->spacy->bert-extractive-summarizer) (1.5.4)\n",
      "Requirement already satisfied: rich>=10.11.0 in /Users/sandhyasangli/anaconda3/lib/python3.11/site-packages (from typer<1.0.0,>=0.3.0->spacy->bert-extractive-summarizer) (13.9.4)\n",
      "Requirement already satisfied: cloudpathlib<1.0.0,>=0.7.0 in /Users/sandhyasangli/anaconda3/lib/python3.11/site-packages (from weasel<0.5.0,>=0.1.0->spacy->bert-extractive-summarizer) (0.20.0)\n",
      "Requirement already satisfied: smart-open<8.0.0,>=5.2.1 in /Users/sandhyasangli/anaconda3/lib/python3.11/site-packages (from weasel<0.5.0,>=0.1.0->spacy->bert-extractive-summarizer) (5.2.1)\n",
      "Requirement already satisfied: botocore<1.36.0,>=1.35.54 in /Users/sandhyasangli/anaconda3/lib/python3.11/site-packages (from boto3->transformers->bert-extractive-summarizer) (1.35.54)\n",
      "Requirement already satisfied: jmespath<2.0.0,>=0.7.1 in /Users/sandhyasangli/anaconda3/lib/python3.11/site-packages (from boto3->transformers->bert-extractive-summarizer) (0.10.0)\n",
      "Requirement already satisfied: s3transfer<0.11.0,>=0.10.0 in /Users/sandhyasangli/anaconda3/lib/python3.11/site-packages (from boto3->transformers->bert-extractive-summarizer) (0.10.3)\n",
      "Requirement already satisfied: MarkupSafe>=2.0 in /Users/sandhyasangli/anaconda3/lib/python3.11/site-packages (from jinja2->spacy->bert-extractive-summarizer) (2.1.1)\n",
      "Requirement already satisfied: python-dateutil<3.0.0,>=2.1 in /Users/sandhyasangli/anaconda3/lib/python3.11/site-packages (from botocore<1.36.0,>=1.35.54->boto3->transformers->bert-extractive-summarizer) (2.8.2)\n",
      "Requirement already satisfied: marisa-trie>=0.7.7 in /Users/sandhyasangli/anaconda3/lib/python3.11/site-packages (from language-data>=1.2->langcodes<4.0.0,>=3.2.0->spacy->bert-extractive-summarizer) (1.2.1)\n",
      "Requirement already satisfied: markdown-it-py>=2.2.0 in /Users/sandhyasangli/anaconda3/lib/python3.11/site-packages (from rich>=10.11.0->typer<1.0.0,>=0.3.0->spacy->bert-extractive-summarizer) (2.2.0)\n",
      "Requirement already satisfied: pygments<3.0.0,>=2.13.0 in /Users/sandhyasangli/anaconda3/lib/python3.11/site-packages (from rich>=10.11.0->typer<1.0.0,>=0.3.0->spacy->bert-extractive-summarizer) (2.15.1)\n"
     ]
    },
    {
     "name": "stdout",
     "output_type": "stream",
     "text": [
      "Requirement already satisfied: mdurl~=0.1 in /Users/sandhyasangli/anaconda3/lib/python3.11/site-packages (from markdown-it-py>=2.2.0->rich>=10.11.0->typer<1.0.0,>=0.3.0->spacy->bert-extractive-summarizer) (0.1.0)\r\n",
      "Requirement already satisfied: six>=1.5 in /Users/sandhyasangli/anaconda3/lib/python3.11/site-packages (from python-dateutil<3.0.0,>=2.1->botocore<1.36.0,>=1.35.54->boto3->transformers->bert-extractive-summarizer) (1.16.0)\r\n"
     ]
    }
   ],
   "source": [
    "!pip install transformers==2.2.0\n",
    "!pip install bert-extractive-summarizer\n"
   ]
  },
  {
   "cell_type": "code",
   "execution_count": 85,
   "id": "68691e5c",
   "metadata": {},
   "outputs": [
    {
     "ename": "ModuleNotFoundError",
     "evalue": "No module named 'summarizer'",
     "output_type": "error",
     "traceback": [
      "\u001b[0;31m---------------------------------------------------------------------------\u001b[0m",
      "\u001b[0;31mModuleNotFoundError\u001b[0m                       Traceback (most recent call last)",
      "Cell \u001b[0;32mIn[85], line 1\u001b[0m\n\u001b[0;32m----> 1\u001b[0m \u001b[38;5;28;01mfrom\u001b[39;00m \u001b[38;5;21;01msummarizer\u001b[39;00m \u001b[38;5;28;01mimport\u001b[39;00m Summarizer\n",
      "\u001b[0;31mModuleNotFoundError\u001b[0m: No module named 'summarizer'"
     ]
    }
   ],
   "source": []
  },
  {
   "cell_type": "code",
   "execution_count": 89,
   "id": "821280ad",
   "metadata": {},
   "outputs": [],
   "source": [
    "prompt_template2 = \"\"\"\n",
    "Can you extract the metadata from the document : {document} ?\n",
    "\"\"\"\n",
    "prompt = ChatPromptTemplate.from_template(prompt_template2)\n",
    "chain =prompt | llm"
   ]
  },
  {
   "cell_type": "code",
   "execution_count": 90,
   "id": "6e6d8f0a",
   "metadata": {},
   "outputs": [
    {
     "name": "stdout",
     "output_type": "stream",
     "text": [
      "Here is the extracted metadata from the document:\n",
      "\n",
      "* arXiv ID: 150\n",
      "* Authors:\n",
      "\t+ Simon, Wiesler, Richard, Alexander, Schluter, Ralf, and Ney, Hermann\n",
      "\t+ Wu, Ren, Yan, Shengen, Shan, Yi, Dang, Qingqing, and Sun, Gang (in the reference)\n",
      "* Title: None provided\n",
      "* Conference proceedings:\n",
      "\t+ Advances in Neural Information Processing Systems 24, pp. 657–665, Granada, Spain, December 2011\n",
      "\t+ IEEE International Conference on Acoustics, Speech, and Signal Processing, pp. 180–184, Florence, Italy, May 2014\n",
      "* Reference:\n",
      "\t+ Szegedy et al., 2014 (consulted for the interpretation of Figure 5)\n",
      "\n",
      "Let me know if you need any further assistance!\n"
     ]
    }
   ],
   "source": [
    "print(chain.invoke({\"document\": content}))"
   ]
  },
  {
   "cell_type": "code",
   "execution_count": 91,
   "id": "a9d9a93d",
   "metadata": {},
   "outputs": [
    {
     "data": {
      "text/plain": [
       "{'source': 'batch_normalization.pdf',\n",
       " 'file_path': 'batch_normalization.pdf',\n",
       " 'page': 0,\n",
       " 'total_pages': 11,\n",
       " 'format': 'PDF 1.4',\n",
       " 'title': '',\n",
       " 'author': '',\n",
       " 'subject': '',\n",
       " 'keywords': '',\n",
       " 'creator': 'LaTeX with hyperref package',\n",
       " 'producer': 'dvips + GPL Ghostscript GIT PRERELEASE 9.08',\n",
       " 'creationDate': \"D:20150302203121-05'00'\",\n",
       " 'modDate': \"D:20150302203121-05'00'\",\n",
       " 'trapped': ''}"
      ]
     },
     "execution_count": 91,
     "metadata": {},
     "output_type": "execute_result"
    }
   ],
   "source": [
    "data[0].metadata"
   ]
  },
  {
   "cell_type": "code",
   "execution_count": 95,
   "id": "ef652fd3",
   "metadata": {},
   "outputs": [],
   "source": [
    "metadata = []\n",
    "for d in data:\n",
    "    metadata.append(d.metadata)\n",
    "    "
   ]
  },
  {
   "cell_type": "code",
   "execution_count": 96,
   "id": "e3c44730",
   "metadata": {},
   "outputs": [
    {
     "data": {
      "text/plain": [
       "[{'source': 'batch_normalization.pdf',\n",
       "  'file_path': 'batch_normalization.pdf',\n",
       "  'page': 0,\n",
       "  'total_pages': 11,\n",
       "  'format': 'PDF 1.4',\n",
       "  'title': '',\n",
       "  'author': '',\n",
       "  'subject': '',\n",
       "  'keywords': '',\n",
       "  'creator': 'LaTeX with hyperref package',\n",
       "  'producer': 'dvips + GPL Ghostscript GIT PRERELEASE 9.08',\n",
       "  'creationDate': \"D:20150302203121-05'00'\",\n",
       "  'modDate': \"D:20150302203121-05'00'\",\n",
       "  'trapped': ''},\n",
       " {'source': 'batch_normalization.pdf',\n",
       "  'file_path': 'batch_normalization.pdf',\n",
       "  'page': 1,\n",
       "  'total_pages': 11,\n",
       "  'format': 'PDF 1.4',\n",
       "  'title': '',\n",
       "  'author': '',\n",
       "  'subject': '',\n",
       "  'keywords': '',\n",
       "  'creator': 'LaTeX with hyperref package',\n",
       "  'producer': 'dvips + GPL Ghostscript GIT PRERELEASE 9.08',\n",
       "  'creationDate': \"D:20150302203121-05'00'\",\n",
       "  'modDate': \"D:20150302203121-05'00'\",\n",
       "  'trapped': ''},\n",
       " {'source': 'batch_normalization.pdf',\n",
       "  'file_path': 'batch_normalization.pdf',\n",
       "  'page': 2,\n",
       "  'total_pages': 11,\n",
       "  'format': 'PDF 1.4',\n",
       "  'title': '',\n",
       "  'author': '',\n",
       "  'subject': '',\n",
       "  'keywords': '',\n",
       "  'creator': 'LaTeX with hyperref package',\n",
       "  'producer': 'dvips + GPL Ghostscript GIT PRERELEASE 9.08',\n",
       "  'creationDate': \"D:20150302203121-05'00'\",\n",
       "  'modDate': \"D:20150302203121-05'00'\",\n",
       "  'trapped': ''},\n",
       " {'source': 'batch_normalization.pdf',\n",
       "  'file_path': 'batch_normalization.pdf',\n",
       "  'page': 3,\n",
       "  'total_pages': 11,\n",
       "  'format': 'PDF 1.4',\n",
       "  'title': '',\n",
       "  'author': '',\n",
       "  'subject': '',\n",
       "  'keywords': '',\n",
       "  'creator': 'LaTeX with hyperref package',\n",
       "  'producer': 'dvips + GPL Ghostscript GIT PRERELEASE 9.08',\n",
       "  'creationDate': \"D:20150302203121-05'00'\",\n",
       "  'modDate': \"D:20150302203121-05'00'\",\n",
       "  'trapped': ''},\n",
       " {'source': 'batch_normalization.pdf',\n",
       "  'file_path': 'batch_normalization.pdf',\n",
       "  'page': 4,\n",
       "  'total_pages': 11,\n",
       "  'format': 'PDF 1.4',\n",
       "  'title': '',\n",
       "  'author': '',\n",
       "  'subject': '',\n",
       "  'keywords': '',\n",
       "  'creator': 'LaTeX with hyperref package',\n",
       "  'producer': 'dvips + GPL Ghostscript GIT PRERELEASE 9.08',\n",
       "  'creationDate': \"D:20150302203121-05'00'\",\n",
       "  'modDate': \"D:20150302203121-05'00'\",\n",
       "  'trapped': ''},\n",
       " {'source': 'batch_normalization.pdf',\n",
       "  'file_path': 'batch_normalization.pdf',\n",
       "  'page': 5,\n",
       "  'total_pages': 11,\n",
       "  'format': 'PDF 1.4',\n",
       "  'title': '',\n",
       "  'author': '',\n",
       "  'subject': '',\n",
       "  'keywords': '',\n",
       "  'creator': 'LaTeX with hyperref package',\n",
       "  'producer': 'dvips + GPL Ghostscript GIT PRERELEASE 9.08',\n",
       "  'creationDate': \"D:20150302203121-05'00'\",\n",
       "  'modDate': \"D:20150302203121-05'00'\",\n",
       "  'trapped': ''},\n",
       " {'source': 'batch_normalization.pdf',\n",
       "  'file_path': 'batch_normalization.pdf',\n",
       "  'page': 6,\n",
       "  'total_pages': 11,\n",
       "  'format': 'PDF 1.4',\n",
       "  'title': '',\n",
       "  'author': '',\n",
       "  'subject': '',\n",
       "  'keywords': '',\n",
       "  'creator': 'LaTeX with hyperref package',\n",
       "  'producer': 'dvips + GPL Ghostscript GIT PRERELEASE 9.08',\n",
       "  'creationDate': \"D:20150302203121-05'00'\",\n",
       "  'modDate': \"D:20150302203121-05'00'\",\n",
       "  'trapped': ''},\n",
       " {'source': 'batch_normalization.pdf',\n",
       "  'file_path': 'batch_normalization.pdf',\n",
       "  'page': 7,\n",
       "  'total_pages': 11,\n",
       "  'format': 'PDF 1.4',\n",
       "  'title': '',\n",
       "  'author': '',\n",
       "  'subject': '',\n",
       "  'keywords': '',\n",
       "  'creator': 'LaTeX with hyperref package',\n",
       "  'producer': 'dvips + GPL Ghostscript GIT PRERELEASE 9.08',\n",
       "  'creationDate': \"D:20150302203121-05'00'\",\n",
       "  'modDate': \"D:20150302203121-05'00'\",\n",
       "  'trapped': ''},\n",
       " {'source': 'batch_normalization.pdf',\n",
       "  'file_path': 'batch_normalization.pdf',\n",
       "  'page': 8,\n",
       "  'total_pages': 11,\n",
       "  'format': 'PDF 1.4',\n",
       "  'title': '',\n",
       "  'author': '',\n",
       "  'subject': '',\n",
       "  'keywords': '',\n",
       "  'creator': 'LaTeX with hyperref package',\n",
       "  'producer': 'dvips + GPL Ghostscript GIT PRERELEASE 9.08',\n",
       "  'creationDate': \"D:20150302203121-05'00'\",\n",
       "  'modDate': \"D:20150302203121-05'00'\",\n",
       "  'trapped': ''},\n",
       " {'source': 'batch_normalization.pdf',\n",
       "  'file_path': 'batch_normalization.pdf',\n",
       "  'page': 9,\n",
       "  'total_pages': 11,\n",
       "  'format': 'PDF 1.4',\n",
       "  'title': '',\n",
       "  'author': '',\n",
       "  'subject': '',\n",
       "  'keywords': '',\n",
       "  'creator': 'LaTeX with hyperref package',\n",
       "  'producer': 'dvips + GPL Ghostscript GIT PRERELEASE 9.08',\n",
       "  'creationDate': \"D:20150302203121-05'00'\",\n",
       "  'modDate': \"D:20150302203121-05'00'\",\n",
       "  'trapped': ''},\n",
       " {'source': 'batch_normalization.pdf',\n",
       "  'file_path': 'batch_normalization.pdf',\n",
       "  'page': 10,\n",
       "  'total_pages': 11,\n",
       "  'format': 'PDF 1.4',\n",
       "  'title': '',\n",
       "  'author': '',\n",
       "  'subject': '',\n",
       "  'keywords': '',\n",
       "  'creator': 'LaTeX with hyperref package',\n",
       "  'producer': 'dvips + GPL Ghostscript GIT PRERELEASE 9.08',\n",
       "  'creationDate': \"D:20150302203121-05'00'\",\n",
       "  'modDate': \"D:20150302203121-05'00'\",\n",
       "  'trapped': ''}]"
      ]
     },
     "execution_count": 96,
     "metadata": {},
     "output_type": "execute_result"
    }
   ],
   "source": [
    "metadata"
   ]
  },
  {
   "cell_type": "code",
   "execution_count": 100,
   "id": "9de77489",
   "metadata": {},
   "outputs": [
    {
     "data": {
      "text/plain": [
       "torch.Size([382, 384])"
      ]
     },
     "execution_count": 100,
     "metadata": {},
     "output_type": "execute_result"
    }
   ],
   "source": [
    "sent_embeddings.shape"
   ]
  },
  {
   "cell_type": "code",
   "execution_count": 103,
   "id": "336924a2",
   "metadata": {},
   "outputs": [],
   "source": [
    "from sklearn.cluster import KMeans\n"
   ]
  },
  {
   "cell_type": "code",
   "execution_count": 161,
   "id": "e2f76d98",
   "metadata": {},
   "outputs": [],
   "source": [
    "km = KMeans(n_clusters=8)\n"
   ]
  },
  {
   "cell_type": "code",
   "execution_count": 162,
   "id": "bd787fa6",
   "metadata": {},
   "outputs": [
    {
     "data": {
      "text/html": [
       "<style>#sk-container-id-3 {\n",
       "  /* Definition of color scheme common for light and dark mode */\n",
       "  --sklearn-color-text: black;\n",
       "  --sklearn-color-line: gray;\n",
       "  /* Definition of color scheme for unfitted estimators */\n",
       "  --sklearn-color-unfitted-level-0: #fff5e6;\n",
       "  --sklearn-color-unfitted-level-1: #f6e4d2;\n",
       "  --sklearn-color-unfitted-level-2: #ffe0b3;\n",
       "  --sklearn-color-unfitted-level-3: chocolate;\n",
       "  /* Definition of color scheme for fitted estimators */\n",
       "  --sklearn-color-fitted-level-0: #f0f8ff;\n",
       "  --sklearn-color-fitted-level-1: #d4ebff;\n",
       "  --sklearn-color-fitted-level-2: #b3dbfd;\n",
       "  --sklearn-color-fitted-level-3: cornflowerblue;\n",
       "\n",
       "  /* Specific color for light theme */\n",
       "  --sklearn-color-text-on-default-background: var(--sg-text-color, var(--theme-code-foreground, var(--jp-content-font-color1, black)));\n",
       "  --sklearn-color-background: var(--sg-background-color, var(--theme-background, var(--jp-layout-color0, white)));\n",
       "  --sklearn-color-border-box: var(--sg-text-color, var(--theme-code-foreground, var(--jp-content-font-color1, black)));\n",
       "  --sklearn-color-icon: #696969;\n",
       "\n",
       "  @media (prefers-color-scheme: dark) {\n",
       "    /* Redefinition of color scheme for dark theme */\n",
       "    --sklearn-color-text-on-default-background: var(--sg-text-color, var(--theme-code-foreground, var(--jp-content-font-color1, white)));\n",
       "    --sklearn-color-background: var(--sg-background-color, var(--theme-background, var(--jp-layout-color0, #111)));\n",
       "    --sklearn-color-border-box: var(--sg-text-color, var(--theme-code-foreground, var(--jp-content-font-color1, white)));\n",
       "    --sklearn-color-icon: #878787;\n",
       "  }\n",
       "}\n",
       "\n",
       "#sk-container-id-3 {\n",
       "  color: var(--sklearn-color-text);\n",
       "}\n",
       "\n",
       "#sk-container-id-3 pre {\n",
       "  padding: 0;\n",
       "}\n",
       "\n",
       "#sk-container-id-3 input.sk-hidden--visually {\n",
       "  border: 0;\n",
       "  clip: rect(1px 1px 1px 1px);\n",
       "  clip: rect(1px, 1px, 1px, 1px);\n",
       "  height: 1px;\n",
       "  margin: -1px;\n",
       "  overflow: hidden;\n",
       "  padding: 0;\n",
       "  position: absolute;\n",
       "  width: 1px;\n",
       "}\n",
       "\n",
       "#sk-container-id-3 div.sk-dashed-wrapped {\n",
       "  border: 1px dashed var(--sklearn-color-line);\n",
       "  margin: 0 0.4em 0.5em 0.4em;\n",
       "  box-sizing: border-box;\n",
       "  padding-bottom: 0.4em;\n",
       "  background-color: var(--sklearn-color-background);\n",
       "}\n",
       "\n",
       "#sk-container-id-3 div.sk-container {\n",
       "  /* jupyter's `normalize.less` sets `[hidden] { display: none; }`\n",
       "     but bootstrap.min.css set `[hidden] { display: none !important; }`\n",
       "     so we also need the `!important` here to be able to override the\n",
       "     default hidden behavior on the sphinx rendered scikit-learn.org.\n",
       "     See: https://github.com/scikit-learn/scikit-learn/issues/21755 */\n",
       "  display: inline-block !important;\n",
       "  position: relative;\n",
       "}\n",
       "\n",
       "#sk-container-id-3 div.sk-text-repr-fallback {\n",
       "  display: none;\n",
       "}\n",
       "\n",
       "div.sk-parallel-item,\n",
       "div.sk-serial,\n",
       "div.sk-item {\n",
       "  /* draw centered vertical line to link estimators */\n",
       "  background-image: linear-gradient(var(--sklearn-color-text-on-default-background), var(--sklearn-color-text-on-default-background));\n",
       "  background-size: 2px 100%;\n",
       "  background-repeat: no-repeat;\n",
       "  background-position: center center;\n",
       "}\n",
       "\n",
       "/* Parallel-specific style estimator block */\n",
       "\n",
       "#sk-container-id-3 div.sk-parallel-item::after {\n",
       "  content: \"\";\n",
       "  width: 100%;\n",
       "  border-bottom: 2px solid var(--sklearn-color-text-on-default-background);\n",
       "  flex-grow: 1;\n",
       "}\n",
       "\n",
       "#sk-container-id-3 div.sk-parallel {\n",
       "  display: flex;\n",
       "  align-items: stretch;\n",
       "  justify-content: center;\n",
       "  background-color: var(--sklearn-color-background);\n",
       "  position: relative;\n",
       "}\n",
       "\n",
       "#sk-container-id-3 div.sk-parallel-item {\n",
       "  display: flex;\n",
       "  flex-direction: column;\n",
       "}\n",
       "\n",
       "#sk-container-id-3 div.sk-parallel-item:first-child::after {\n",
       "  align-self: flex-end;\n",
       "  width: 50%;\n",
       "}\n",
       "\n",
       "#sk-container-id-3 div.sk-parallel-item:last-child::after {\n",
       "  align-self: flex-start;\n",
       "  width: 50%;\n",
       "}\n",
       "\n",
       "#sk-container-id-3 div.sk-parallel-item:only-child::after {\n",
       "  width: 0;\n",
       "}\n",
       "\n",
       "/* Serial-specific style estimator block */\n",
       "\n",
       "#sk-container-id-3 div.sk-serial {\n",
       "  display: flex;\n",
       "  flex-direction: column;\n",
       "  align-items: center;\n",
       "  background-color: var(--sklearn-color-background);\n",
       "  padding-right: 1em;\n",
       "  padding-left: 1em;\n",
       "}\n",
       "\n",
       "\n",
       "/* Toggleable style: style used for estimator/Pipeline/ColumnTransformer box that is\n",
       "clickable and can be expanded/collapsed.\n",
       "- Pipeline and ColumnTransformer use this feature and define the default style\n",
       "- Estimators will overwrite some part of the style using the `sk-estimator` class\n",
       "*/\n",
       "\n",
       "/* Pipeline and ColumnTransformer style (default) */\n",
       "\n",
       "#sk-container-id-3 div.sk-toggleable {\n",
       "  /* Default theme specific background. It is overwritten whether we have a\n",
       "  specific estimator or a Pipeline/ColumnTransformer */\n",
       "  background-color: var(--sklearn-color-background);\n",
       "}\n",
       "\n",
       "/* Toggleable label */\n",
       "#sk-container-id-3 label.sk-toggleable__label {\n",
       "  cursor: pointer;\n",
       "  display: block;\n",
       "  width: 100%;\n",
       "  margin-bottom: 0;\n",
       "  padding: 0.5em;\n",
       "  box-sizing: border-box;\n",
       "  text-align: center;\n",
       "}\n",
       "\n",
       "#sk-container-id-3 label.sk-toggleable__label-arrow:before {\n",
       "  /* Arrow on the left of the label */\n",
       "  content: \"▸\";\n",
       "  float: left;\n",
       "  margin-right: 0.25em;\n",
       "  color: var(--sklearn-color-icon);\n",
       "}\n",
       "\n",
       "#sk-container-id-3 label.sk-toggleable__label-arrow:hover:before {\n",
       "  color: var(--sklearn-color-text);\n",
       "}\n",
       "\n",
       "/* Toggleable content - dropdown */\n",
       "\n",
       "#sk-container-id-3 div.sk-toggleable__content {\n",
       "  max-height: 0;\n",
       "  max-width: 0;\n",
       "  overflow: hidden;\n",
       "  text-align: left;\n",
       "  /* unfitted */\n",
       "  background-color: var(--sklearn-color-unfitted-level-0);\n",
       "}\n",
       "\n",
       "#sk-container-id-3 div.sk-toggleable__content.fitted {\n",
       "  /* fitted */\n",
       "  background-color: var(--sklearn-color-fitted-level-0);\n",
       "}\n",
       "\n",
       "#sk-container-id-3 div.sk-toggleable__content pre {\n",
       "  margin: 0.2em;\n",
       "  border-radius: 0.25em;\n",
       "  color: var(--sklearn-color-text);\n",
       "  /* unfitted */\n",
       "  background-color: var(--sklearn-color-unfitted-level-0);\n",
       "}\n",
       "\n",
       "#sk-container-id-3 div.sk-toggleable__content.fitted pre {\n",
       "  /* unfitted */\n",
       "  background-color: var(--sklearn-color-fitted-level-0);\n",
       "}\n",
       "\n",
       "#sk-container-id-3 input.sk-toggleable__control:checked~div.sk-toggleable__content {\n",
       "  /* Expand drop-down */\n",
       "  max-height: 200px;\n",
       "  max-width: 100%;\n",
       "  overflow: auto;\n",
       "}\n",
       "\n",
       "#sk-container-id-3 input.sk-toggleable__control:checked~label.sk-toggleable__label-arrow:before {\n",
       "  content: \"▾\";\n",
       "}\n",
       "\n",
       "/* Pipeline/ColumnTransformer-specific style */\n",
       "\n",
       "#sk-container-id-3 div.sk-label input.sk-toggleable__control:checked~label.sk-toggleable__label {\n",
       "  color: var(--sklearn-color-text);\n",
       "  background-color: var(--sklearn-color-unfitted-level-2);\n",
       "}\n",
       "\n",
       "#sk-container-id-3 div.sk-label.fitted input.sk-toggleable__control:checked~label.sk-toggleable__label {\n",
       "  background-color: var(--sklearn-color-fitted-level-2);\n",
       "}\n",
       "\n",
       "/* Estimator-specific style */\n",
       "\n",
       "/* Colorize estimator box */\n",
       "#sk-container-id-3 div.sk-estimator input.sk-toggleable__control:checked~label.sk-toggleable__label {\n",
       "  /* unfitted */\n",
       "  background-color: var(--sklearn-color-unfitted-level-2);\n",
       "}\n",
       "\n",
       "#sk-container-id-3 div.sk-estimator.fitted input.sk-toggleable__control:checked~label.sk-toggleable__label {\n",
       "  /* fitted */\n",
       "  background-color: var(--sklearn-color-fitted-level-2);\n",
       "}\n",
       "\n",
       "#sk-container-id-3 div.sk-label label.sk-toggleable__label,\n",
       "#sk-container-id-3 div.sk-label label {\n",
       "  /* The background is the default theme color */\n",
       "  color: var(--sklearn-color-text-on-default-background);\n",
       "}\n",
       "\n",
       "/* On hover, darken the color of the background */\n",
       "#sk-container-id-3 div.sk-label:hover label.sk-toggleable__label {\n",
       "  color: var(--sklearn-color-text);\n",
       "  background-color: var(--sklearn-color-unfitted-level-2);\n",
       "}\n",
       "\n",
       "/* Label box, darken color on hover, fitted */\n",
       "#sk-container-id-3 div.sk-label.fitted:hover label.sk-toggleable__label.fitted {\n",
       "  color: var(--sklearn-color-text);\n",
       "  background-color: var(--sklearn-color-fitted-level-2);\n",
       "}\n",
       "\n",
       "/* Estimator label */\n",
       "\n",
       "#sk-container-id-3 div.sk-label label {\n",
       "  font-family: monospace;\n",
       "  font-weight: bold;\n",
       "  display: inline-block;\n",
       "  line-height: 1.2em;\n",
       "}\n",
       "\n",
       "#sk-container-id-3 div.sk-label-container {\n",
       "  text-align: center;\n",
       "}\n",
       "\n",
       "/* Estimator-specific */\n",
       "#sk-container-id-3 div.sk-estimator {\n",
       "  font-family: monospace;\n",
       "  border: 1px dotted var(--sklearn-color-border-box);\n",
       "  border-radius: 0.25em;\n",
       "  box-sizing: border-box;\n",
       "  margin-bottom: 0.5em;\n",
       "  /* unfitted */\n",
       "  background-color: var(--sklearn-color-unfitted-level-0);\n",
       "}\n",
       "\n",
       "#sk-container-id-3 div.sk-estimator.fitted {\n",
       "  /* fitted */\n",
       "  background-color: var(--sklearn-color-fitted-level-0);\n",
       "}\n",
       "\n",
       "/* on hover */\n",
       "#sk-container-id-3 div.sk-estimator:hover {\n",
       "  /* unfitted */\n",
       "  background-color: var(--sklearn-color-unfitted-level-2);\n",
       "}\n",
       "\n",
       "#sk-container-id-3 div.sk-estimator.fitted:hover {\n",
       "  /* fitted */\n",
       "  background-color: var(--sklearn-color-fitted-level-2);\n",
       "}\n",
       "\n",
       "/* Specification for estimator info (e.g. \"i\" and \"?\") */\n",
       "\n",
       "/* Common style for \"i\" and \"?\" */\n",
       "\n",
       ".sk-estimator-doc-link,\n",
       "a:link.sk-estimator-doc-link,\n",
       "a:visited.sk-estimator-doc-link {\n",
       "  float: right;\n",
       "  font-size: smaller;\n",
       "  line-height: 1em;\n",
       "  font-family: monospace;\n",
       "  background-color: var(--sklearn-color-background);\n",
       "  border-radius: 1em;\n",
       "  height: 1em;\n",
       "  width: 1em;\n",
       "  text-decoration: none !important;\n",
       "  margin-left: 1ex;\n",
       "  /* unfitted */\n",
       "  border: var(--sklearn-color-unfitted-level-1) 1pt solid;\n",
       "  color: var(--sklearn-color-unfitted-level-1);\n",
       "}\n",
       "\n",
       ".sk-estimator-doc-link.fitted,\n",
       "a:link.sk-estimator-doc-link.fitted,\n",
       "a:visited.sk-estimator-doc-link.fitted {\n",
       "  /* fitted */\n",
       "  border: var(--sklearn-color-fitted-level-1) 1pt solid;\n",
       "  color: var(--sklearn-color-fitted-level-1);\n",
       "}\n",
       "\n",
       "/* On hover */\n",
       "div.sk-estimator:hover .sk-estimator-doc-link:hover,\n",
       ".sk-estimator-doc-link:hover,\n",
       "div.sk-label-container:hover .sk-estimator-doc-link:hover,\n",
       ".sk-estimator-doc-link:hover {\n",
       "  /* unfitted */\n",
       "  background-color: var(--sklearn-color-unfitted-level-3);\n",
       "  color: var(--sklearn-color-background);\n",
       "  text-decoration: none;\n",
       "}\n",
       "\n",
       "div.sk-estimator.fitted:hover .sk-estimator-doc-link.fitted:hover,\n",
       ".sk-estimator-doc-link.fitted:hover,\n",
       "div.sk-label-container:hover .sk-estimator-doc-link.fitted:hover,\n",
       ".sk-estimator-doc-link.fitted:hover {\n",
       "  /* fitted */\n",
       "  background-color: var(--sklearn-color-fitted-level-3);\n",
       "  color: var(--sklearn-color-background);\n",
       "  text-decoration: none;\n",
       "}\n",
       "\n",
       "/* Span, style for the box shown on hovering the info icon */\n",
       ".sk-estimator-doc-link span {\n",
       "  display: none;\n",
       "  z-index: 9999;\n",
       "  position: relative;\n",
       "  font-weight: normal;\n",
       "  right: .2ex;\n",
       "  padding: .5ex;\n",
       "  margin: .5ex;\n",
       "  width: min-content;\n",
       "  min-width: 20ex;\n",
       "  max-width: 50ex;\n",
       "  color: var(--sklearn-color-text);\n",
       "  box-shadow: 2pt 2pt 4pt #999;\n",
       "  /* unfitted */\n",
       "  background: var(--sklearn-color-unfitted-level-0);\n",
       "  border: .5pt solid var(--sklearn-color-unfitted-level-3);\n",
       "}\n",
       "\n",
       ".sk-estimator-doc-link.fitted span {\n",
       "  /* fitted */\n",
       "  background: var(--sklearn-color-fitted-level-0);\n",
       "  border: var(--sklearn-color-fitted-level-3);\n",
       "}\n",
       "\n",
       ".sk-estimator-doc-link:hover span {\n",
       "  display: block;\n",
       "}\n",
       "\n",
       "/* \"?\"-specific style due to the `<a>` HTML tag */\n",
       "\n",
       "#sk-container-id-3 a.estimator_doc_link {\n",
       "  float: right;\n",
       "  font-size: 1rem;\n",
       "  line-height: 1em;\n",
       "  font-family: monospace;\n",
       "  background-color: var(--sklearn-color-background);\n",
       "  border-radius: 1rem;\n",
       "  height: 1rem;\n",
       "  width: 1rem;\n",
       "  text-decoration: none;\n",
       "  /* unfitted */\n",
       "  color: var(--sklearn-color-unfitted-level-1);\n",
       "  border: var(--sklearn-color-unfitted-level-1) 1pt solid;\n",
       "}\n",
       "\n",
       "#sk-container-id-3 a.estimator_doc_link.fitted {\n",
       "  /* fitted */\n",
       "  border: var(--sklearn-color-fitted-level-1) 1pt solid;\n",
       "  color: var(--sklearn-color-fitted-level-1);\n",
       "}\n",
       "\n",
       "/* On hover */\n",
       "#sk-container-id-3 a.estimator_doc_link:hover {\n",
       "  /* unfitted */\n",
       "  background-color: var(--sklearn-color-unfitted-level-3);\n",
       "  color: var(--sklearn-color-background);\n",
       "  text-decoration: none;\n",
       "}\n",
       "\n",
       "#sk-container-id-3 a.estimator_doc_link.fitted:hover {\n",
       "  /* fitted */\n",
       "  background-color: var(--sklearn-color-fitted-level-3);\n",
       "}\n",
       "</style><div id=\"sk-container-id-3\" class=\"sk-top-container\"><div class=\"sk-text-repr-fallback\"><pre>KMeans()</pre><b>In a Jupyter environment, please rerun this cell to show the HTML representation or trust the notebook. <br />On GitHub, the HTML representation is unable to render, please try loading this page with nbviewer.org.</b></div><div class=\"sk-container\" hidden><div class=\"sk-item\"><div class=\"sk-estimator fitted sk-toggleable\"><input class=\"sk-toggleable__control sk-hidden--visually\" id=\"sk-estimator-id-3\" type=\"checkbox\" checked><label for=\"sk-estimator-id-3\" class=\"sk-toggleable__label fitted sk-toggleable__label-arrow fitted\">&nbsp;&nbsp;KMeans<a class=\"sk-estimator-doc-link fitted\" rel=\"noreferrer\" target=\"_blank\" href=\"https://scikit-learn.org/1.4/modules/generated/sklearn.cluster.KMeans.html\">?<span>Documentation for KMeans</span></a><span class=\"sk-estimator-doc-link fitted\">i<span>Fitted</span></span></label><div class=\"sk-toggleable__content fitted\"><pre>KMeans()</pre></div> </div></div></div></div>"
      ],
      "text/plain": [
       "KMeans()"
      ]
     },
     "execution_count": 162,
     "metadata": {},
     "output_type": "execute_result"
    }
   ],
   "source": [
    "km.fit(sent_embeddings)"
   ]
  },
  {
   "cell_type": "code",
   "execution_count": 163,
   "id": "789ea70f",
   "metadata": {},
   "outputs": [
    {
     "data": {
      "text/plain": [
       "(8, 384)"
      ]
     },
     "execution_count": 163,
     "metadata": {},
     "output_type": "execute_result"
    }
   ],
   "source": [
    "km.inertia_\n",
    "km.cluster_centers_.shape"
   ]
  },
  {
   "cell_type": "code",
   "execution_count": 110,
   "id": "71a94fa9",
   "metadata": {},
   "outputs": [],
   "source": [
    "from sklearn.decomposition import PCA\n",
    "from sklearn.preprocessing import StandardScaler\n",
    "\n",
    "pca = PCA(n_components=2)\n",
    "x = pca.fit_transform(sent_embeddings)"
   ]
  },
  {
   "cell_type": "code",
   "execution_count": 111,
   "id": "ac7a671a",
   "metadata": {},
   "outputs": [
    {
     "data": {
      "text/plain": [
       "(382, 2)"
      ]
     },
     "execution_count": 111,
     "metadata": {},
     "output_type": "execute_result"
    }
   ],
   "source": [
    "x.shape"
   ]
  },
  {
   "cell_type": "code",
   "execution_count": 112,
   "id": "c63a6515",
   "metadata": {},
   "outputs": [],
   "source": [
    "import matplotlib.pyplot as plt\n",
    "%matplotlib inline"
   ]
  },
  {
   "cell_type": "code",
   "execution_count": 113,
   "id": "317c4035",
   "metadata": {},
   "outputs": [
    {
     "data": {
      "text/plain": [
       "<matplotlib.collections.PathCollection at 0x3a6e00a70>"
      ]
     },
     "execution_count": 113,
     "metadata": {},
     "output_type": "execute_result"
    },
    {
     "data": {
      "image/png": "[encoded data removed]",
      "text/plain": [
       "<Figure size 640x480 with 1 Axes>"
      ]
     },
     "metadata": {},
     "output_type": "display_data"
    }
   ],
   "source": [
    "plt.scatter(x[:,0], x[:, 1])"
   ]
  },
  {
   "cell_type": "code",
   "execution_count": 115,
   "id": "dc3bba60",
   "metadata": {},
   "outputs": [],
   "source": [
    "km = KMeans(n_clusters=4)\n",
    "x1 = km.fit_transform(x)"
   ]
  },
  {
   "cell_type": "code",
   "execution_count": 116,
   "id": "98e5a60e",
   "metadata": {},
   "outputs": [
    {
     "data": {
      "text/plain": [
       "(382, 4)"
      ]
     },
     "execution_count": 116,
     "metadata": {},
     "output_type": "execute_result"
    }
   ],
   "source": [
    "x1.shape"
   ]
  },
  {
   "cell_type": "code",
   "execution_count": 117,
   "id": "f38e3f5e",
   "metadata": {},
   "outputs": [
    {
     "data": {
      "text/plain": [
       "array([[-0.17472293,  0.21427953],\n",
       "       [ 0.45320776, -0.03338043],\n",
       "       [-0.2229982 , -0.18313554],\n",
       "       [ 0.08742201,  0.00754515]])"
      ]
     },
     "execution_count": 117,
     "metadata": {},
     "output_type": "execute_result"
    }
   ],
   "source": [
    "km.cluster_centers_\n",
    "\n"
   ]
  },
  {
   "cell_type": "code",
   "execution_count": 120,
   "id": "7d4a1118",
   "metadata": {},
   "outputs": [
    {
     "data": {
      "image/png": "[encoded data removed]",
      "text/plain": [
       "<Figure size 640x480 with 1 Axes>"
      ]
     },
     "metadata": {},
     "output_type": "display_data"
    }
   ],
   "source": [
    "for centre in km.cluster_centers_:\n",
    "    plt.scatter(centre[0], centre[1], marker=\"^\")"
   ]
  },
  {
   "cell_type": "code",
   "execution_count": 121,
   "id": "f5cb2970",
   "metadata": {},
   "outputs": [
    {
     "data": {
      "text/plain": [
       "<matplotlib.collections.PathCollection at 0x3a6fe0d40>"
      ]
     },
     "execution_count": 121,
     "metadata": {},
     "output_type": "execute_result"
    },
    {
     "data": {
      "image/png": "[encoded data removed]",
      "text/plain": [
       "<Figure size 640x480 with 1 Axes>"
      ]
     },
     "metadata": {},
     "output_type": "display_data"
    }
   ],
   "source": [
    "plt.scatter(x[:, 0], x[:, 1])"
   ]
  },
  {
   "cell_type": "code",
   "execution_count": 124,
   "id": "a169e1cc",
   "metadata": {},
   "outputs": [
    {
     "data": {
      "image/png": "[encoded data removed]",
      "text/plain": [
       "<Figure size 1200x500 with 1 Axes>"
      ]
     },
     "metadata": {},
     "output_type": "display_data"
    }
   ],
   "source": [
    "plt.figure(figsize=(12,5))\n",
    "plt.subplot(1,2,1)\n",
    "plt.scatter(x[:,0],x[:,1])\n",
    "plt.grid(True)\n",
    "for center in km.cluster_centers_:\n",
    "\n",
    "    plt.scatter(center[0],center[1],marker = '^',c = 'red')\n"
   ]
  },
  {
   "cell_type": "code",
   "execution_count": 125,
   "id": "52ce1234",
   "metadata": {},
   "outputs": [
    {
     "data": {
      "text/plain": [
       "array([-0.17472293,  0.21427953])"
      ]
     },
     "execution_count": 125,
     "metadata": {},
     "output_type": "execute_result"
    }
   ],
   "source": [
    "# get sentences closer to the cluster centres\n",
    "c1 = km.cluster_centers_[0]\n",
    "c1"
   ]
  },
  {
   "cell_type": "code",
   "execution_count": 131,
   "id": "c19fd4a0",
   "metadata": {},
   "outputs": [
    {
     "data": {
      "text/plain": [
       "0.1917363426749375"
      ]
     },
     "execution_count": 131,
     "metadata": {},
     "output_type": "execute_result"
    }
   ],
   "source": [
    "np.sum(np.square(x[0] - c1))\n"
   ]
  },
  {
   "cell_type": "code",
   "execution_count": 132,
   "id": "2550a62d",
   "metadata": {},
   "outputs": [
    {
     "data": {
      "text/plain": [
       "74.53498543307457"
      ]
     },
     "execution_count": 132,
     "metadata": {},
     "output_type": "execute_result"
    }
   ],
   "source": [
    "np.sum(np.square(x - c1))"
   ]
  },
  {
   "cell_type": "code",
   "execution_count": 138,
   "id": "128ab9fe",
   "metadata": {},
   "outputs": [
    {
     "name": "stdout",
     "output_type": "stream",
     "text": [
      "44\n",
      "44\n",
      "44\n",
      "44\n"
     ]
    }
   ],
   "source": [
    "for c in km.cluster_centers_:\n",
    "    print(np.argmin(np.sum(x -c, axis= 1)))"
   ]
  },
  {
   "cell_type": "code",
   "execution_count": 139,
   "id": "f17a548e",
   "metadata": {},
   "outputs": [],
   "source": [
    "c1 = km.cluster_centers_[0]"
   ]
  },
  {
   "cell_type": "code",
   "execution_count": 140,
   "id": "d99dd279",
   "metadata": {},
   "outputs": [
    {
     "data": {
      "text/plain": [
       "array([ 0.45320776, -0.03338043])"
      ]
     },
     "execution_count": 140,
     "metadata": {},
     "output_type": "execute_result"
    }
   ],
   "source": [
    "c1"
   ]
  },
  {
   "cell_type": "code",
   "execution_count": 141,
   "id": "6ed146d0",
   "metadata": {},
   "outputs": [],
   "source": [
    "c2 = km.cluster_centers_[1]"
   ]
  },
  {
   "cell_type": "code",
   "execution_count": 142,
   "id": "0c8aca79",
   "metadata": {},
   "outputs": [
    {
     "data": {
      "text/plain": [
       "array([ 0.45320776, -0.03338043])"
      ]
     },
     "execution_count": 142,
     "metadata": {},
     "output_type": "execute_result"
    }
   ],
   "source": [
    "c2"
   ]
  },
  {
   "cell_type": "code",
   "execution_count": 145,
   "id": "367c0e18",
   "metadata": {},
   "outputs": [
    {
     "name": "stdout",
     "output_type": "stream",
     "text": [
      "[-0.17472293  0.21427953]\n",
      "44\n",
      "[ 0.45320776 -0.03338043]\n",
      "44\n",
      "[-0.2229982  -0.18313554]\n",
      "44\n",
      "[0.08742201 0.00754515]\n",
      "44\n"
     ]
    }
   ],
   "source": [
    "for c in km.cluster_centers_:\n",
    "    print(c)\n",
    "    print(np.argmin(np.sum(x - c, axis= 1)))"
   ]
  },
  {
   "cell_type": "code",
   "execution_count": 147,
   "id": "810935b3",
   "metadata": {},
   "outputs": [],
   "source": [
    "c1 = km.cluster_centers_[2]"
   ]
  },
  {
   "cell_type": "code",
   "execution_count": 148,
   "id": "a6e4310f",
   "metadata": {},
   "outputs": [
    {
     "data": {
      "text/plain": [
       "array([-0.2229982 , -0.18313554])"
      ]
     },
     "execution_count": 148,
     "metadata": {},
     "output_type": "execute_result"
    }
   ],
   "source": [
    "c1"
   ]
  },
  {
   "cell_type": "code",
   "execution_count": 155,
   "id": "03d04516",
   "metadata": {},
   "outputs": [
    {
     "data": {
      "text/plain": [
       "140"
      ]
     },
     "execution_count": 155,
     "metadata": {},
     "output_type": "execute_result"
    }
   ],
   "source": [
    "np.argmin(np.sum(np.square(x - c2), axis=1))\n"
   ]
  },
  {
   "cell_type": "code",
   "execution_count": 156,
   "id": "ed29d69b",
   "metadata": {},
   "outputs": [
    {
     "data": {
      "text/plain": [
       "382"
      ]
     },
     "execution_count": 156,
     "metadata": {},
     "output_type": "execute_result"
    }
   ],
   "source": [
    "len(chunks_by_sent)"
   ]
  },
  {
   "cell_type": "code",
   "execution_count": 158,
   "id": "ce5f9fa9",
   "metadata": {},
   "outputs": [
    {
     "data": {
      "text/plain": [
       "'Because batch-\\nnormalized networks train faster and observe each train-\\ning example fewer times, we let the trainer focus on more\\n“real” images by distorting them less.'"
      ]
     },
     "execution_count": 158,
     "metadata": {},
     "output_type": "execute_result"
    }
   ],
   "source": [
    "chunks_by_sent[220]"
   ]
  },
  {
   "cell_type": "code",
   "execution_count": 159,
   "id": "b11ef61d",
   "metadata": {},
   "outputs": [
    {
     "data": {
      "text/plain": [
       "4"
      ]
     },
     "execution_count": 159,
     "metadata": {},
     "output_type": "execute_result"
    }
   ],
   "source": [
    "len(km.cluster_centers_)"
   ]
  },
  {
   "cell_type": "code",
   "execution_count": 164,
   "id": "117f8c5c",
   "metadata": {},
   "outputs": [
    {
     "data": {
      "text/plain": [
       "array([[-0.03920212, -0.05626672,  0.03190423, ...,  0.01666498,\n",
       "        -0.02245708, -0.0234887 ],\n",
       "       [-0.02463121, -0.03792319,  0.01205767, ..., -0.00108457,\n",
       "        -0.04867958, -0.05857859],\n",
       "       [-0.04410766,  0.00923649, -0.03760194, ..., -0.01705548,\n",
       "         0.00158782,  0.02663357],\n",
       "       ...,\n",
       "       [-0.06815619, -0.03128024,  0.00697434, ...,  0.03456394,\n",
       "        -0.0202269 , -0.02818193],\n",
       "       [-0.03013345, -0.02234102,  0.02085433, ...,  0.0029334 ,\n",
       "        -0.01986995, -0.03821322],\n",
       "       [-0.03931657, -0.0057368 , -0.01544802, ..., -0.00071975,\n",
       "        -0.02159457,  0.00471513]])"
      ]
     },
     "execution_count": 164,
     "metadata": {},
     "output_type": "execute_result"
    }
   ],
   "source": [
    "km.cluster_centers_\n"
   ]
  },
  {
   "cell_type": "code",
   "execution_count": 165,
   "id": "08886341",
   "metadata": {},
   "outputs": [],
   "source": [
    "c0 = km.cluster_centers_[0]"
   ]
  },
  {
   "cell_type": "code",
   "execution_count": 166,
   "id": "e6d07e7f",
   "metadata": {},
   "outputs": [
    {
     "data": {
      "text/plain": [
       "(384,)"
      ]
     },
     "execution_count": 166,
     "metadata": {},
     "output_type": "execute_result"
    }
   ],
   "source": [
    "c0.shape"
   ]
  },
  {
   "cell_type": "code",
   "execution_count": 172,
   "id": "8278bb53",
   "metadata": {},
   "outputs": [
    {
     "data": {
      "text/plain": [
       "torch.Tensor"
      ]
     },
     "execution_count": 172,
     "metadata": {},
     "output_type": "execute_result"
    }
   ],
   "source": [
    "type(sent_embeddings)"
   ]
  },
  {
   "cell_type": "code",
   "execution_count": 173,
   "id": "c9b83b13",
   "metadata": {},
   "outputs": [],
   "source": [
    "emb = sent_embeddings[0]"
   ]
  },
  {
   "cell_type": "code",
   "execution_count": 179,
   "id": "73b1e4aa",
   "metadata": {},
   "outputs": [
    {
     "name": "stdout",
     "output_type": "stream",
     "text": [
      "12.098505500459146\n",
      "11.290385892850644\n",
      "13.342009680128857\n",
      "12.579076055072456\n",
      "13.42371162086637\n",
      "13.671358244600876\n",
      "13.685986979280795\n",
      "13.488489839052642\n",
      "12.884676757947231\n",
      "12.874043604934872\n",
      "13.114988773386102\n",
      "12.548756930028897\n",
      "15.736995394348495\n",
      "13.314735181690704\n",
      "14.802967004265007\n",
      "12.301961478187298\n",
      "11.429660140044401\n",
      "12.974538580401383\n",
      "13.709174623895377\n",
      "17.053259614932472\n",
      "12.88650865955919\n",
      "12.187551857856555\n",
      "13.141880424817156\n",
      "11.454213682810707\n",
      "15.635096964057421\n",
      "17.338179619702096\n",
      "17.077536936146295\n",
      "13.015587362477502\n",
      "13.200958371250135\n",
      "17.23328636977225\n",
      "13.702238719869175\n",
      "12.700907423778414\n",
      "12.853963276255215\n",
      "14.29202436662352\n",
      "11.495563785818096\n",
      "11.37240230013353\n",
      "13.095780862260925\n",
      "11.919596699118571\n",
      "13.935604086619396\n",
      "11.899204143839572\n",
      "11.642052041531093\n",
      "13.014749381879032\n",
      "14.15577709499997\n",
      "17.58867219320583\n",
      "13.141296359266697\n",
      "13.461696651339299\n",
      "10.789523670037978\n",
      "12.345213451745122\n",
      "11.02744517037696\n",
      "11.00469163730516\n",
      "14.759481011750823\n",
      "12.84352080392392\n",
      "12.781267902254779\n",
      "13.040404555665475\n",
      "12.849641191623931\n",
      "14.695253605500445\n",
      "16.82140519073799\n",
      "14.734645283612938\n",
      "14.714464993069406\n",
      "13.760536188850239\n",
      "13.500086198426192\n",
      "14.129009493002634\n",
      "13.994509794140779\n",
      "13.496829625434652\n",
      "16.492652984851414\n",
      "14.376449488635274\n",
      "13.91017876295316\n",
      "14.832578341183991\n",
      "12.851820571498848\n",
      "12.375036539721854\n",
      "15.568544290519501\n",
      "14.387578827956217\n",
      "11.351341031148731\n",
      "11.009906332059323\n",
      "13.474790569872093\n",
      "14.108137317387094\n",
      "15.825018640503398\n",
      "17.423419363014\n",
      "17.423419363014\n",
      "14.803243518896975\n",
      "15.174118995413485\n",
      "13.862041824155792\n",
      "13.147334876010838\n",
      "14.136491695900503\n",
      "14.239488409993008\n",
      "11.975279583845627\n",
      "14.559807798972134\n",
      "14.073287068815407\n",
      "13.407977356649146\n",
      "12.636351943286416\n",
      "13.040270170240323\n",
      "14.719499851430074\n",
      "13.96659772653265\n",
      "14.84290260567068\n",
      "15.114699000586294\n",
      "15.44178271991527\n",
      "14.84524860772068\n",
      "14.000644865921235\n",
      "16.00378824685498\n",
      "17.52540490175755\n",
      "13.997867856514958\n",
      "14.186684626740597\n",
      "14.36984723650171\n",
      "14.333161306572704\n",
      "16.622778183221513\n",
      "17.090039951024583\n",
      "12.710511414071824\n",
      "10.732825290521937\n",
      "13.338552238178831\n",
      "14.600785345849033\n",
      "10.108125291401102\n",
      "12.13421531598369\n",
      "12.521242608204286\n",
      "17.322642144452125\n",
      "14.823459573481877\n",
      "13.484110494384742\n",
      "12.601374379663891\n",
      "13.489557493141138\n",
      "13.538783962131104\n",
      "14.8698326223454\n",
      "14.667997708469432\n",
      "14.600102257258248\n",
      "16.639730899580915\n",
      "12.932019301543626\n",
      "12.868207920991345\n",
      "17.423419363014\n",
      "17.423419363014\n",
      "16.795852742295594\n",
      "13.299533013512367\n",
      "17.423419363014\n",
      "17.423419363014\n",
      "16.818414484916193\n",
      "13.467051922954575\n",
      "15.351459242701724\n",
      "13.920870401770248\n",
      "14.466892302059245\n",
      "16.191547423516205\n",
      "12.636833830118082\n",
      "15.075301713018021\n",
      "15.805940891017254\n",
      "17.27687656490188\n",
      "15.229894653822253\n",
      "15.152767433560175\n",
      "13.940545698675884\n",
      "17.1379063309643\n",
      "15.542253806575937\n",
      "13.50210912816987\n",
      "17.21352020217719\n",
      "15.274369932731503\n",
      "12.548828407146797\n",
      "16.192049702336547\n",
      "11.451011509053524\n",
      "12.208436374256372\n",
      "11.214729740503344\n",
      "14.004540022028781\n",
      "15.801144204150168\n",
      "12.658534591071817\n",
      "13.208190094613258\n",
      "15.052431874883101\n",
      "17.41869943377094\n",
      "15.14502246545203\n",
      "13.779193285275564\n",
      "13.591845084996296\n",
      "12.922534622324044\n",
      "12.682268924594812\n",
      "13.481153574273188\n",
      "12.340961213536183\n",
      "15.675506600004608\n",
      "14.126164171435192\n",
      "12.232177181668938\n",
      "13.887323459104298\n",
      "13.31226029778982\n",
      "14.875257990199227\n",
      "14.618239154190952\n",
      "13.896651968427221\n",
      "12.471131675663385\n",
      "13.64356506626991\n",
      "17.822661036435886\n",
      "13.566467130806615\n",
      "13.805852686051118\n",
      "13.217253544057492\n",
      "13.220841310000802\n",
      "15.150926607138977\n",
      "17.918314828788233\n",
      "13.814973524966259\n",
      "12.088024280766534\n",
      "12.065928870634647\n",
      "13.423962268246896\n",
      "13.361754012500674\n",
      "13.417542159472388\n",
      "14.391236498296765\n",
      "14.330187673157477\n",
      "17.989172153660576\n",
      "14.587572537312685\n",
      "12.540994088919602\n",
      "14.405107298607842\n",
      "12.711646148202952\n",
      "16.02547368539926\n",
      "13.074532650149319\n",
      "14.27620865745368\n",
      "13.602783226211582\n",
      "11.31393507072982\n",
      "11.929656251898535\n",
      "17.72540241430849\n",
      "16.059531434242913\n",
      "16.835248529106927\n",
      "15.265356557672282\n",
      "11.840976994847985\n",
      "14.378608852889796\n",
      "13.851807626886426\n",
      "14.882149986355236\n",
      "11.353221394235426\n",
      "12.293582739123863\n",
      "11.396337068779957\n",
      "13.885221571227657\n",
      "13.880311685995409\n",
      "13.892804659689524\n",
      "14.403970736916499\n",
      "16.07904060923319\n",
      "16.66320052668408\n",
      "12.061138333402905\n",
      "17.569665374571127\n",
      "14.558924409352386\n",
      "13.533062624142477\n",
      "12.793084856625711\n",
      "13.397706404111032\n",
      "14.00681438162789\n",
      "17.71763237140535\n",
      "14.190312336343037\n",
      "12.753569655975188\n",
      "13.340397141419839\n",
      "15.416126085897343\n",
      "13.22225523717437\n",
      "12.433603491019072\n",
      "14.093687759616806\n",
      "13.594316889983709\n",
      "13.434121092875273\n",
      "17.71082318115642\n",
      "12.01536658348158\n",
      "15.362422271821686\n",
      "12.80399258453594\n",
      "17.41327986972309\n",
      "15.24473529052542\n",
      "11.25434224153533\n",
      "14.611220078448856\n",
      "14.33357414457459\n",
      "14.263057984946787\n",
      "17.042614414297205\n",
      "17.15637282564774\n",
      "15.033504693468746\n",
      "14.118492663381549\n",
      "13.578555560805897\n",
      "13.067110321244044\n",
      "15.083428762926696\n",
      "15.22593099445557\n",
      "16.559431150422704\n",
      "13.598108110841066\n",
      "11.201524987399981\n",
      "13.099574342758272\n",
      "15.222461969023179\n",
      "14.947593479969939\n",
      "11.203586550038674\n",
      "13.535295943929263\n",
      "13.05632011435137\n",
      "11.588627489662457\n",
      "12.815331527872733\n",
      "13.485330249466285\n",
      "10.953347051208318\n",
      "12.370979203418775\n",
      "12.241303685273394\n",
      "13.868961434011776\n",
      "14.680769020760334\n",
      "12.352584891825156\n",
      "13.353637565095392\n",
      "13.124498792595986\n",
      "13.806513964990414\n",
      "14.385237333802138\n",
      "11.376569365016383\n",
      "17.72540241430849\n",
      "13.617389928492289\n",
      "13.908305571465394\n",
      "17.62668598324234\n",
      "14.551521577122692\n",
      "17.448001863265652\n",
      "11.437771598733299\n",
      "16.1397368481409\n",
      "17.626626352711668\n",
      "17.146079562198146\n",
      "14.621524168912341\n",
      "16.53900484533583\n",
      "17.638463112057785\n",
      "13.364418356432477\n",
      "18.236152704504565\n",
      "17.86798194565302\n",
      "12.905503803751621\n",
      "13.471482022299028\n",
      "17.03754965146796\n",
      "15.362194127416258\n",
      "18.3073945718717\n",
      "17.51487426627427\n",
      "18.487647258977617\n",
      "13.969883270376135\n",
      "17.659462580760223\n",
      "13.03626406967938\n",
      "16.859659430298088\n",
      "14.777918739972254\n",
      "13.455893493083844\n",
      "18.85451046193576\n",
      "15.943475742806383\n",
      "13.766193250330165\n",
      "15.926327925640262\n",
      "15.161926283285592\n",
      "16.941228602872712\n",
      "11.665647984917836\n",
      "17.937766717969303\n",
      "16.509041678433935\n",
      "16.692665563971595\n",
      "15.411637589610724\n",
      "17.24276710347649\n",
      "15.509197283817336\n",
      "17.661053208527555\n",
      "12.162332288639764\n",
      "17.72130887258551\n",
      "18.058768874807015\n",
      "16.552022983789165\n",
      "17.651181091941545\n",
      "12.059428154358482\n",
      "13.553780671471744\n",
      "18.6178056031873\n",
      "18.53280580762857\n",
      "12.661862235874558\n",
      "17.54732625363571\n",
      "17.073031363415023\n",
      "12.784455236452668\n",
      "16.146972050949525\n",
      "17.87612190610577\n",
      "17.302520406359637\n",
      "14.441714758966263\n",
      "17.99442255199807\n",
      "12.595054911019664\n",
      "17.49867696145064\n",
      "18.499357991676156\n",
      "14.625585244539069\n",
      "16.029279673656177\n",
      "17.33165838434545\n",
      "11.204933696836521\n",
      "17.03754965146796\n",
      "15.362194127416258\n",
      "18.094254667655083\n",
      "12.617263941237525\n",
      "17.3333391389521\n",
      "19.16843514762826\n",
      "17.682277989228183\n",
      "18.009293370552538\n",
      "14.01107320872305\n",
      "17.849712372986794\n",
      "17.893733534638987\n",
      "12.20484044993374\n",
      "16.12725931651018\n",
      "17.24697973111446\n",
      "13.822994160450886\n",
      "18.876401990380764\n",
      "18.07481457093131\n",
      "12.51528292295215\n",
      "16.072731095589234\n",
      "19.483093599590212\n",
      "17.817658413636927\n",
      "14.306903566872894\n",
      "15.024037235314191\n",
      "17.209832238242633\n",
      "14.967539938210109\n",
      "15.129549737039866\n",
      "15.233499801965136\n",
      "15.708979277150895\n",
      "15.082495525689875\n",
      "14.986222726640301\n",
      "16.686561121811383\n",
      "15.453456788264193\n",
      "15.312184711116277\n",
      "12.16964566853728\n",
      "16.82389713564759\n",
      "14.16531105892966\n"
     ]
    }
   ],
   "source": [
    "for emb in sent_embeddings:\n",
    "    diff = np.sum(np.abs(emb.numpy() - c0))\n",
    "    print(diff)"
   ]
  },
  {
   "cell_type": "code",
   "execution_count": 185,
   "id": "d7e2ca3e",
   "metadata": {},
   "outputs": [],
   "source": [
    "def find_closest(centroid, sent_embeddings, k = 5):\n",
    "    dist = []\n",
    "    for idx, emb in enumerate(sent_embeddings):\n",
    "        dist.append((np.sum(np.abs(emb.numpy() - centroid)), idx))\n",
    "    return sorted(dist, key=lambda x : x[0])[:k]"
   ]
  },
  {
   "cell_type": "code",
   "execution_count": 183,
   "id": "1be2163a",
   "metadata": {},
   "outputs": [],
   "source": [
    "top_5 = sorted(dist, key = lambda x : x[0])[:5]"
   ]
  },
  {
   "cell_type": "code",
   "execution_count": 184,
   "id": "53f275be",
   "metadata": {},
   "outputs": [
    {
     "name": "stdout",
     "output_type": "stream",
     "text": [
      "This\n",
      "ensures that as the model is training, layers can continue\n",
      "learning on input distributions that exhibit less internal co-\n",
      "variate shift, thus accelerating the training.\n",
      "These sub-network\n",
      "inputs all have ﬁxed means and variances, and although\n",
      "the joint distribution of these normalized b\n",
      "x(k) can change\n",
      "over the course of training, we expect that the introduc-\n",
      "tion of normalized inputs accelerates the training of the\n",
      "sub-network and, consequently, the network as a whole.\n",
      "2\n",
      "Towards\n",
      "Reducing\n",
      "Internal\n",
      "Covariate Shift\n",
      "We deﬁne Internal Covariate Shift as the change in the\n",
      "distribution of network activations due to the change in\n",
      "network parameters during training.\n",
      "The\n",
      "resulting networks can be trained with saturating nonlin-\n",
      "earities, are more tolerant to increased training rates, and\n",
      "often do not require Dropout for regularization.\n",
      "It has\n",
      "been long known (LeCun et al., 1998b; Wiesler & Ney,\n",
      "2011) that the network training converges faster if its in-\n",
      "puts are whitened – i.e., linearly transformed to have zero\n",
      "means and unit variances, and decorrelated.\n"
     ]
    }
   ],
   "source": [
    "for d in top_5:\n",
    "    print(chunks_by_sent[d[1]])"
   ]
  },
  {
   "cell_type": "code",
   "execution_count": 188,
   "id": "7d4e7717",
   "metadata": {},
   "outputs": [
    {
     "name": "stdout",
     "output_type": "stream",
     "text": [
      "---------centroid-----------\n",
      "This\n",
      "ensures that as the model is training, layers can continue\n",
      "learning on input distributions that exhibit less internal co-\n",
      "variate shift, thus accelerating the training.\n",
      "These sub-network\n",
      "inputs all have ﬁxed means and variances, and although\n",
      "the joint distribution of these normalized b\n",
      "x(k) can change\n",
      "over the course of training, we expect that the introduc-\n",
      "tion of normalized inputs accelerates the training of the\n",
      "sub-network and, consequently, the network as a whole.\n",
      "2\n",
      "Towards\n",
      "Reducing\n",
      "Internal\n",
      "Covariate Shift\n",
      "We deﬁne Internal Covariate Shift as the change in the\n",
      "distribution of network activations due to the change in\n",
      "network parameters during training.\n",
      "The\n",
      "resulting networks can be trained with saturating nonlin-\n",
      "earities, are more tolerant to increased training rates, and\n",
      "often do not require Dropout for regularization.\n",
      "It has\n",
      "been long known (LeCun et al., 1998b; Wiesler & Ney,\n",
      "2011) that the network training converges faster if its in-\n",
      "puts are whitened – i.e., linearly transformed to have zero\n",
      "means and unit variances, and decorrelated.\n",
      "---------centroid-----------\n",
      "Batch Normalization\n",
      "also has a beneﬁcial effect on the gradient ﬂow through\n",
      "the network, by reducing the dependence of gradients\n",
      "on the scale of the parameters or of their initial values.\n",
      "Batch Normalization adds\n",
      "only two extra parameters per activation, and in doing so\n",
      "preserves the representation ability of the network.\n",
      "The goal of Batch Normalization\n",
      "is to achieve a stable distribution of activation values\n",
      "throughout training, and in our experiments we apply it\n",
      "before the nonlinearity since that is where matching the\n",
      "ﬁrst and second moments is more likely to result in a\n",
      "stable distribution.\n",
      "Batch Normalization also makes training more resilient\n",
      "to the parameter scale.\n",
      "Our method draws its strength from making normal-\n",
      "ization a part of the model architecture and performing the\n",
      "normalization for each training mini-batch.\n",
      "---------centroid-----------\n",
      "Russakovsky, Olga, Deng, Jia, Su, Hao, Krause, Jonathan,\n",
      "Satheesh, Sanjeev, Ma, Sean, Huang, Zhiheng, Karpa-\n",
      "thy, Andrej, Khosla, Aditya, Bernstein, Michael, Berg,\n",
      "Alexander C., and Fei-Fei, Li.\n",
      "Dean, Jeffrey, Corrado, Greg S., Monga, Rajat, Chen, Kai,\n",
      "Devin, Matthieu, Le, Quoc V., Mao, Mark Z., Ranzato,\n",
      "Marc’Aurelio, Senior, Andrew, Tucker, Paul, Yang, Ke,\n",
      "and Ng, Andrew Y.\n",
      "Povey, Daniel, Zhang, Xiaohui, and Khudanpur, San-\n",
      "jeev.\n",
      "Srivastava, Nitish, Hinton, Geoffrey, Krizhevsky, Alex,\n",
      "Sutskever, Ilya, and Salakhutdinov, Ruslan.\n",
      "Szegedy, Christian, Liu, Wei, Jia, Yangqing, Sermanet,\n",
      "Pierre, Reed, Scott, Anguelov, Dragomir, Erhan, Du-\n",
      "mitru, Vanhoucke, Vincent, and Rabinovich, An-\n",
      "drew.\n",
      "---------centroid-----------\n",
      "4.2, we apply Batch Normalization to the best-\n",
      "performing ImageNet classiﬁcation network, and show\n",
      "that we can match its performance using only 7% of the\n",
      "training steps, and can further exceed its accuracy by a\n",
      "substantial margin.\n",
      "4.2\n",
      "ImageNet classiﬁcation\n",
      "We applied Batch Normalization to a new variant of the\n",
      "Inception network (Szegedy et al., 2014), trained on the\n",
      "ImageNet classiﬁcation task (Russakovsky et al., 2014).\n",
      "Using an ensemble of batch-\n",
      "normalized networks, we improve upon the best published\n",
      "result on ImageNet classiﬁcation: reaching 4.9% top-5\n",
      "validation error (and 4.8% test error), exceeding the ac-\n",
      "curacy of human raters.\n",
      "Using an ensemble of such networks\n",
      "trained with Batch Normalization, we achieve the top-5\n",
      "error rate that improves upon the best known results on\n",
      "ImageNet classiﬁcation.\n",
      "Model\n",
      "Steps to 72.2%\n",
      "Max accuracy\n",
      "Inception\n",
      "31.0 · 106\n",
      "72.2%\n",
      "BN-Baseline\n",
      "13.3 · 106\n",
      "72.7%\n",
      "BN-x5\n",
      "2.1 · 106\n",
      "73.0%\n",
      "BN-x30\n",
      "2.7 · 106\n",
      "74.8%\n",
      "BN-x5-Sigmoid\n",
      "69.8%\n",
      "Figure 3: For Inception and the batch-normalized\n",
      "variants, the number of training steps required to\n",
      "reach the maximum accuracy of Inception (72.2%),\n",
      "and the maximum accuracy achieved by the net-\n",
      "work.\n",
      "---------centroid-----------\n",
      "1.\n",
      ".\n",
      ".\n",
      ".\n",
      ".\n",
      "---------centroid-----------\n",
      "Each normalized activation b\n",
      "x(k) can be viewed as\n",
      "an input to a sub-network composed of the linear trans-\n",
      "form y(k) = γ(k)b\n",
      "x(k) + β(k), followed by the other pro-\n",
      "cessing done by the original network.\n",
      "To accomplish this,\n",
      "we introduce, for each activation x(k), a pair of parameters\n",
      "γ(k), β(k), which scale and shift the normalized value:\n",
      "y(k) = γ(k)b\n",
      "x(k) + β(k).\n",
      "Furthermore,\n",
      "the learned afﬁne transform applied to these normalized\n",
      "activations allows the BN transform to represent the iden-\n",
      "tity transformation and preserves the network capacity.\n",
      "Any layer that previously received\n",
      "x as the input, now receives BN(x).\n",
      "We use chain rule, as follows (before sim-\n",
      "pliﬁcation):\n",
      "∂ℓ\n",
      "∂b\n",
      "xi =\n",
      "∂ℓ\n",
      "∂yi · γ\n",
      "∂ℓ\n",
      "∂σ2\n",
      "B = Pm\n",
      "i=1\n",
      "∂ℓ\n",
      "∂b\n",
      "xi · (xi −µB) · −1\n",
      "2 (σ2\n",
      "B + ǫ)−3/2\n",
      "∂ℓ\n",
      "∂µB =\n",
      "\u0012 Pm\n",
      "i=1\n",
      "∂ℓ\n",
      "∂b\n",
      "xi ·\n",
      "−1\n",
      "√\n",
      "σ2\n",
      "B+ǫ\n",
      "\u0013\n",
      "+\n",
      "∂ℓ\n",
      "∂σ2\n",
      "B ·\n",
      "Pm\n",
      "i=1 −2(xi−µB)\n",
      "m\n",
      "∂ℓ\n",
      "∂xi =\n",
      "∂ℓ\n",
      "∂b\n",
      "xi ·\n",
      "1\n",
      "√\n",
      "σ2\n",
      "B+ǫ +\n",
      "∂ℓ\n",
      "∂σ2\n",
      "B · 2(xi−µB)\n",
      "m\n",
      "+\n",
      "∂ℓ\n",
      "∂µB · 1\n",
      "m\n",
      "∂ℓ\n",
      "∂γ = Pm\n",
      "i=1\n",
      "∂ℓ\n",
      "∂yi · b\n",
      "xi\n",
      "∂ℓ\n",
      "∂β = Pm\n",
      "i=1\n",
      "∂ℓ\n",
      "∂yi\n",
      "Thus, BN transform is a differentiable transformation that\n",
      "introduces normalized activations into the network.\n",
      "---------centroid-----------\n",
      "If a gradient\n",
      "descent step ignores the dependence of E[x] on b, then it\n",
      "will update b ←b + ∆b, where ∆b ∝−∂ℓ/∂b\n",
      "x.\n",
      "For example, consider a layer\n",
      "with the input u that adds the learned bias b, and normal-\n",
      "izes the result by subtracting the mean of the activation\n",
      "computed over the training data: b\n",
      "x = x −E[x] where\n",
      "x = u + b, X = {x1...N} is the set of values of x over\n",
      "the training set, and E[x] =\n",
      "1\n",
      "N\n",
      "PN\n",
      "i=1 xi.\n",
      "This means that for all di-\n",
      "mensions of x = Wu+b except those with small absolute\n",
      "values, the gradient ﬂowing down to u will vanish and the\n",
      "model will train slowly.\n",
      "x(d)), we will nor-\n",
      "malize each dimension\n",
      "b\n",
      "x(k) = x(k) −E[x(k)]\n",
      "p\n",
      "Var[x(k)]\n",
      "where the expectation and variance are computed over the\n",
      "training data set.\n",
      "These sub-network\n",
      "inputs all have ﬁxed means and variances, and although\n",
      "the joint distribution of these normalized b\n",
      "x(k) can change\n",
      "over the course of training, we expect that the introduc-\n",
      "tion of normalized inputs accelerates the training of the\n",
      "sub-network and, consequently, the network as a whole.\n",
      "---------centroid-----------\n",
      "CoRR,\n",
      "abs/1410.7455, 2014.\n",
      "In Figure 2, we show the validation accuracy of the\n",
      "networks, as a function of the number of training steps.\n",
      "Proceedings of the IEEE, 86(11):2278–2324,\n",
      "November 1998a.\n",
      "CoRR,\n",
      "abs/1312.6120, 2013.\n",
      "CoRR,\n",
      "abs/1409.4842, 2014.\n"
     ]
    }
   ],
   "source": [
    "context = \"\"\n",
    "for c in km.cluster_centers_:\n",
    "    top_5 = find_closest(c, sent_embeddings)\n",
    "    print(\"---------centroid-----------\")\n",
    "    for id in top_5:\n",
    "        print(chunks_by_sent[id[1]])\n",
    "        context += chunks_by_sent[id[1]]"
   ]
  },
  {
   "cell_type": "code",
   "execution_count": 189,
   "id": "3bec7c02",
   "metadata": {},
   "outputs": [],
   "source": [
    "prompt_template = \"\"\" You are an excellenet document summarizer. Summarize the document based on the context {context}\n",
    "\"\"\""
   ]
  },
  {
   "cell_type": "code",
   "execution_count": 190,
   "id": "101157fd",
   "metadata": {},
   "outputs": [
    {
     "name": "stdout",
     "output_type": "stream",
     "text": [
      "Here is a summary of the document:\n",
      "\n",
      "**Introduction**\n",
      "\n",
      "The document discusses a technique called Batch Normalization (BN) that helps to speed up the training process for neural networks. BN normalizes each activation value by subtracting its mean and dividing by its standard deviation.\n",
      "\n",
      "**How BN Works**\n",
      "\n",
      "Each normalized activation can be viewed as an input to a sub-network composed of a linear transformation followed by other processing done by the original network. The linear transformation has two parameters: gamma (k) and beta (k), which scale and shift the normalized value. This allows the BN transform to represent the identity transformation and preserves the network capacity.\n",
      "\n",
      "**Derivatives**\n",
      "\n",
      "The document provides the derivatives for the BN transform with respect to the parameters gamma, beta, and the mean and variance of the activation values. These derivatives are used to update the model during training using backpropagation.\n",
      "\n",
      "**Benefits of BN**\n",
      "\n",
      "BN helps to accelerate the training process by introducing normalized inputs into the network. This allows the model to learn more quickly and effectively.\n",
      "\n",
      "**Experiments**\n",
      "\n",
      "The document presents experimental results demonstrating the effectiveness of BN in speeding up the training process for neural networks. The results show that BN can lead to a significant reduction in the number of training steps required to reach maximum accuracy.\n",
      "\n",
      "Overall, the document provides a detailed explanation of the Batch Normalization technique and its benefits in accelerating the training process for neural networks.\n"
     ]
    }
   ],
   "source": [
    "prompt = ChatPromptTemplate.from_template(prompt_template)\n",
    "chain = prompt | llm\n",
    "print(chain.invoke({\"context\" : context}))"
   ]
  },
  {
   "cell_type": "code",
   "execution_count": 191,
   "id": "6c851949",
   "metadata": {},
   "outputs": [],
   "source": [
    "# locality sensitive hashing\n",
    "num_dimensions= 384\n",
    "num_planes = 10\n",
    "random_matrix_planes = np.random.normal(size=(num_planes, num_dimensions))"
   ]
  },
  {
   "cell_type": "code",
   "execution_count": 192,
   "id": "2f3a1a57",
   "metadata": {},
   "outputs": [
    {
     "data": {
      "text/plain": [
       "(10, 384)"
      ]
     },
     "execution_count": 192,
     "metadata": {},
     "output_type": "execute_result"
    }
   ],
   "source": [
    "random_matrix_planes.shape"
   ]
  },
  {
   "cell_type": "code",
   "execution_count": 195,
   "id": "24677647",
   "metadata": {},
   "outputs": [],
   "source": [
    "def side_of_plane(plane, emb):\n",
    "    dot_product = np.dot(plane, emb.T)\n",
    "    sign_of_dot_product = np.sign(dot_product)\n",
    "    return sign_of_dot_product"
   ]
  },
  {
   "cell_type": "code",
   "execution_count": 196,
   "id": "a3e2d70b",
   "metadata": {},
   "outputs": [
    {
     "name": "stderr",
     "output_type": "stream",
     "text": [
      "/var/folders/s7/nsvqzd050512zsxdfsllv8740000gn/T/ipykernel_1363/759489008.py:2: UserWarning: The use of `x.T` on tensors of dimension other than 2 to reverse their shape is deprecated and it will throw an error in a future release. Consider `x.mT` to transpose batches of matrices or `x.permute(*torch.arange(x.ndim - 1, -1, -1))` to reverse the dimensions of a tensor. (Triggered internally at /Users/runner/work/_temp/anaconda/conda-bld/pytorch_1708025535429/work/aten/src/ATen/native/TensorShape.cpp:3641.)\n",
      "  dot_product = np.dot(plane, emb.T)\n"
     ]
    },
    {
     "data": {
      "text/plain": [
       "1.0"
      ]
     },
     "execution_count": 196,
     "metadata": {},
     "output_type": "execute_result"
    }
   ],
   "source": [
    "side_of_plane(random_matrix_planes[0], sent_embeddings[0])"
   ]
  },
  {
   "cell_type": "code",
   "execution_count": 201,
   "id": "3275a630",
   "metadata": {},
   "outputs": [
    {
     "data": {
      "text/plain": [
       "0.9766940268935448"
      ]
     },
     "execution_count": 201,
     "metadata": {},
     "output_type": "execute_result"
    }
   ],
   "source": [
    "np.dot(random_matrix_planes[0], sent_embeddings[0].numpy())"
   ]
  },
  {
   "cell_type": "code",
   "execution_count": 202,
   "id": "f1ba7319",
   "metadata": {},
   "outputs": [
    {
     "data": {
      "text/plain": [
       "((384,), (384,))"
      ]
     },
     "execution_count": 202,
     "metadata": {},
     "output_type": "execute_result"
    }
   ],
   "source": [
    "random_matrix_planes[0].shape, sent_embeddings[0].numpy().shape"
   ]
  },
  {
   "cell_type": "code",
   "execution_count": 206,
   "id": "abe3c22c",
   "metadata": {},
   "outputs": [],
   "source": [
    "p = np.array([[1.76405235, 0.40015721]])\n",
    "v = np.array([[2, 2]])"
   ]
  },
  {
   "cell_type": "code",
   "execution_count": 208,
   "id": "70d733a8",
   "metadata": {},
   "outputs": [
    {
     "data": {
      "text/plain": [
       "(array([[1.76405235, 0.40015721]]), array([[2, 2]]))"
      ]
     },
     "execution_count": 208,
     "metadata": {},
     "output_type": "execute_result"
    }
   ],
   "source": [
    "p, v"
   ]
  },
  {
   "cell_type": "code",
   "execution_count": 210,
   "id": "b9828b07",
   "metadata": {},
   "outputs": [
    {
     "data": {
      "text/plain": [
       "((1, 2), (1, 2))"
      ]
     },
     "execution_count": 210,
     "metadata": {},
     "output_type": "execute_result"
    }
   ],
   "source": [
    "p.shape, v.shape\n"
   ]
  },
  {
   "cell_type": "code",
   "execution_count": 212,
   "id": "6621dabe",
   "metadata": {},
   "outputs": [
    {
     "data": {
      "text/plain": [
       "torch.Size([384])"
      ]
     },
     "execution_count": 212,
     "metadata": {},
     "output_type": "execute_result"
    }
   ],
   "source": []
  },
  {
   "cell_type": "code",
   "execution_count": 234,
   "id": "c8c6db66",
   "metadata": {},
   "outputs": [],
   "source": [
    "def generate_hash_value(P, emb, num_planes):\n",
    "    sides_matrix = side_of_plane(P, emb)\n",
    "    #print(sides_matrix)\n",
    "    hash_value = 0\n",
    "    for i in range(num_planes):\n",
    "        sign = sides_matrix[i].item()\n",
    "        val = 1 if sign >= 0 else 0\n",
    "        hash_value += 2 ** i * val\n",
    "    return hash_value"
   ]
  },
  {
   "cell_type": "code",
   "execution_count": 250,
   "id": "abb38691",
   "metadata": {},
   "outputs": [
    {
     "name": "stdout",
     "output_type": "stream",
     "text": [
      "[[ 1.76405235  0.40015721  0.97873798 ...  0.38728048 -2.25556423\n",
      "  -1.02250684]\n",
      " [ 0.03863055 -1.6567151  -0.98551074 ... -1.10290621 -0.10169727\n",
      "   0.01927938]\n",
      " [ 1.84959125 -0.21416666 -0.49901664 ... -0.19284183 -0.03331928\n",
      "  -1.5308035 ]\n",
      " [ 0.20669051  0.53104251  0.23914558 ...  0.28376955 -0.28219588\n",
      "  -1.15820319]]\n"
     ]
    }
   ],
   "source": [
    "np.random.seed(0)\n",
    "num_dimensions = 384 # is 300 in assignment\n",
    "num_planes = 4 # is 10 in assignment\n",
    "random_planes_matrix = np.random.normal(\n",
    "                       size=(num_planes,\n",
    "                             num_dimensions))\n",
    "print(random_planes_matrix)"
   ]
  },
  {
   "cell_type": "code",
   "execution_count": 215,
   "id": "cfcbe7f8",
   "metadata": {},
   "outputs": [
    {
     "data": {
      "text/plain": [
       "array([[2, 2]])"
      ]
     },
     "execution_count": 215,
     "metadata": {},
     "output_type": "execute_result"
    }
   ],
   "source": [
    "v"
   ]
  },
  {
   "cell_type": "code",
   "execution_count": 222,
   "id": "a0442a4d",
   "metadata": {},
   "outputs": [
    {
     "name": "stdout",
     "output_type": "stream",
     "text": [
      "[-1. -1.  1.]\n"
     ]
    },
    {
     "data": {
      "text/plain": [
       "4"
      ]
     },
     "execution_count": 222,
     "metadata": {},
     "output_type": "execute_result"
    }
   ],
   "source": [
    "generate_hash_value(random_planes_matrix, sent_embeddings[2], 3)"
   ]
  },
  {
   "cell_type": "code",
   "execution_count": 223,
   "id": "5101de2a",
   "metadata": {},
   "outputs": [
    {
     "data": {
      "text/plain": [
       "(3, 384)"
      ]
     },
     "execution_count": 223,
     "metadata": {},
     "output_type": "execute_result"
    }
   ],
   "source": [
    "random_planes_matrix.shape"
   ]
  },
  {
   "cell_type": "code",
   "execution_count": 251,
   "id": "efd558d2",
   "metadata": {},
   "outputs": [],
   "source": [
    "from collections import defaultdict\n",
    "def group_docs_by_hash_value(P, embeddings):\n",
    "    docs = defaultdict(list)\n",
    "    for idx, emb in enumerate(embeddings):\n",
    "        hash_value = generate_hash_value(P, emb, P.shape[0])\n",
    "        docs[hash_value].append(idx)\n",
    "    return docs"
   ]
  },
  {
   "cell_type": "code",
   "execution_count": 252,
   "id": "cf6811e3",
   "metadata": {},
   "outputs": [],
   "source": [
    "docs = group_docs_by_hash_value(random_planes_matrix, sent_embeddings)"
   ]
  },
  {
   "cell_type": "code",
   "execution_count": 255,
   "id": "591c92c8",
   "metadata": {},
   "outputs": [
    {
     "name": "stdout",
     "output_type": "stream",
     "text": [
      "2 33\n",
      "5 23\n",
      "12 39\n",
      "0 51\n",
      "13 27\n",
      "4 27\n",
      "9 25\n",
      "6 12\n",
      "10 20\n",
      "3 17\n",
      "8 54\n",
      "1 23\n",
      "11 10\n",
      "15 3\n",
      "7 9\n",
      "14 9\n"
     ]
    }
   ],
   "source": [
    "for key in docs.keys():\n",
    "    print(key, len(docs[key]))\n"
   ]
  },
  {
   "cell_type": "code",
   "execution_count": 256,
   "id": "f3f2cd0d",
   "metadata": {},
   "outputs": [
    {
     "name": "stdout",
     "output_type": "stream",
     "text": [
      "69 80 0.4339524\n",
      "69 146 0.38057715\n",
      "69 232 0.3546274\n",
      "69 244 0.20304963\n",
      "69 254 0.21056038\n",
      "69 277 0.45269954\n",
      "69 361 -0.021837201\n",
      "69 362 -0.0113269435\n",
      "80 69 0.4339524\n",
      "80 146 0.16247804\n",
      "80 232 0.15529996\n",
      "80 244 0.16344064\n",
      "80 254 0.12427062\n",
      "80 277 0.31307557\n",
      "80 361 0.047410086\n",
      "80 362 0.02897972\n",
      "146 69 0.38057715\n",
      "146 80 0.16247804\n",
      "146 232 0.27611783\n",
      "146 244 0.2501999\n",
      "146 254 0.3650178\n",
      "146 277 0.3318114\n",
      "146 361 0.01409237\n",
      "146 362 0.04694964\n",
      "232 69 0.3546274\n",
      "232 80 0.15529996\n",
      "232 146 0.27611783\n",
      "232 244 0.52116334\n",
      "232 254 0.21272954\n",
      "232 277 0.37838852\n",
      "232 361 -0.066775225\n",
      "232 362 -0.08831243\n",
      "244 69 0.20304963\n",
      "244 80 0.16344064\n",
      "244 146 0.2501999\n",
      "244 232 0.52116334\n",
      "244 254 0.22071745\n",
      "244 277 0.26019883\n",
      "244 361 -0.04486339\n",
      "244 362 -0.019597622\n",
      "254 69 0.21056038\n",
      "254 80 0.12427062\n",
      "254 146 0.3650178\n",
      "254 232 0.21272954\n",
      "254 244 0.22071745\n",
      "254 277 0.22640999\n",
      "254 361 0.06354272\n",
      "254 362 0.068441495\n",
      "277 69 0.45269954\n",
      "277 80 0.31307557\n",
      "277 146 0.3318114\n",
      "277 232 0.37838852\n",
      "277 244 0.26019883\n",
      "277 254 0.22640999\n",
      "277 361 -0.03914023\n",
      "277 362 0.025731059\n",
      "361 69 -0.021837201\n",
      "361 80 0.047410086\n",
      "361 146 0.01409237\n",
      "361 232 -0.066775225\n",
      "361 244 -0.04486339\n",
      "361 254 0.06354272\n",
      "361 277 -0.03914023\n",
      "361 362 0.08347088\n",
      "362 69 -0.0113269435\n",
      "362 80 0.02897972\n",
      "362 146 0.04694964\n",
      "362 232 -0.08831243\n",
      "362 244 -0.019597622\n",
      "362 254 0.068441495\n",
      "362 277 0.025731059\n",
      "362 361 0.08347088\n"
     ]
    }
   ],
   "source": [
    "key = 7\n",
    "for idx1 in docs[key]:\n",
    "    for idx2 in docs[key]:\n",
    "        if idx1 == idx2\n",
    "            continue\n",
    "        dot_product = np.dot(sent_embeddings[idx1], sent_embeddings[idx2])\n",
    "        norm_1 = np.linalg.norm(sent_embeddings[idx1])\n",
    "        norm_2 = np.linalg.norm(sent_embeddings[idx2])\n",
    "        dist = dot_product / (norm_1 * norm_2)\n",
    "        print(idx1, idx2, dist)"
   ]
  },
  {
   "cell_type": "code",
   "execution_count": 244,
   "id": "b8b57048",
   "metadata": {},
   "outputs": [
    {
     "data": {
      "text/plain": [
       "'Mean-normalized stochastic gradient\\nfor large-scale deep learning.'"
      ]
     },
     "execution_count": 244,
     "metadata": {},
     "output_type": "execute_result"
    }
   ],
   "source": [
    "chunks_by_sent[363]"
   ]
  },
  {
   "cell_type": "code",
   "execution_count": 249,
   "id": "3780f937",
   "metadata": {},
   "outputs": [
    {
     "name": "stdout",
     "output_type": "stream",
     "text": [
      "id : 44 : 4.2, we apply Batch Normalization to the best-\n",
      "performing ImageNet classiﬁcation network, and show\n",
      "that we can match its performance using only 7% of the\n",
      "training steps, and can further exceed its accuracy by a\n",
      "substantial margin.\n",
      "id : 163 : 3.4\n",
      "Batch Normalization regularizes the\n",
      "model\n",
      "When training with Batch Normalization, a training ex-\n",
      "ample is seen in conjunction with other examples in the\n",
      "mini-batch, and the training network no longer produc-\n",
      "ing deterministic values for a given training example.\n",
      "id : 175 : We trained the network for\n",
      "50000 steps, with 60 examples per mini-batch.\n",
      "id : 194 : The model was trained\n",
      "using a version of Stochastic Gradient Descent with mo-\n",
      "mentum (Sutskever et al., 2013), using the mini-batch size\n",
      "of 32.\n",
      "id : 201 : To do so, we further\n",
      "changed the network and its training parameters, as fol-\n",
      "lows:\n",
      "Increase learning rate.\n",
      "id : 235 : The Figure 3 shows, for each network,\n",
      "the number of training steps required to reach the same\n",
      "72.2% accuracy, as well as the maximum validation accu-\n",
      "racy reached by the network and the number of steps to\n",
      "reach it.\n",
      "id : 262 : Our proposed method draws its power from normalizing\n",
      "activations, and from incorporating this normalization in\n",
      "the network architecture itself.\n",
      "id : 302 : CoRR, abs/1301.4083, 2013.\n"
     ]
    }
   ],
   "source": [
    "for id in docs[760]:\n",
    "    print(\"id : {} : {}\".format(id,chunks_by_sent[id]))"
   ]
  },
  {
   "cell_type": "code",
   "execution_count": 257,
   "id": "5636b7c4",
   "metadata": {},
   "outputs": [],
   "source": [
    "# Number of buckets for hashing depends on number of documents in the input\n",
    "# In the above case, every sentence is a document, and there are 382 sentences/documents in this sample\n",
    "# Would like to divide the documents (382) into buckets with 16 vectors. \n",
    "# num_buckets = 2 ^ n ( where n is the number of planes) = 382/16 = 24\n",
    "# n = log(24) =~ 4 planes\n",
    "\n"
   ]
  },
  {
   "cell_type": "code",
   "execution_count": 258,
   "id": "c7daa373",
   "metadata": {},
   "outputs": [],
   "source": [
    "# using TextRank to extract summary from the document"
   ]
  },
  {
   "cell_type": "code",
   "execution_count": 259,
   "id": "4f23f1fd",
   "metadata": {},
   "outputs": [
    {
     "data": {
      "text/plain": [
       "382"
      ]
     },
     "execution_count": 259,
     "metadata": {},
     "output_type": "execute_result"
    }
   ],
   "source": [
    "from sklearn.metrics.pairwise import cosine_similarity\n",
    "len(chunks_by_sent)"
   ]
  },
  {
   "cell_type": "code",
   "execution_count": 260,
   "id": "9af4b768",
   "metadata": {},
   "outputs": [],
   "source": [
    "# similarity matrix\n",
    "sim_matrix = np.zeros([len(chunks_by_sent), len(chunks_by_sent)])"
   ]
  },
  {
   "cell_type": "code",
   "execution_count": 261,
   "id": "291bedc1",
   "metadata": {},
   "outputs": [
    {
     "data": {
      "text/plain": [
       "(382, 382)"
      ]
     },
     "execution_count": 261,
     "metadata": {},
     "output_type": "execute_result"
    }
   ],
   "source": [
    "sim_matrix.shape"
   ]
  },
  {
   "cell_type": "code",
   "execution_count": 263,
   "id": "63a8a46c",
   "metadata": {},
   "outputs": [
    {
     "data": {
      "text/plain": [
       "array([[0.43901327]], dtype=float32)"
      ]
     },
     "execution_count": 263,
     "metadata": {},
     "output_type": "execute_result"
    }
   ],
   "source": [
    "cosine_similarity(sent_embeddings[0].reshape(1,-1), sent_embeddings[1].reshape(1,-1))"
   ]
  },
  {
   "cell_type": "code",
   "execution_count": 266,
   "id": "b5ef4b25",
   "metadata": {},
   "outputs": [
    {
     "name": "stdout",
     "output_type": "stream",
     "text": [
      "0.43901327\n"
     ]
    }
   ],
   "source": [
    "num = np.dot(sent_embeddings[0], sent_embeddings[1])\n",
    "norm_a = np.linalg.norm(sent_embeddings[0])\n",
    "norm_b = np.linalg.norm(sent_embeddings[1])\n",
    "\n",
    "cosine_similarity = num / (norm_a * norm_b)\n",
    "print(cosine_similarity)"
   ]
  },
  {
   "cell_type": "code",
   "execution_count": 269,
   "id": "ac7a33c7",
   "metadata": {},
   "outputs": [],
   "source": [
    "def calculate_cosine_similarity(emb1, emb2):\n",
    "    num = np.dot(emb1, emb2)\n",
    "    norm_a = np.linalg.norm(emb1)\n",
    "    norm_b = np.linalg.norm(emb2)\n",
    "    return num / (norm_a * norm_b)\n",
    "\n",
    "for i in range(len(chunks_by_sent)):\n",
    "    for j in range(len(chunks_by_sent)):\n",
    "        if i != j:\n",
    "            sim_matrix[i][j] = calculate_cosine_similarity(sent_embeddings[i], sent_embeddings[j])\n",
    "            "
   ]
  },
  {
   "cell_type": "code",
   "execution_count": 270,
   "id": "3e8b8cb6",
   "metadata": {},
   "outputs": [
    {
     "data": {
      "text/plain": [
       "(382, 382)"
      ]
     },
     "execution_count": 270,
     "metadata": {},
     "output_type": "execute_result"
    }
   ],
   "source": [
    "sim_matrix.shape"
   ]
  },
  {
   "cell_type": "code",
   "execution_count": 272,
   "id": "975c0503",
   "metadata": {},
   "outputs": [
    {
     "data": {
      "text/plain": [
       "numpy.ndarray"
      ]
     },
     "execution_count": 272,
     "metadata": {},
     "output_type": "execute_result"
    }
   ],
   "source": [
    "type(sim_matrix)"
   ]
  },
  {
   "cell_type": "code",
   "execution_count": 273,
   "id": "cf0e994e",
   "metadata": {},
   "outputs": [],
   "source": [
    "# convert similarity matrix to a graph\n",
    "import networkx as nx\n",
    "nx_graph = nx.from_numpy_array(sim_matrix)\n",
    "scores = nx.pagerank(nx_graph)"
   ]
  },
  {
   "cell_type": "code",
   "execution_count": 275,
   "id": "d22b26ab",
   "metadata": {},
   "outputs": [],
   "source": [
    "ranked_sentences = sorted(((scores[i], s) for i, s in enumerate(chunks_by_sent)), reverse=True)"
   ]
  },
  {
   "cell_type": "code",
   "execution_count": 277,
   "id": "53e097c7",
   "metadata": {},
   "outputs": [
    {
     "name": "stdout",
     "output_type": "stream",
     "text": [
      "0.004059534339070638 3.1\n",
      "Training and Inference with Batch-\n",
      "Normalized Networks\n",
      "To Batch-Normalize a network, we specify a subset of ac-\n",
      "tivations and insert the BN transform for each of them,\n",
      "according to Alg.\n",
      "0.003982187642807961 Our method draws its strength from making normal-\n",
      "ization a part of the model architecture and performing the\n",
      "normalization for each training mini-batch.\n",
      "0.003974689790801268 arXiv:1502.03167v3  [cs.LG]  2 Mar 2015\n",
      "Batch Normalization: Accelerating Deep Network Training by\n",
      "Reducing Internal Covariate Shift\n",
      "Sergey Ioffe\n",
      "Google Inc., sioffe@google.com\n",
      "Christian Szegedy\n",
      "Google Inc., szegedy@google.com\n",
      "Abstract\n",
      "Training Deep Neural Networks is complicated by the fact\n",
      "that the distribution of each layer’s inputs changes during\n",
      "training, as the parameters of the previous layers change.\n",
      "0.003862777427951599 These sub-network\n",
      "inputs all have ﬁxed means and variances, and although\n",
      "the joint distribution of these normalized b\n",
      "x(k) can change\n",
      "over the course of training, we expect that the introduc-\n",
      "tion of normalized inputs accelerates the training of the\n",
      "sub-network and, consequently, the network as a whole.\n",
      "0.003819705789429068 We want to a preserve the information in the network, by\n",
      "normalizing the activations in a training example relative\n",
      "to the statistics of the entire training data.\n",
      "0.0038174910872241117 The goal of Batch Normalization\n",
      "is to achieve a stable distribution of activation values\n",
      "throughout training, and in our experiments we apply it\n",
      "before the nonlinearity since that is where matching the\n",
      "ﬁrst and second moments is more likely to result in a\n",
      "stable distribution.\n",
      "0.0037981266140319067 We also veriﬁed that the reduction in internal covari-\n",
      "ate shift allows deep networks with Batch Normalization\n",
      "to be trained when sigmoid is used as the nonlinearity,\n",
      "despite the well-known difﬁculty of training such net-\n",
      "works.\n",
      "0.0037919740292580066 We propose a new mechanism, which we\n",
      "call Batch Normalization, that takes a step towards re-\n",
      "ducing internal covariate shift, and in doing so dramati-\n",
      "cally accelerates the training of deep neural nets.\n",
      "0.0037914212320099127 Batch Normalization helps the\n",
      "network train faster and achieve higher accuracy.\n",
      "0.0037692021966432153 BN-x5: Inception with Batch Normalization and the\n",
      "modiﬁcations in Sec.\n"
     ]
    }
   ],
   "source": [
    "for i in range(10):\n",
    "    print(ranked_sentences[i][0] , ranked_sentences[i][1])\n"
   ]
  },
  {
   "cell_type": "code",
   "execution_count": 278,
   "id": "18dde8d4",
   "metadata": {},
   "outputs": [],
   "source": [
    "context = \"\"\n",
    "for i in range(10):\n",
    "    context += ranked_sentences[i][1]"
   ]
  },
  {
   "cell_type": "code",
   "execution_count": 279,
   "id": "6db05a86",
   "metadata": {},
   "outputs": [
    {
     "data": {
      "text/plain": [
       "\"Here's a summary of the document based on the context:\\n\\nThe paper introduces a new technique called Batch Normalization (BN) that accelerates deep network training by reducing internal covariate shift. Internal covariate shift occurs when the distribution of inputs to each layer changes during training due to changing parameters in previous layers.\\n\\nTo combat this issue, BN normalizes activations in a training example relative to the statistics of the entire training data. This helps achieve a stable distribution of activation values throughout training.\\n\\nThe authors propose applying BN before nonlinearity, as this is where matching first and second moments is more likely to result in a stable distribution. They also demonstrate that BN allows deep networks with sigmoid nonlinearity to be trained successfully, despite the well-known difficulty of training such networks.\\n\\nOverall, the paper presents a new mechanism called Batch Normalization that reduces internal covariate shift and accelerates the training of deep neural nets, leading to faster training times and higher accuracy.\""
      ]
     },
     "execution_count": 279,
     "metadata": {},
     "output_type": "execute_result"
    }
   ],
   "source": [
    "chain.invoke({\"context\": context})"
   ]
  },
  {
   "cell_type": "code",
   "execution_count": 280,
   "id": "a9ea997c",
   "metadata": {},
   "outputs": [
    {
     "data": {
      "text/plain": [
       "<networkx.classes.graph.Graph at 0x3ac4f1c40>"
      ]
     },
     "execution_count": 280,
     "metadata": {},
     "output_type": "execute_result"
    }
   ],
   "source": [
    "nx_graph"
   ]
  },
  {
   "cell_type": "code",
   "execution_count": null,
   "id": "c437ca1f",
   "metadata": {},
   "outputs": [],
   "source": []
  }
 ],
 "metadata": {
  "kernelspec": {
   "display_name": "pytorch_env",
   "language": "python",
   "name": "pytorch_env"
  },
  "language_info": {
   "codemirror_mode": {
    "name": "ipython",
    "version": 3
   },
   "file_extension": ".py",
   "mimetype": "text/x-python",
   "name": "python",
   "nbconvert_exporter": "python",
   "pygments_lexer": "ipython3",
   "version": "3.12.2"
  }
 },
 "nbformat": 4,
 "nbformat_minor": 5
}
