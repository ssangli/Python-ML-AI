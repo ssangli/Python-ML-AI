{
 "cells": [
  {
   "cell_type": "raw",
   "id": "b85df9e9-4793-45c3-a376-febe40579e95",
   "metadata": {},
   "source": [
    "Deep Learning for IMDB movie review sentiment analysis. \n",
    "HyperParameters : Vocabulory size, Review length, Number of training epochs, learning rate, number of hidden layers and number of neurons in hidden layers.\n",
    "Data Preparation Stage:\n",
    "Combine positive and negative reviews.\n",
    "Pre-process the review text ( remove stopwords, punctuation, URL links )\n",
    "Stemming "
   ]
  },
  {
   "cell_type": "code",
   "execution_count": 613,
   "id": "c791533e-6743-496d-813f-6cc4f1dd37d8",
   "metadata": {},
   "outputs": [
    {
     "name": "stdout",
     "output_type": "stream",
     "text": [
      "Collecting gensim\n",
      "  Downloading gensim-4.3.3-cp312-cp312-macosx_11_0_arm64.whl.metadata (8.1 kB)\n",
      "Requirement already satisfied: numpy<2.0,>=1.18.5 in /Users/sandhyasangli/anaconda3/envs/pytorch_env/lib/python3.12/site-packages (from gensim) (1.26.4)\n",
      "Requirement already satisfied: scipy<1.14.0,>=1.7.0 in /Users/sandhyasangli/anaconda3/envs/pytorch_env/lib/python3.12/site-packages (from gensim) (1.12.0)\n",
      "Collecting smart-open>=1.8.1 (from gensim)\n",
      "  Downloading smart_open-7.0.4-py3-none-any.whl.metadata (23 kB)\n",
      "Requirement already satisfied: wrapt in /Users/sandhyasangli/anaconda3/envs/pytorch_env/lib/python3.12/site-packages (from smart-open>=1.8.1->gensim) (1.16.0)\n",
      "Downloading gensim-4.3.3-cp312-cp312-macosx_11_0_arm64.whl (24.0 MB)\n",
      "\u001b[2K   \u001b[38;2;114;156;31m━━━━━━━━━━━━━━━━━━━━━━━━━━━━━━━━━━━━━━━━\u001b[0m \u001b[32m24.0/24.0 MB\u001b[0m \u001b[31m4.2 MB/s\u001b[0m eta \u001b[36m0:00:00\u001b[0mm eta \u001b[36m0:00:01\u001b[0m0:01\u001b[0m:01\u001b[0m\n",
      "\u001b[?25hDownloading smart_open-7.0.4-py3-none-any.whl (61 kB)\n",
      "\u001b[2K   \u001b[38;2;114;156;31m━━━━━━━━━━━━━━━━━━━━━━━━━━━━━━━━━━━━━━━━\u001b[0m \u001b[32m61.2/61.2 kB\u001b[0m \u001b[31m4.7 MB/s\u001b[0m eta \u001b[36m0:00:00\u001b[0m\n",
      "\u001b[?25hInstalling collected packages: smart-open, gensim\n",
      "Successfully installed gensim-4.3.3 smart-open-7.0.4\n",
      "\n",
      "\u001b[1m[\u001b[0m\u001b[34;49mnotice\u001b[0m\u001b[1;39;49m]\u001b[0m\u001b[39;49m A new release of pip is available: \u001b[0m\u001b[31;49m24.1\u001b[0m\u001b[39;49m -> \u001b[0m\u001b[32;49m24.2\u001b[0m\n",
      "\u001b[1m[\u001b[0m\u001b[34;49mnotice\u001b[0m\u001b[1;39;49m]\u001b[0m\u001b[39;49m To update, run: \u001b[0m\u001b[32;49mpip install --upgrade pip\u001b[0m\n"
     ]
    }
   ],
   "source": [
    "!pip install --upgrade gensim"
   ]
  },
  {
   "cell_type": "code",
   "execution_count": 584,
   "id": "4d05b70b-4ab4-46a1-b3ec-1d16f29d620c",
   "metadata": {},
   "outputs": [],
   "source": [
    "import pandas as pd\n",
    "import numpy as np\n",
    "import matplotlib.pyplot as plt\n",
    "%matplotlib inline\n",
    "\n",
    "import nltk\n",
    "\n",
    "import torch\n",
    "import torch.nn as nn\n",
    "import torch.nn.functional as F\n",
    "\n",
    "from sklearn.feature_extraction.text import TfidfVectorizer"
   ]
  },
  {
   "cell_type": "code",
   "execution_count": 450,
   "id": "7769603a-0749-4fcc-9ba4-42a8cb485b16",
   "metadata": {},
   "outputs": [],
   "source": [
    "X_train_pos = pd.read_csv(\"./all_positive_reviews_train.txt\")\n"
   ]
  },
  {
   "cell_type": "code",
   "execution_count": 451,
   "id": "4d6b8d29-5205-4ecc-80c2-26684d25409d",
   "metadata": {},
   "outputs": [],
   "source": [
    "X_test_pos = pd.read_csv(\"./all_positive_reviews_test.txt\")\n",
    "X_train_neg = pd.read_csv(\"./all_negative_reviews_train.txt\")\n",
    "X_test_neg = pd.read_csv(\"./all_negative_reviews_test.txt\")"
   ]
  },
  {
   "cell_type": "code",
   "execution_count": 452,
   "id": "87e0a153-6214-4585-995b-7c2602b94c88",
   "metadata": {},
   "outputs": [
    {
     "data": {
      "text/plain": [
       "(12499, 3)"
      ]
     },
     "execution_count": 452,
     "metadata": {},
     "output_type": "execute_result"
    }
   ],
   "source": [
    "X_train_pos.shape\n"
   ]
  },
  {
   "cell_type": "code",
   "execution_count": 453,
   "id": "2a395265-7971-4bba-97f2-84d668acc89f",
   "metadata": {},
   "outputs": [],
   "source": [
    "X_train_pos_np = X_train_pos.to_numpy()\n"
   ]
  },
  {
   "cell_type": "code",
   "execution_count": 454,
   "id": "3ea71c38-cac6-4da4-aaba-6205ca9c0575",
   "metadata": {},
   "outputs": [],
   "source": [
    "X_train_neg_np = X_train_neg.to_numpy()\n"
   ]
  },
  {
   "cell_type": "code",
   "execution_count": 455,
   "id": "10334b49-1539-4a7d-83f4-a4e63245c077",
   "metadata": {},
   "outputs": [],
   "source": [
    "X_train = np.concatenate((X_train_pos_np, X_train_neg_np), axis=0)"
   ]
  },
  {
   "cell_type": "code",
   "execution_count": 456,
   "id": "aeae98c2-1e7f-4264-a28f-64ef66d85733",
   "metadata": {},
   "outputs": [
    {
     "data": {
      "text/plain": [
       "(24998, 3)"
      ]
     },
     "execution_count": 456,
     "metadata": {},
     "output_type": "execute_result"
    }
   ],
   "source": [
    "\n",
    "X_train.shape"
   ]
  },
  {
   "cell_type": "code",
   "execution_count": 457,
   "id": "a3b84a27-c7ee-4674-9b8d-efc9785c4a1f",
   "metadata": {},
   "outputs": [],
   "source": [
    "np.random.shuffle(X_train)"
   ]
  },
  {
   "cell_type": "code",
   "execution_count": 458,
   "id": "d6004b1a-4d6a-4c90-92d8-cbfbbeb8e25e",
   "metadata": {},
   "outputs": [
    {
     "data": {
      "text/plain": [
       "(24998, 3)"
      ]
     },
     "execution_count": 458,
     "metadata": {},
     "output_type": "execute_result"
    }
   ],
   "source": [
    "X_train.shape"
   ]
  },
  {
   "cell_type": "code",
   "execution_count": 459,
   "id": "59590c95-eb81-44eb-a4ef-3957fea13045",
   "metadata": {},
   "outputs": [],
   "source": [
    "y_train = X_train[:,2]"
   ]
  },
  {
   "cell_type": "code",
   "execution_count": 460,
   "id": "97538b42-ca1d-4354-b51b-7f9afd4ac205",
   "metadata": {},
   "outputs": [
    {
     "data": {
      "text/plain": [
       "(24998,)"
      ]
     },
     "execution_count": 460,
     "metadata": {},
     "output_type": "execute_result"
    }
   ],
   "source": [
    "y_train.shape"
   ]
  },
  {
   "cell_type": "code",
   "execution_count": 461,
   "id": "c0da8de8-a3e5-4105-ac44-392a80b59bd9",
   "metadata": {},
   "outputs": [
    {
     "data": {
      "text/plain": [
       "(24998,)"
      ]
     },
     "execution_count": 461,
     "metadata": {},
     "output_type": "execute_result"
    }
   ],
   "source": [
    "X_train = X_train[:, 1]\n",
    "X_train.shape"
   ]
  },
  {
   "cell_type": "markdown",
   "id": "6880e294-c529-4f3f-a54a-b5afc5d550e9",
   "metadata": {},
   "source": [
    "Text Pre-Processing"
   ]
  },
  {
   "cell_type": "code",
   "execution_count": 463,
   "id": "b1fb0da7-92b7-4cc2-99b7-2794d5fa1946",
   "metadata": {},
   "outputs": [],
   "source": [
    "import string\n",
    "import nltk\n",
    "from nltk.tokenize import word_tokenize, WhitespaceTokenizer\n",
    "from nltk.stem.porter import PorterStemmer\n",
    "import re\n",
    "\n",
    "stopwords = nltk.corpus.stopwords.words('english')\n",
    "stemmer = PorterStemmer()\n",
    "tk = WhitespaceTokenizer()\n",
    "def process_review(review):\n",
    "    mod_review = []\n",
    "    pat = re.compile(r\"http\\S+|\\\\S+|\\d+|\\<\\S+|\\/|\\>|\\!|\\,|\\.\")\n",
    "    review = re.sub(pat, \"\", review)\n",
    "    review = re.sub(r' +', ' ', review)\n",
    "    review = re.sub(r'\\'', '', review)\n",
    "    for word in word_tokenize(review):\n",
    "        word = word.lower()\n",
    "        if word not in string.punctuation and word not in stopwords and word.isalpha():\n",
    "            stem_word = stemmer.stem(word)\n",
    "            mod_review.append(stem_word)\n",
    "    return ' '.join(mod_review)\n",
    "            "
   ]
  },
  {
   "cell_type": "code",
   "execution_count": 464,
   "id": "fdf1fa5f-f755-4b49-9c4f-6d063da7f377",
   "metadata": {},
   "outputs": [],
   "source": [
    "X_train_mod = [ process_review(review) for review in X_train ]\n"
   ]
  },
  {
   "cell_type": "code",
   "execution_count": 467,
   "id": "ff8dadd9-8c3b-47fb-98df-727d4fb6eda2",
   "metadata": {},
   "outputs": [
    {
     "data": {
      "text/plain": [
       "'make book movi follow stori never good idea peopl read book automat start make mental movi charact look like place exist situat progress everybodi opu differ real movi final come your alway go segment audienc disappoint doesnt measur screenwrit director hope accomplish whatev vision movi hope come close possibl audienc expect see better case situat movi base novel stephen king filmmak captur least essenc stori result breathtak truli terrifi carri salem lot dead zone fan consid mess kubrick version shine miniseri tommyknock although even close perfect king adapt pet sematari mani moment uneas seem bled onto screen directli book pretti much forgiv shortcom music director mari lambert thank also direct siesta exactli horror movi anoth put list work screenplay probabl one better one sinc major know stori wont put sleep mani detail dr loui creed dale midkiff move famili perfect hous countri well almost perfect except two nasti littl detail danger busi stretch interst highway front larg pet cemeteri wood back sinc loui veterinarian young toddler sonwel even havent read book frickin math king stori mysteri head much destin count spooki stop along way certain scene familiar book brought shiveri life rachel creed star trek denis crosbi horrif memori termin ill crippl sister louiss encount mortal injur jogger victor pascow brad greenquist death trip cemeteri beyond pet cemeteri third actif doesnt give nightmar mayb check puls good perform especi late fred gwynn neighbor jud crandal get best line stori sum sometim dead better problem movi version cast louiss son gage miko hugh know would damn near imposs get kind perform need kid age seal deal lambert crew still best could unfortun hugh time damn cute sell intend role evil zombi take movi whenev show though scene he featur still master stage especi gwynn death scene everyth els still good get carri still hold titl best king adapt far im concern sematari right top five still anyth adapt screen base king book terrifi read stori bloodi likelyfor'"
      ]
     },
     "execution_count": 467,
     "metadata": {},
     "output_type": "execute_result"
    }
   ],
   "source": [
    "X_train_mod[0]"
   ]
  },
  {
   "cell_type": "markdown",
   "id": "6338f66e-f2f7-4bdc-a1f4-06fb2dcb3fad",
   "metadata": {},
   "source": [
    "Feature Engineering:\n",
    "Convert words or sentences into ML algorithm readable format. Different methods are\n",
    "a. Word frequency / Count Vectorizer: Get the unique words list and create a map word to index and index to word. These indices are then vectorized and fed to Neural Network.\n",
    "b. TFIDF : Instead of using word frequencies, use TFIDF scores to vectorize the input\n",
    "   Both TFIDF and Word frequency method does not consider the word context. Both can be further improved by using ngram based model.\n",
    "c. n-gram model : Use Bigram or trigram model with or without TFIDF for vectorizing the input\n",
    "d. Word2Vec : Use pre-tuned word2vec model \n",
    "e. Glove : Use pre-tuned GloVe model from Stanford"
   ]
  },
  {
   "cell_type": "code",
   "execution_count": 616,
   "id": "fad7d704-1184-4b85-9d55-65d68a73240a",
   "metadata": {},
   "outputs": [],
   "source": [
    "# a. Word frequency based vectorization\n",
    "def calculate_word_frequency(reviews):\n",
    "    freq = {}\n",
    "    for review in X_train_mod:\n",
    "        for word in word_tokenize(review):\n",
    "            word = word.lower()\n",
    "            if word not in freq:\n",
    "                freq[word] = 1\n",
    "            else:\n",
    "                freq[word] += 1\n",
    "    return freq\n",
    "\n",
    "def calculate_tfidf(reviews):\n",
    "    tv = TfidfVectorizer(use_idf = True)\n",
    "    tv_matrix = tv.fit_transform(X_train_mod)\n",
    "    tv_matrix = tv_matrix.toarray()\n",
    "    vocab = tv.get_feature_names_out()\n",
    "    tfidf_dict = dict(zip(tv.get_feature_names_out(), tv_matrix.sum(axis=0)))\n",
    "    tfidf_dict_sorted = sorted(tfidf_dict.items(), key = lambda x : x[1], reverse=True)\n",
    "    return tfidf_dict_sorted\n"
   ]
  },
  {
   "cell_type": "code",
   "execution_count": 615,
   "id": "ea961f0d-ddb7-42e3-b78f-7e2debea86b2",
   "metadata": {},
   "outputs": [],
   "source": [
    "freq = calculate_word_frequency(X_train_mod)"
   ]
  },
  {
   "cell_type": "code",
   "execution_count": 472,
   "id": "356c4e02-ab95-4cc3-ba89-b9242669ed07",
   "metadata": {},
   "outputs": [],
   "source": [
    "freq_sorted = sorted(freq.items(), key = lambda x : x[1], reverse=True)"
   ]
  },
  {
   "cell_type": "code",
   "execution_count": 473,
   "id": "67f691bb-5778-4f5d-a197-f7d06a491ce1",
   "metadata": {},
   "outputs": [
    {
     "data": {
      "text/plain": [
       "61603"
      ]
     },
     "execution_count": 473,
     "metadata": {},
     "output_type": "execute_result"
    }
   ],
   "source": [
    "len(freq_sorted)"
   ]
  },
  {
   "cell_type": "code",
   "execution_count": 702,
   "id": "f138206d-1a7d-48a5-8942-428e46de4aa0",
   "metadata": {},
   "outputs": [],
   "source": [
    "# HyperParameters \n",
    "# max features = 40000\n",
    "# Sequence length = 250 (words)\n",
    "max_features = 40000\n",
    "sequence_length = 250\n"
   ]
  },
  {
   "cell_type": "code",
   "execution_count": 703,
   "id": "f6272b57-37f9-47f1-850b-7fa4bf9c13ca",
   "metadata": {},
   "outputs": [],
   "source": [
    "\n",
    "uniq_words = [ t[0] for t in freq_sorted[:max_features] ]"
   ]
  },
  {
   "cell_type": "code",
   "execution_count": 704,
   "id": "e4df344a-5f9e-446c-a7d9-54a351fea75e",
   "metadata": {},
   "outputs": [
    {
     "data": {
      "text/plain": [
       "40000"
      ]
     },
     "execution_count": 704,
     "metadata": {},
     "output_type": "execute_result"
    }
   ],
   "source": [
    "len(uniq_words)"
   ]
  },
  {
   "cell_type": "code",
   "execution_count": 705,
   "id": "a5233dc8-4d9a-4baa-9405-042858067812",
   "metadata": {},
   "outputs": [],
   "source": [
    "w2i = { word:i for i, word in enumerate(uniq_words) }"
   ]
  },
  {
   "cell_type": "code",
   "execution_count": 706,
   "id": "894ed232-8128-4b2c-96cf-4b0c0cf55bc8",
   "metadata": {},
   "outputs": [],
   "source": [
    "i2w = { i:word for i, word in enumerate(uniq_words)}"
   ]
  },
  {
   "cell_type": "markdown",
   "id": "d83acc21-93fc-4b48-972a-4b4ef87d79b4",
   "metadata": {},
   "source": [
    "Embedding the document or review into vector"
   ]
  },
  {
   "cell_type": "code",
   "execution_count": 707,
   "id": "75fc77f5-37bc-4d2b-9c1d-aa5bf634cf21",
   "metadata": {},
   "outputs": [],
   "source": [
    "def embed(review, sequence_length, w2i):\n",
    "    r2v = []\n",
    "    for word in word_tokenize(review):\n",
    "        if len(r2v) >= sequence_length:\n",
    "            break\n",
    "        if word in w2i:\n",
    "            r2v.append(w2i[word])\n",
    "        else:\n",
    "            r2v.append(0)\n",
    "            \n",
    "    # Add padding\n",
    "    r2v += [0] * (sequence_length - len(r2v))\n",
    "    return r2v\n",
    "\n",
    "def embed_tfidf(review, sequence_length, tfidf_dict):\n",
    "    r2v = []\n",
    "    for word in word_tokenize(review):\n",
    "        if len(r2v) >= sequence_length:\n",
    "            break\n",
    "        if word in tfidf_dict:\n",
    "            r2v.append(tfidf_dict[word])\n",
    "        else:\n",
    "            r2v.append(0)\n",
    "\n",
    "    # Add padding\n",
    "    r2v += [0] * (sequence_length - len(r2v))\n",
    "    return r2v\n",
    "\n"
   ]
  },
  {
   "cell_type": "code",
   "execution_count": 708,
   "id": "41afa7f8-4463-4d8e-8218-ae1aaa2392c2",
   "metadata": {},
   "outputs": [],
   "source": [
    "# input is integers of length 250. Vocab count is 10,000 \n",
    "X = [ embed(review, sequence_length, w2i) for review in X_train_mod ]\n"
   ]
  },
  {
   "cell_type": "code",
   "execution_count": 709,
   "id": "4166ef61-b782-4696-9a49-9c889e56ffa8",
   "metadata": {},
   "outputs": [],
   "source": [
    "split = int(0.8 * len(X))\n",
    "split\n",
    "X_tr  = X[:split]\n",
    "y_tr = y_train[:split]\n",
    "X_val = X[split+1:]\n",
    "y_val = y_train[split+1:]"
   ]
  },
  {
   "cell_type": "code",
   "execution_count": 711,
   "id": "9497f344-39b9-49f2-99bf-04eaf4fefd64",
   "metadata": {},
   "outputs": [],
   "source": [
    "type(X_tr), type(y_tr)\n",
    "y_tr = y_tr.astype(float)\n",
    "y_val = y_val.astype(float)"
   ]
  },
  {
   "cell_type": "code",
   "execution_count": 712,
   "id": "a575cfe9-e5bf-40be-b859-1dd63fd5cf05",
   "metadata": {},
   "outputs": [],
   "source": [
    "x_tr_pt = torch.tensor(X_tr)\n",
    "y_tr_pt = torch.from_numpy(y_tr).reshape(y_tr.shape[0], 1)\n"
   ]
  },
  {
   "cell_type": "code",
   "execution_count": 713,
   "id": "909bd6c4-4cc6-4d03-ba43-d7d6e1aedeee",
   "metadata": {},
   "outputs": [],
   "source": [
    "x_val_pt = torch.tensor(X_val)\n",
    "y_val_pt = torch.from_numpy(y_val).reshape(y_val.shape[0], 1)"
   ]
  },
  {
   "cell_type": "code",
   "execution_count": 714,
   "id": "92228ef9-6e10-483b-8237-e6a586ae0798",
   "metadata": {},
   "outputs": [
    {
     "name": "stdout",
     "output_type": "stream",
     "text": [
      "torch.Size([19998, 250]) torch.Size([4999, 250]) torch.Size([19998, 1]) torch.Size([4999, 1])\n"
     ]
    }
   ],
   "source": [
    "print(x_tr_pt.shape, x_val_pt.shape, y_tr_pt.shape, y_val_pt.shape)"
   ]
  },
  {
   "cell_type": "code",
   "execution_count": 715,
   "id": "aead808b-1b3e-4aa7-8a76-bfb2477da038",
   "metadata": {},
   "outputs": [],
   "source": [
    "class FNet(nn.Module):\n",
    "    def __init__(self, num_features, emb_dim, hidden_layer_dim):\n",
    "        super().__init__()\n",
    "        \n",
    "        self.num_features = num_features\n",
    "        self.emb_dim = emb_dim\n",
    "        self.emb = nn.Embedding(num_features, emb_dim)\n",
    "        self.h1 = nn.Linear(emb_dim, hidden_layer_dim)\n",
    "        self.out = nn.Linear(hidden_layer_dim, 1)\n",
    "\n",
    "        self.relu = nn.ReLU()\n",
    "        self.sigmoid = nn.Sigmoid()\n",
    "\n",
    "    def forward(self, x):\n",
    "        sequence_len = x.shape[1]\n",
    "        x = self.emb(x)\n",
    "        x = x.sum(1)/sequence_len\n",
    "        x = self.h1(x)\n",
    "        x = self.relu(x)\n",
    "        x = self.out(x)\n",
    "        return self.sigmoid(x)\n",
    "\n",
    "\n"
   ]
  },
  {
   "cell_type": "code",
   "execution_count": 716,
   "id": "436995b6-c326-4703-af2a-9aca8731f17c",
   "metadata": {},
   "outputs": [],
   "source": [
    "lr = torch.linspace(-3, 0, 100)"
   ]
  },
  {
   "cell_type": "code",
   "execution_count": 717,
   "id": "c4f69ab0-668a-4887-b778-078907cbceae",
   "metadata": {},
   "outputs": [],
   "source": [
    "batch_size = 32\n",
    "lrs = torch.linspace(-3, 0, 100)\n",
    "lrs = 10 ** lrs\n",
    "fnet = FNet(max_features, 300, 150)\n",
    "fnet.train()\n",
    "\n",
    "def train(x, y, num_epochs, learning_rate):\n",
    "    losses = []\n",
    "    optimizer = torch.optim.Adam(fnet.parameters(), lr = learning_rate)\n",
    "    loss_fn = nn.BCELoss()\n",
    "\n",
    "    for i in range(num_epochs):\n",
    "        idx = torch.randint(0, x.shape[0], (batch_size,))\n",
    "        optimizer.zero_grad()\n",
    "        yp = fnet(x[idx])\n",
    "        loss = loss_fn(yp.type(torch.float64), y[idx])\n",
    "        losses.append(loss.item())\n",
    "        if i % 1000 == 0:\n",
    "            print(\"Epoch {}, Loss {}\".format(i, loss))\n",
    "        loss.backward()\n",
    "        optimizer.step()\n",
    "    return fnet, losses, yp\n",
    "\n",
    "def calculate_acc_pre_rec_f1_score(ypred, y):\n",
    "    tp = 0\n",
    "    tn = 0\n",
    "    fp = 0\n",
    "    fn = 0\n",
    "    for yp, yac in zip(ypred, y):\n",
    "        if yp == 1.0 and yac == 1.0:\n",
    "            tp += 1\n",
    "        elif yp == 1.0 and yac == 0.0:\n",
    "            fp += 1\n",
    "        elif yp == 0.0 and yac == 0.0:\n",
    "            tn += 1\n",
    "        elif yp == 0.0 and yac == 1.0:\n",
    "            fn += 1\n",
    "    accuracy = tp / len(ypred)\n",
    "    precision = tp / ( tp + fp)\n",
    "    recall = tp / (tp + fn)\n",
    "    f1_score = 2 * precision * recall / ( precision + recall)\n",
    "    print(\"Accuracy  : {}\\n\".format(accuracy))\n",
    "    print(\"Precision : {}\\n\".format(precision))\n",
    "    print(\"Recall    : {}\\n\".format(recall))\n",
    "    print(\"F1-Score  : {}\\n\".format(f1_score))\n",
    "    print(\"\\t------ACTUAL-----\\n\")\n",
    "    print(\"\\tPositive\\tNegative\\n\")\n",
    "    print(\"Positive\\t{}\\t{}\\n\".format(tp, fp))\n",
    "    print(\"Negative\\t{}\\t{}\\n\".format(fn, tn))\n",
    "        "
   ]
  },
  {
   "cell_type": "code",
   "execution_count": 718,
   "id": "fdd23dd3-5dee-48d4-93b6-78bdbf82e42d",
   "metadata": {},
   "outputs": [
    {
     "data": {
      "text/plain": [
       "torch.float64"
      ]
     },
     "execution_count": 718,
     "metadata": {},
     "output_type": "execute_result"
    }
   ],
   "source": [
    "y_tr_pt.dtype"
   ]
  },
  {
   "cell_type": "code",
   "execution_count": 719,
   "id": "781b4ec7-151d-4ffe-9a3e-6be5da60b6b8",
   "metadata": {},
   "outputs": [
    {
     "name": "stdout",
     "output_type": "stream",
     "text": [
      "Epoch 0, Loss 0.6984455149746407\n",
      "Epoch 1000, Loss 0.1943558029906978\n",
      "Epoch 2000, Loss 0.026375441969964195\n",
      "Epoch 3000, Loss 0.00557380948199734\n",
      "Epoch 4000, Loss 0.01704008828698148\n"
     ]
    }
   ],
   "source": [
    "f, losses, ypred = train(x_tr_pt,y_tr_pt, 5000, 0.01)"
   ]
  },
  {
   "cell_type": "code",
   "execution_count": 721,
   "id": "3bca72f6-de13-459c-8a36-363a32f10ffc",
   "metadata": {},
   "outputs": [
    {
     "data": {
      "text/plain": [
       "(19998,)"
      ]
     },
     "execution_count": 721,
     "metadata": {},
     "output_type": "execute_result"
    }
   ],
   "source": [
    "y_tr.shape"
   ]
  },
  {
   "cell_type": "code",
   "execution_count": 722,
   "id": "870d02f8-43dc-46dc-b7cb-f714d9467107",
   "metadata": {},
   "outputs": [
    {
     "data": {
      "text/plain": [
       "[<matplotlib.lines.Line2D at 0x2f41c38c0>]"
      ]
     },
     "execution_count": 722,
     "metadata": {},
     "output_type": "execute_result"
    },
    {
     "data": {
      "image/png": "[encoded data removed]",
      "text/plain": [
       "<Figure size 640x480 with 1 Axes>"
      ]
     },
     "metadata": {},
     "output_type": "display_data"
    }
   ],
   "source": [
    "import matplotlib.pyplot as plt\n",
    "%matplotlib inline\n",
    "\n",
    "plt.plot(losses)"
   ]
  },
  {
   "cell_type": "code",
   "execution_count": 389,
   "id": "e31eb11e-9536-4ed5-b201-b57b4dc7e34e",
   "metadata": {},
   "outputs": [
    {
     "data": {
      "text/plain": [
       "Parameter containing:\n",
       "tensor([[-0.2510,  0.2062,  0.3148, -0.2612, -0.2669,  0.2518,  0.1483, -0.2280,\n",
       "         -0.2301,  0.2894,  0.2087, -0.2373, -0.3030, -0.2409, -0.1471,  0.2489,\n",
       "          0.2776, -0.3038, -0.2527,  0.1947,  0.2777,  0.2190, -0.2608,  0.2135,\n",
       "         -0.2205, -0.2332, -0.2860,  0.0346, -0.2785,  0.2339, -0.0416,  0.2446,\n",
       "          0.2519, -0.2275, -0.2599, -0.2821, -0.2120, -0.0394, -0.0951,  0.2076,\n",
       "         -0.2463,  0.2128,  0.2787, -0.2532, -0.2512,  0.2091,  0.1998,  0.0645,\n",
       "          0.2639, -0.0049, -0.2413, -0.0943,  0.2013, -0.0023, -0.2264,  0.2538,\n",
       "         -0.2394,  0.2622, -0.2368, -0.2149, -0.2684, -0.2075,  0.2409, -0.2705,\n",
       "          0.2711,  0.1735, -0.2467,  0.2175, -0.0765,  0.2362, -0.2348,  0.2070,\n",
       "         -0.0645, -0.2319,  0.2765,  0.2594, -0.2577,  0.0051,  0.2873,  0.2332,\n",
       "          0.0743,  0.2413,  0.2214,  0.1911, -0.2036, -0.2758, -0.2621,  0.0320,\n",
       "          0.2547, -0.3009, -0.0259, -0.0338,  0.0458, -0.2397,  0.2276,  0.1850,\n",
       "         -0.1961,  0.2703, -0.2668, -0.2950, -0.2441,  0.2806,  0.2431, -0.1434,\n",
       "         -0.2146, -0.2456,  0.3175, -0.2685, -0.2179,  0.2758, -0.2165,  0.2110,\n",
       "         -0.0782, -0.2571,  0.2382, -0.2439, -0.1502,  0.2490, -0.2443, -0.2561,\n",
       "         -0.2231,  0.2511,  0.2760, -0.2123, -0.2704,  0.2027, -0.2202, -0.2201,\n",
       "          0.2573, -0.2399, -0.2672,  0.2030, -0.2693,  0.1831, -0.2258, -0.3111,\n",
       "         -0.2583, -0.2495,  0.2759,  0.1848, -0.0286,  0.2600, -0.4293, -0.2291,\n",
       "          0.0029,  0.2159,  0.1655,  0.2306, -0.2562,  0.2153]],\n",
       "       requires_grad=True)"
      ]
     },
     "execution_count": 389,
     "metadata": {},
     "output_type": "execute_result"
    }
   ],
   "source": [
    "list(f.parameters())[3]"
   ]
  },
  {
   "cell_type": "code",
   "execution_count": 723,
   "id": "33d0d8c7-b76c-425d-b2b7-423ef257814f",
   "metadata": {},
   "outputs": [
    {
     "name": "stdout",
     "output_type": "stream",
     "text": [
      "0.735631176028311\n"
     ]
    }
   ],
   "source": [
    "fnet.eval()\n",
    "yp_val = fnet(x_val_pt)\n",
    "loss_fn = nn.BCELoss()\n",
    "loss = loss_fn(yp_val.type(torch.float64), y_val_pt.type(torch.float64))\n",
    "print(loss.item())"
   ]
  },
  {
   "cell_type": "code",
   "execution_count": 724,
   "id": "3395ce13-21da-40a9-a72e-34bc40f4304f",
   "metadata": {},
   "outputs": [],
   "source": [
    "yp_val_np = yp_val.detach().numpy()\n",
    "y_val_np = y_val_pt.detach().numpy()"
   ]
  },
  {
   "cell_type": "code",
   "execution_count": 725,
   "id": "f5641467-446f-42d9-80e7-ed53486810a3",
   "metadata": {},
   "outputs": [],
   "source": [
    "yp_val_np_mod = []\n",
    "for v in yp_val_np:\n",
    "    if v >= 0.5:\n",
    "        yp_val_np_mod.append(1.0)\n",
    "    else:\n",
    "        yp_val_np_mod.append(0.0)\n",
    "\n",
    "yp_val_np_mod = np.array(yp_val_np_mod)"
   ]
  },
  {
   "cell_type": "code",
   "execution_count": 726,
   "id": "ba4ca506-4049-45ed-9f8e-2e7efea276c7",
   "metadata": {},
   "outputs": [
    {
     "name": "stdout",
     "output_type": "stream",
     "text": [
      "Andy Goldsworthy is a taoist master of the first order, expressing the Way through his sublime ephemeral art. Indeed, time and change is what his work is fundamentally about. I bought his first book several years ago and my family has marveled at it many times. So it was a treat to get to know the artist personally through this film, he is just as patient and gentle as you would expect, and has some wonderful things to say about the natural world, the deepest of which are expressed in his occasional inability to say it in words at all. He is like most children who play in the great outdoors alone (if they do anymore), creating things from sticks and sand and mud and snow before they outgrow it. Mr. Goldsworthy was given the gift and the mission to extend that sort of play to create profound visions of nature, and to open our often weary eyes to it in brilliant new ways. And always with the utmost respect, gratitude and humor of a wandering, and wondering monk. [1.] 1.0\n",
      "Cinderella is a beautiful film, with beautiful songs of course. In fact, it's one of the best films of the 1950's.<br /><br />I think all the characters are portrayed amazingly. You can see the cruelness of Cinderella's stepsisters and her stepmother, the sweetness of Cinderella. The mice are funny and sweet too.<br /><br />I think they changed the tale a bit, but I think it's for the best. It's such a nice film, and I don't think anyone could resist it deep down.<br /><br />I give it a 8/10. I don't think it's the best Disney film. But it sure is a true classic. [1.] 1.0\n",
      "Unless you are geeky film student who has to see everything, this film will not only be a waste of your time and money and a huge disappointment, but it will also make you angry beyond belief.<br /><br />There might be a story worth telling somewhere inside, but Hopkins decided to hide it and encode under so many incessant chaotic layers of apparently random audio video microcuts, making the viewer's patience run thin after a very short while.<br /><br />Why would someone like Hopkins choose such a heavy, most difficult and highly unstable project as his first script, first score and third film can by anyones guess. Maybe he played with it in his mind for such a long time until it became unrecognizable as what it became, not even for himself. The result proves that he has by far not enough experience or skill to achieve the desired result.<br /><br />Even the weirdest Carpenter and Lynch films, to name just two uncoventional filmmakers, had 90% more coherence, 95% less characters and 99% more story flow.<br /><br />Sir Anthony you aimed for the stars, but unfortunately missed by a couple of light years. Please stick to acting, in that department you are a unequaled giant and nobody should ask more from you, not even yourself! [0.] 0.0\n",
      "In Micro Phonies the stooges are at there best. In this short the trio are handymen working in a recording studio. They end up getting a look at Alice Van Doren (Christine Mcintyre)singing the voice of spring. The voice is amazing. Curly in drags is heard by Mrs. Bixby (Symona Boniface). Moe calls Curly Senior Cucaracha. The three stooges end up going to party where Curly is going to dress up in drags. They play a record of the voices of spring and all is going well until Moe destroy the record on Curly's head. They end up using the lucia sexlet until the baritone recognizes them and unplugs it. Alice Van Doren catches on to the boy scream and hides behind a curtain to help them out. All is well until the baritone wonders how Curly is singing without the aid of a phonograph discovers Alice behind the curtain. The three stooges are revealed to be frauds but Alice's father discovers his daughter's talent and agrees that she should become a singer. The stooge are pelted out of the room. Excellent. [1.] 1.0\n",
      "Little Edie and Big Edie are characters that anyone can feel compassion for. Even though their house was filthy, this is somehow understandable considering their mental illness. On the message board a poster wrote that Little Edie has the coping skills of an eight year old. This reminded me of when in the dramatized 2009 version, Big Edie says to Little Edie, If you're stuck, it's only with yourself! These women had everything; beauty, talent, intelligence, firm belief in their opinions and actions. Perhaps if Little Edie wasn't so hard on herself the first time things didn't work out, losing her hair, her job, and the love of her life, she would have made it. This somehow ties into what I believe is her mental illness: her inability to pick herself up when times are hard and see that good times lie ahead. The world will never know what have happened if she didn't listen to her mom's plea, Come home, Edie! Let me take care of you!<br /><br />Yet these understandably insecure women somehow manage to be brilliant, heartbreaking, and lovable, even in their extremely filthy home. These women were extraordinary, and their interaction with each other bring humor and sadness. When Edie had one of her emotional breakdowns, dwelling about what could have been, or about how she wants to get out of her home because she feels like a little girl, one gets the intense urge to hug her and tell her that everything will be okay! <br /><br />Great documentary!!<br /><br />9/10 [1.] 1.0\n",
      "Kurosawa is a proved humanitarian. This movie is totally about people living in poverty. You will see nothing but angry in this movie. It makes you feel bad but still worth. All those who's too comfortable with materialization should spend 2.5 hours with this movie. [1.] 0.0\n",
      "OK me and a friend rented this a few days ago because we like to keep track of b-movies since we do them ourselves. Anyway, the cover contained blood and weird looking naked girls with fangs and stuff... and Tom Savini! There is just no way this movie can fail! Right? wrong!! It just seems like such a waste! There was really no story, the dialog was terrible (is anyone there? x 1000!!!), the characters were.. well, they really lacked any kind of personality... The effects were terrible.. and whats up with these long artsy shots of scared people running around doing nothing.. with extreme closeups of eyes and stuff? We were sitting the whole movie waiting for something... anything to happen... but no... oh, here comes the nymphs! great! oh.. they're kissing... again... and now for the violence! OK... nothing really happens... again... oh, now they run around... and the closeups of eyes... again... oh, heres Tom Savini! Oh... he died... right... OK, maybe now something cool or even interesting will happen.. no.. oh! Cool! a severed head! the end... oh crap.. And finally, since i'm so full of myself.. i'll tell you this! Give me a van, six actors, a weird looking house, Tom Savini, a couple of naked girls with fangs and buckets of blood and i could make the coolest movie you've ever seen... I've made movies with zero budget in two days that has better effects, better acting and a better script than this... what is this Johannes guy doing?? Making cool movies is easy!It could have been so great... I'm really upset!! [0.] 0.0\n",
      "First of all, this film was not released to theatres (TESTED POORLY THEY SAY),I say they figured the story of crooked cops, politicians & dedicated newspaper people had been done to death,just send it DVD & cable TV> & take the money & run.<br /><br />That being said I usually like this type of movie, especially with this named cast. Morgan Freeman, Justin Timberlake, Kevin Spacey,<br /><br />L.L.Cool J, Cary Elways, John Heard & on the distaff side, Piper Perabo & Roslyn Sanchez.<br /><br />The plot & story have been done to death, BUT the above cast brings life to this violent movie & it is actually watchable.<br /><br />Justin Timberlake Is good as the dedicated young reporter for a throw-away newspaper edited by Morgan Freeman, The others are either crooked Cops,& Politicians or somewhat decent guys, The 2 ladies are the girl friends of LL COOL J & JUSTIN TIMBERLAKE & do whats required, It is quite violent, many killings etc, not for children. By no means is the a great film, BUT for what it is & the cast It is definitely good,<br /><br />Ratings *** (out of 4) 86 points (out of 100) IMDb 8 (out of 10) [1.] 0.0\n",
      "This movie is an amusing and utterly sarcastic view of pop culture and the producers thereof. I was impressed with the photography that consisted of vivid colors and spin doctored settings, especially when you think that this is Zukovic's first large scale attempt.<br /><br />One warning, do not take the movie's message that seriously. It is not for mass consumption ( and that is not a compliment). The message is a somewhat stylized post-college, neophyte view of society.<br /><br />I did enjoy the basic plot line of a fictitious 'zine editor verbally whipping the mobocracy of the 90's. [1.] 1.0\n",
      "I will never forget when I saw this title in the video store way back when. I was always a big Weird Al fan and when I saw this video I rented and watched it. I was too young to appreciate all of Al's subtle humor and satire at the time but I remember it much later when I was old enough to understand what I was watching. If you are an Al fan, especially of his earlier work, you will thoroughly enjoy this film. It is done in the MTV-esque Rockumentary style and tells a true (but sometimes exaggerated) tale of how Al got to be where he was in 1985. You will love it if you like his brand of humor and, more importantly, his music. [1.] 1.0\n"
     ]
    }
   ],
   "source": [
    "#yp_val_np_mod[:10],y_val_np[:10]\n",
    "for i in range(0, 10):\n",
    "    print(X_train[split + 1 + i ], y_val_np[i], yp_val_np_mod[i])"
   ]
  },
  {
   "cell_type": "code",
   "execution_count": 728,
   "id": "9929147c-ee0e-4a0c-bdc0-628792d49309",
   "metadata": {},
   "outputs": [],
   "source": [
    "from sklearn.metrics import confusion_matrix\n",
    "\n",
    "y_val_np = y_val_pt.detach().numpy()\n",
    "yp_val_np = yp_val.detach().numpy()"
   ]
  },
  {
   "cell_type": "code",
   "execution_count": 729,
   "id": "0c71c562-2f64-459c-a7ec-da21416430c2",
   "metadata": {},
   "outputs": [
    {
     "data": {
      "text/plain": [
       "(torch.Size([4999, 1]), (4999, 1))"
      ]
     },
     "execution_count": 729,
     "metadata": {},
     "output_type": "execute_result"
    }
   ],
   "source": [
    "yp_val.shape, yp_val_np.shape"
   ]
  },
  {
   "cell_type": "code",
   "execution_count": 730,
   "id": "53e69abc-2569-499d-9b8d-61c261fbcea6",
   "metadata": {},
   "outputs": [
    {
     "name": "stdout",
     "output_type": "stream",
     "text": [
      "(4999, 1) (4999, 1)\n"
     ]
    }
   ],
   "source": [
    "print(y_val_np.shape, yp_val_np.shape)"
   ]
  },
  {
   "cell_type": "code",
   "execution_count": 731,
   "id": "e7ea40ff-944a-477e-a1fe-70e7b392a679",
   "metadata": {},
   "outputs": [],
   "source": [
    "yp_val_np_mod = []\n",
    "for v in yp_val_np:\n",
    "    y = 0.0\n",
    "    if v > 0.9 :\n",
    "        y = 1.0\n",
    "    yp_val_np_mod.append(y)\n",
    "        "
   ]
  },
  {
   "cell_type": "code",
   "execution_count": 732,
   "id": "3c99dd4f-0bb0-447b-bdeb-cdd365583374",
   "metadata": {},
   "outputs": [
    {
     "data": {
      "text/plain": [
       "4999"
      ]
     },
     "execution_count": 732,
     "metadata": {},
     "output_type": "execute_result"
    }
   ],
   "source": [
    "len(yp_val_np_mod)"
   ]
  },
  {
   "cell_type": "code",
   "execution_count": 733,
   "id": "be9e4609-a8bd-4f12-ba0f-b8ab0ba93f87",
   "metadata": {},
   "outputs": [],
   "source": [
    "yp_val_np = np.array(yp_val_np_mod).reshape(len(yp_val_np_mod), 1)"
   ]
  },
  {
   "cell_type": "code",
   "execution_count": 734,
   "id": "4c3574d1-5320-40c0-a530-2d30de95af8a",
   "metadata": {},
   "outputs": [
    {
     "data": {
      "text/plain": [
       "(4999, 1)"
      ]
     },
     "execution_count": 734,
     "metadata": {},
     "output_type": "execute_result"
    }
   ],
   "source": [
    "yp_val_np.shape"
   ]
  },
  {
   "cell_type": "code",
   "execution_count": 735,
   "id": "67e9b87c-db31-4e59-9a44-af78268097d3",
   "metadata": {},
   "outputs": [
    {
     "data": {
      "text/plain": [
       "array([[2249,  458],\n",
       "       [ 238, 2054]])"
      ]
     },
     "execution_count": 735,
     "metadata": {},
     "output_type": "execute_result"
    }
   ],
   "source": [
    "confusion_matrix(yp_val_np, y_val_np)"
   ]
  },
  {
   "cell_type": "code",
   "execution_count": null,
   "id": "5b744f44-892b-46b3-9b36-f4bad8331081",
   "metadata": {},
   "outputs": [],
   "source": []
  },
  {
   "cell_type": "code",
   "execution_count": 736,
   "id": "fcf9ae47-52cd-4a60-942b-5cf59dcf3e33",
   "metadata": {},
   "outputs": [
    {
     "name": "stdout",
     "output_type": "stream",
     "text": [
      "Accuracy  : 0.41088217643528707\n",
      "\n",
      "Precision : 0.8961605584642234\n",
      "\n",
      "Recall    : 0.8176751592356688\n",
      "\n",
      "F1-Score  : 0.8551207327227311\n",
      "\n",
      "\t------ACTUAL-----\n",
      "\n",
      "\tPositive\tNegative\n",
      "\n",
      "Positive\t2054\t238\n",
      "\n",
      "Negative\t458\t2249\n",
      "\n"
     ]
    }
   ],
   "source": [
    "calculate_acc_pre_rec_f1_score(yp_val_np, y_val_np)"
   ]
  },
  {
   "cell_type": "code",
   "execution_count": null,
   "id": "b3074ffb-98ea-4594-ad6e-bf3e793ce113",
   "metadata": {},
   "outputs": [],
   "source": [
    "yp"
   ]
  }
 ],
 "metadata": {
  "kernelspec": {
   "display_name": "pytorch_env",
   "language": "python",
   "name": "pytorch_env"
  },
  "language_info": {
   "codemirror_mode": {
    "name": "ipython",
    "version": 3
   },
   "file_extension": ".py",
   "mimetype": "text/x-python",
   "name": "python",
   "nbconvert_exporter": "python",
   "pygments_lexer": "ipython3",
   "version": "3.12.2"
  }
 },
 "nbformat": 4,
 "nbformat_minor": 5
}
