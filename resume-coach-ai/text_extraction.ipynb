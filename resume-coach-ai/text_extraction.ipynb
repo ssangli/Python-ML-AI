{
 "cells": [
  {
   "cell_type": "code",
   "execution_count": 14,
   "id": "dcbf37bf",
   "metadata": {},
   "outputs": [
    {
     "name": "stdout",
     "output_type": "stream",
     "text": [
      "Requirement already satisfied: pymupdf in /Users/sandhyasangli/anaconda3/envs/pytorch_env/lib/python3.12/site-packages (1.24.2)\n",
      "Requirement already satisfied: PyMuPDFb==1.24.1 in /Users/sandhyasangli/anaconda3/envs/pytorch_env/lib/python3.12/site-packages (from pymupdf) (1.24.1)\n",
      "Collecting Unidecode\n",
      "  Downloading Unidecode-1.3.8-py3-none-any.whl.metadata (13 kB)\n",
      "Downloading Unidecode-1.3.8-py3-none-any.whl (235 kB)\n",
      "Installing collected packages: Unidecode\n",
      "Successfully installed Unidecode-1.3.8\n"
     ]
    }
   ],
   "source": [
    "!pip install pymupdf\n",
    "!pip install Unidecode"
   ]
  },
  {
   "cell_type": "code",
   "execution_count": 3,
   "id": "3c9bd298",
   "metadata": {},
   "outputs": [],
   "source": [
    "import fitz"
   ]
  },
  {
   "cell_type": "code",
   "execution_count": 4,
   "id": "8f1db842",
   "metadata": {},
   "outputs": [],
   "source": [
    "file_path = \"/Users/sandhyasangli/Resumes/latestResume/AIML/startup/Resume_Sandhya_Sangli.pdf\""
   ]
  },
  {
   "cell_type": "code",
   "execution_count": 5,
   "id": "2f74df34",
   "metadata": {},
   "outputs": [],
   "source": [
    "doc = fitz.open(file_path)"
   ]
  },
  {
   "cell_type": "code",
   "execution_count": 6,
   "id": "e32ed104",
   "metadata": {},
   "outputs": [
    {
     "data": {
      "text/plain": [
       "Document('/Users/sandhyasangli/Resumes/latestResume/AIML/startup/Resume_Sandhya_Sangli.pdf')"
      ]
     },
     "execution_count": 6,
     "metadata": {},
     "output_type": "execute_result"
    }
   ],
   "source": [
    "doc"
   ]
  },
  {
   "cell_type": "code",
   "execution_count": 17,
   "id": "a5bc79ea",
   "metadata": {},
   "outputs": [
    {
     "name": "stdout",
     "output_type": "stream",
     "text": [
      "-----------------\n",
      "\n",
      "Sandhya Sangli\n",
      "\n",
      "San Jose, CA * (408) 839-3640\n",
      "\n",
      "sandhya.srivatsa@gmail.com * www.linkedin.com/in/sandhya-sangli\n",
      "\n",
      "www.github.com/ssangli/Python-ML-AI\n",
      "\n",
      "Executive Summary\n",
      "\n",
      "Accomplished software engineer with over 20 years of expertise in developing high-quality C++\n",
      "applications with 3+ years of experience in ML/AI seeking a challenging role in a startup. Proven\n",
      "performer delivering exceptional algorithmic solutions and optimizing complex workflows. I have\n",
      "successfully led cross-functional teams and collaborated on cutting-edge technologies, fostering a strong\n",
      "foundation for my next challenge. I am now seeking a role that harnesses these skills to drive innovation\n",
      "and collaboration.\n",
      "\n",
      "Skills\n",
      "\n",
      "*\n",
      "Programming Languages: C++, Python, Tcl\n",
      "\n",
      "*\n",
      "Data structures and Algorithms, Object Oriented Programming and Design (OOP), Data Analysis,\n",
      "Automation\n",
      "\n",
      "*\n",
      "Machine Learning & AI : Supervised and Unsupervised learning, Deep Learning, Large Language\n",
      "Models (LLM) , Pytorch, Scikit-Learn, Tensorflow, Transformer Architecture, Quantization\n",
      "\n",
      "*\n",
      "Others: PostgreSQL, Flask, Gradio, Streamlit, VectorDB, Langchain, LLM Agents, AWS, LangGraph,\n",
      "CrewAI, Pydantic AI\n",
      "\n",
      "ML/AI Projects\n",
      "With the intention of switching career, I have invested past few months working on ML/NLP/AI related projects\n",
      "\n",
      "*\n",
      "Sentiment analysis on a dataset of 50,000 pre-labeled IMDB movie reviews using VADER lexicon and\n",
      "feature engineering methods like TF_IDF and Bag-of-Words which achieved F1-score of 88%. Improved\n",
      "F1-Score by using Deep Neural Network and Word2Vec embedding model.\n",
      "\n",
      "*\n",
      "Collaborated and developed an AI powered job application coach using Llama3, Langchain and Gradio\n",
      "which helps tailor the resume to match the job description.\n",
      "\n",
      "*\n",
      "RAG based document query chatbot using Llama2, Langchain, streamlit & chroma db for the various\n",
      "ML/AI related papers.\n",
      "\n",
      "*\n",
      "AI Agents Performance benchmarking: In development: a comprehensive benchmarking project that\n",
      "evaluates different AI agent architectures for their efficacy, reproducibility, propensity to introduce\n",
      "unintended biases, and real-world applicability\n",
      "\n",
      "Professional Experience\n",
      "Synopsys, MountainView, CA\n",
      "Senior Staff Software Engineer\n",
      "09/2016-01/2024\n",
      "\n",
      "As a senior-level engineer, I successfully led the development efforts, fostering collaboration among team\n",
      "members to drive architectural discussions, proof-of-concept creation, and test suite development. This expertise\n",
      "enabled successful deployments and support for various tool and flow enhancements with high-stakes customers.\n",
      "\n",
      "-----------------\n",
      "\n",
      "*\n",
      "Developed and prototyped a machine learning methodology to optimize timing convergence between\n",
      "pre-global route and post-global route stages, improving overall design accuracy and efficiency.\n",
      "\n",
      "*\n",
      "Developed and implemented an optimized workflow to reduce cycle time for incorporating incremental\n",
      "design changes during the pre-route and post-route physical synthesis phases. Partnered with\n",
      "cross-functional teams to create C++ APIs and test cases, achieving a 25% reduction in overall design\n",
      "cycle time.\n",
      "\n",
      "*\n",
      "Leveraging my technical expertise as a senior engineer, I optimized the extraction process to ensure\n",
      "seamless QoR convergence between frontend and backend stages. This improvement led to a 10%\n",
      "reduction in design cycle time, significantly enhancing efficiency and competitiveness.\n",
      "\n",
      "*\n",
      "Developed and tested high-performance algorithms that significantly improved the power, area, and\n",
      "timing optimization engines, ensuring they met production-quality standards. Collaborated closely with\n",
      "customers to monitor workflows, resolve issues, and integrate feedback into product enhancements.\n",
      "\n",
      "*\n",
      "Mentored and guided junior engineers in the adoption and effective utilization of cutting-edge\n",
      "technologies and methodologies, resulting in improved workflow efficiency and enhanced team\n",
      "productivity.\n",
      "\n",
      "Siemens ( formerly, Mentor Graphics ), Fremont, CA\n",
      "Staff Software Engineer\n",
      "01/2008-09/2016\n",
      "\n",
      "*\n",
      "Designed and developed flow for timing DRC (Design Rule Checks) in the pre-route stage to reduce the\n",
      "last-mile perturbation to the design.Spearheaded the enhancement of the place and route flow by assessing\n",
      "and implementing techniques to minimize disruption to detail routing resources during the final stage of\n",
      "the design process.\n",
      "\n",
      "*\n",
      "Developed innovative techniques to enhance the quality of results for the delay optimization engine which\n",
      "improved accuracy and reliability of the tool.\n",
      "\n",
      "*\n",
      "Designed an in-context library cell pruning algorithm to reduce the number of sizing trials required during\n",
      "optimization, which improved sizing optimization runtime by 5%\n",
      "\n",
      "Texas Instruments India, Bangalore & Synopsys India, Bangalore\n",
      "Design Engineer\n",
      "09/2000-04/2008\n",
      "\n",
      "I started my job as an IC design engineer at Texas instruments, Bangalore where I gained my experience in full\n",
      "chip design process which included floorplanning, pin/pad/macros and standard cell placement, routing and final\n",
      "design timing closure.\n",
      "From there I moved to Synopsys building and testing tools used for the design and implementation of VLSI chips.\n",
      "\n",
      "Certifications\n",
      "\n",
      "*\n",
      "Natural Language Processing\n",
      "\n",
      "*\n",
      "Natural Language Processing with Classification and Vector Spaces : Coursera\n",
      "\n",
      "*\n",
      "Natural Language Processing with Probabilistic Models : Coursera\n",
      "\n",
      "*\n",
      "Natural Language Processing with Sequence Models : Coursera : In progress\n",
      "\n",
      "*\n",
      "Designing and Building AI product and services : Emeritus\n",
      "\n",
      "Education\n",
      "R.V College of Engineering, Bangalore, India\n",
      "Electronics and Communications - 2000\n",
      "\n"
     ]
    }
   ],
   "source": [
    "# group all the text within a block\n",
    "from unidecode import unidecode\n",
    "for page in doc:\n",
    "    blocks = page.get_text(\"blocks\")\n",
    "    p = 0\n",
    "    for block in blocks:\n",
    "        if block[6] == 0:\n",
    "            if p == block[5]:\n",
    "                print(\"-----------------\\n\")\n",
    "            print(unidecode(block[4]))"
   ]
  },
  {
   "cell_type": "code",
   "execution_count": 34,
   "id": "7563fe68",
   "metadata": {},
   "outputs": [
    {
     "ename": "ModuleNotFoundError",
     "evalue": "No module named 'PyMuPDFLoader'",
     "output_type": "error",
     "traceback": [
      "\u001b[0;31m---------------------------------------------------------------------------\u001b[0m",
      "\u001b[0;31mModuleNotFoundError\u001b[0m                       Traceback (most recent call last)",
      "Cell \u001b[0;32mIn[34], line 1\u001b[0m\n\u001b[0;32m----> 1\u001b[0m \u001b[38;5;28;01mimport\u001b[39;00m \u001b[38;5;21;01mPyMuPDFLoader\u001b[39;00m\n",
      "\u001b[0;31mModuleNotFoundError\u001b[0m: No module named 'PyMuPDFLoader'"
     ]
    }
   ],
   "source": [
    "import PyMuPDFLoader"
   ]
  },
  {
   "cell_type": "code",
   "execution_count": 36,
   "id": "041eb72f",
   "metadata": {},
   "outputs": [],
   "source": [
    "from langchain_community.document_loaders import PyMuPDFLoader, PyPDFLoader"
   ]
  },
  {
   "cell_type": "code",
   "execution_count": 37,
   "id": "a27182f7",
   "metadata": {},
   "outputs": [],
   "source": [
    "loader = PyMuPDFLoader(file_path)"
   ]
  },
  {
   "cell_type": "code",
   "execution_count": 38,
   "id": "a8439155",
   "metadata": {},
   "outputs": [],
   "source": [
    "data = loader.load()"
   ]
  },
  {
   "cell_type": "code",
   "execution_count": 39,
   "id": "2bd525ba",
   "metadata": {},
   "outputs": [
    {
     "data": {
      "text/plain": [
       "list"
      ]
     },
     "execution_count": 39,
     "metadata": {},
     "output_type": "execute_result"
    }
   ],
   "source": [
    "type(data)"
   ]
  },
  {
   "cell_type": "code",
   "execution_count": 44,
   "id": "7353cef3",
   "metadata": {},
   "outputs": [],
   "source": [
    "text = \"\"\n",
    "for d in data:\n",
    "    text += unidecode(d.page_content)\n",
    "    "
   ]
  },
  {
   "cell_type": "code",
   "execution_count": 45,
   "id": "16d4690b",
   "metadata": {},
   "outputs": [
    {
     "data": {
      "text/plain": [
       "'Sandhya Sangli\\nSan Jose, CA * (408) 839-3640\\nsandhya.srivatsa@gmail.com * www.linkedin.com/in/sandhya-sangli\\nwww.github.com/ssangli/Python-ML-AI\\nExecutive Summary\\nAccomplished software engineer with over 20 years of expertise in developing high-quality C++\\napplications with 3+ years of experience in ML/AI seeking a challenging role in a startup. Proven\\nperformer delivering exceptional algorithmic solutions and optimizing complex workflows. I have\\nsuccessfully led cross-functional teams and collaborated on cutting-edge technologies, fostering a strong\\nfoundation for my next challenge. I am now seeking a role that harnesses these skills to drive innovation\\nand collaboration.\\nSkills\\n*\\nProgramming Languages: C++, Python, Tcl\\n*\\nData structures and Algorithms, Object Oriented Programming and Design (OOP), Data Analysis,\\nAutomation\\n*\\nMachine Learning & AI : Supervised and Unsupervised learning, Deep Learning, Large Language\\nModels (LLM) , Pytorch, Scikit-Learn, Tensorflow, Transformer Architecture, Quantization\\n*\\nOthers: PostgreSQL, Flask, Gradio, Streamlit, VectorDB, Langchain, LLM Agents, AWS, LangGraph,\\nCrewAI, Pydantic AI\\nML/AI Projects\\nWith the intention of switching career, I have invested past few months working on ML/NLP/AI related projects\\n*\\nSentiment analysis on a dataset of 50,000 pre-labeled IMDB movie reviews using VADER lexicon and\\nfeature engineering methods like TF_IDF and Bag-of-Words which achieved F1-score of 88%. Improved\\nF1-Score by using Deep Neural Network and Word2Vec embedding model.\\n*\\nCollaborated and developed an AI powered job application coach using Llama3, Langchain and Gradio\\nwhich helps tailor the resume to match the job description.\\n*\\nRAG based document query chatbot using Llama2, Langchain, streamlit & chroma db for the various\\nML/AI related papers.\\n*\\nAI Agents Performance benchmarking: In development: a comprehensive benchmarking project that\\nevaluates different AI agent architectures for their efficacy, reproducibility, propensity to introduce\\nunintended biases, and real-world applicability\\nProfessional Experience\\nSynopsys, MountainView, CA\\nSenior Staff Software Engineer\\n09/2016-01/2024\\nAs a senior-level engineer, I successfully led the development efforts, fostering collaboration among team\\nmembers to drive architectural discussions, proof-of-concept creation, and test suite development. This expertise\\nenabled successful deployments and support for various tool and flow enhancements with high-stakes customers.\\n*\\nDeveloped and prototyped a machine learning methodology to optimize timing convergence between\\npre-global route and post-global route stages, improving overall design accuracy and efficiency.\\n*\\nDeveloped and implemented an optimized workflow to reduce cycle time for incorporating incremental\\ndesign changes during the pre-route and post-route physical synthesis phases. Partnered with\\ncross-functional teams to create C++ APIs and test cases, achieving a 25% reduction in overall design\\ncycle time.\\n*\\nLeveraging my technical expertise as a senior engineer, I optimized the extraction process to ensure\\nseamless QoR convergence between frontend and backend stages. This improvement led to a 10%\\nreduction in design cycle time, significantly enhancing efficiency and competitiveness.\\n*\\nDeveloped and tested high-performance algorithms that significantly improved the power, area, and\\ntiming optimization engines, ensuring they met production-quality standards. Collaborated closely with\\ncustomers to monitor workflows, resolve issues, and integrate feedback into product enhancements.\\n*\\nMentored and guided junior engineers in the adoption and effective utilization of cutting-edge\\ntechnologies and methodologies, resulting in improved workflow efficiency and enhanced team\\nproductivity.\\nSiemens ( formerly, Mentor Graphics ), Fremont, CA\\nStaff Software Engineer\\n01/2008-09/2016\\n*\\nDesigned and developed flow for timing DRC (Design Rule Checks) in the pre-route stage to reduce the\\nlast-mile perturbation to the design.Spearheaded the enhancement of the place and route flow by assessing\\nand implementing techniques to minimize disruption to detail routing resources during the final stage of\\nthe design process.\\n*\\nDeveloped innovative techniques to enhance the quality of results for the delay optimization engine which\\nimproved accuracy and reliability of the tool.\\n*\\nDesigned an in-context library cell pruning algorithm to reduce the number of sizing trials required during\\noptimization, which improved sizing optimization runtime by 5%\\nTexas Instruments India, Bangalore & Synopsys India, Bangalore\\nDesign Engineer\\n09/2000-04/2008\\nI started my job as an IC design engineer at Texas instruments, Bangalore where I gained my experience in full\\nchip design process which included floorplanning, pin/pad/macros and standard cell placement, routing and final\\ndesign timing closure.\\nFrom there I moved to Synopsys building and testing tools used for the design and implementation of VLSI chips.\\nCertifications\\n*\\nNatural Language Processing\\n*\\nNatural Language Processing with Classification and Vector Spaces : Coursera\\n*\\nNatural Language Processing with Probabilistic Models : Coursera\\n*\\nNatural Language Processing with Sequence Models : Coursera : In progress\\n*\\nDesigning and Building AI product and services : Emeritus\\nEducation\\nR.V College of Engineering, Bangalore, India\\nElectronics and Communications - 2000\\n'"
      ]
     },
     "execution_count": 45,
     "metadata": {},
     "output_type": "execute_result"
    }
   ],
   "source": [
    "text"
   ]
  },
  {
   "cell_type": "code",
   "execution_count": null,
   "id": "9e7385aa",
   "metadata": {},
   "outputs": [],
   "source": []
  }
 ],
 "metadata": {
  "kernelspec": {
   "display_name": "Python [conda env:pytorch_env]",
   "language": "python",
   "name": "conda-env-pytorch_env-py"
  },
  "language_info": {
   "codemirror_mode": {
    "name": "ipython",
    "version": 3
   },
   "file_extension": ".py",
   "mimetype": "text/x-python",
   "name": "python",
   "nbconvert_exporter": "python",
   "pygments_lexer": "ipython3",
   "version": "3.12.2"
  }
 },
 "nbformat": 4,
 "nbformat_minor": 5
}
