{
 "cells": [
  {
   "cell_type": "code",
   "execution_count": 2,
   "metadata": {},
   "outputs": [
    {
     "name": "stdout",
     "output_type": "stream",
     "text": [
      "Defaulting to user installation because normal site-packages is not writeable\n",
      "Collecting langchain\n",
      "  Downloading langchain-0.1.17-py3-none-any.whl.metadata (13 kB)\n",
      "Requirement already satisfied: PyYAML>=5.3 in /Users/nvd/Library/Python/3.9/lib/python/site-packages (from langchain) (6.0.1)\n",
      "Collecting SQLAlchemy<3,>=1.4 (from langchain)\n",
      "  Downloading SQLAlchemy-2.0.29-cp39-cp39-macosx_11_0_arm64.whl.metadata (9.6 kB)\n",
      "Collecting aiohttp<4.0.0,>=3.8.3 (from langchain)\n",
      "  Downloading aiohttp-3.9.5-cp39-cp39-macosx_11_0_arm64.whl.metadata (7.5 kB)\n",
      "Collecting async-timeout<5.0.0,>=4.0.0 (from langchain)\n",
      "  Downloading async_timeout-4.0.3-py3-none-any.whl.metadata (4.2 kB)\n",
      "Collecting dataclasses-json<0.7,>=0.5.7 (from langchain)\n",
      "  Downloading dataclasses_json-0.6.5-py3-none-any.whl.metadata (25 kB)\n",
      "Collecting jsonpatch<2.0,>=1.33 (from langchain)\n",
      "  Downloading jsonpatch-1.33-py2.py3-none-any.whl.metadata (3.0 kB)\n",
      "Collecting langchain-community<0.1,>=0.0.36 (from langchain)\n",
      "  Downloading langchain_community-0.0.36-py3-none-any.whl.metadata (8.7 kB)\n",
      "Collecting langchain-core<0.2.0,>=0.1.48 (from langchain)\n",
      "  Downloading langchain_core-0.1.48-py3-none-any.whl.metadata (5.9 kB)\n",
      "Collecting langchain-text-splitters<0.1,>=0.0.1 (from langchain)\n",
      "  Downloading langchain_text_splitters-0.0.1-py3-none-any.whl.metadata (2.0 kB)\n",
      "Collecting langsmith<0.2.0,>=0.1.17 (from langchain)\n",
      "  Downloading langsmith-0.1.52-py3-none-any.whl.metadata (13 kB)\n",
      "Requirement already satisfied: numpy<2,>=1 in /Users/nvd/Library/Python/3.9/lib/python/site-packages (from langchain) (1.26.4)\n",
      "Collecting pydantic<3,>=1 (from langchain)\n",
      "  Downloading pydantic-2.7.1-py3-none-any.whl.metadata (107 kB)\n",
      "\u001b[2K     \u001b[90m━━━━━━━━━━━━━━━━━━━━━━━━━━━━━━━━━━━━━━\u001b[0m \u001b[32m107.3/107.3 kB\u001b[0m \u001b[31m43.7 kB/s\u001b[0m eta \u001b[36m0:00:00\u001b[0ma \u001b[36m0:00:01\u001b[0m\n",
      "\u001b[?25hRequirement already satisfied: requests<3,>=2 in /Users/nvd/Library/Python/3.9/lib/python/site-packages (from langchain) (2.31.0)\n",
      "Collecting tenacity<9.0.0,>=8.1.0 (from langchain)\n",
      "  Downloading tenacity-8.2.3-py3-none-any.whl.metadata (1.0 kB)\n",
      "Collecting aiosignal>=1.1.2 (from aiohttp<4.0.0,>=3.8.3->langchain)\n",
      "  Downloading aiosignal-1.3.1-py3-none-any.whl.metadata (4.0 kB)\n",
      "Requirement already satisfied: attrs>=17.3.0 in /Users/nvd/Library/Python/3.9/lib/python/site-packages (from aiohttp<4.0.0,>=3.8.3->langchain) (23.2.0)\n",
      "Collecting frozenlist>=1.1.1 (from aiohttp<4.0.0,>=3.8.3->langchain)\n",
      "  Downloading frozenlist-1.4.1-cp39-cp39-macosx_11_0_arm64.whl.metadata (12 kB)\n",
      "Collecting multidict<7.0,>=4.5 (from aiohttp<4.0.0,>=3.8.3->langchain)\n",
      "  Downloading multidict-6.0.5-cp39-cp39-macosx_11_0_arm64.whl.metadata (4.2 kB)\n",
      "Collecting yarl<2.0,>=1.0 (from aiohttp<4.0.0,>=3.8.3->langchain)\n",
      "  Downloading yarl-1.9.4-cp39-cp39-macosx_11_0_arm64.whl.metadata (31 kB)\n",
      "Collecting marshmallow<4.0.0,>=3.18.0 (from dataclasses-json<0.7,>=0.5.7->langchain)\n",
      "  Downloading marshmallow-3.21.1-py3-none-any.whl.metadata (7.2 kB)\n",
      "Collecting typing-inspect<1,>=0.4.0 (from dataclasses-json<0.7,>=0.5.7->langchain)\n",
      "  Downloading typing_inspect-0.9.0-py3-none-any.whl.metadata (1.5 kB)\n",
      "Requirement already satisfied: jsonpointer>=1.9 in /Users/nvd/Library/Python/3.9/lib/python/site-packages (from jsonpatch<2.0,>=1.33->langchain) (2.4)\n",
      "Requirement already satisfied: packaging<24.0,>=23.2 in /Users/nvd/Library/Python/3.9/lib/python/site-packages (from langchain-core<0.2.0,>=0.1.48->langchain) (23.2)\n",
      "Collecting orjson<4.0.0,>=3.9.14 (from langsmith<0.2.0,>=0.1.17->langchain)\n",
      "  Downloading orjson-3.10.2-cp39-cp39-macosx_10_15_x86_64.macosx_11_0_arm64.macosx_10_15_universal2.whl.metadata (49 kB)\n",
      "\u001b[2K     \u001b[90m━━━━━━━━━━━━━━━━━━━━━━━━━━━━━━━━━━━━━━━━\u001b[0m \u001b[32m49.7/49.7 kB\u001b[0m \u001b[31m27.1 kB/s\u001b[0m eta \u001b[36m0:00:00\u001b[0ma \u001b[36m0:00:01\u001b[0m\n",
      "\u001b[?25hCollecting annotated-types>=0.4.0 (from pydantic<3,>=1->langchain)\n",
      "  Downloading annotated_types-0.6.0-py3-none-any.whl.metadata (12 kB)\n",
      "Collecting pydantic-core==2.18.2 (from pydantic<3,>=1->langchain)\n",
      "  Downloading pydantic_core-2.18.2-cp39-cp39-macosx_11_0_arm64.whl.metadata (6.5 kB)\n",
      "Requirement already satisfied: typing-extensions>=4.6.1 in /Users/nvd/Library/Python/3.9/lib/python/site-packages (from pydantic<3,>=1->langchain) (4.9.0)\n",
      "Requirement already satisfied: charset-normalizer<4,>=2 in /Users/nvd/Library/Python/3.9/lib/python/site-packages (from requests<3,>=2->langchain) (3.3.2)\n",
      "Requirement already satisfied: idna<4,>=2.5 in /Users/nvd/Library/Python/3.9/lib/python/site-packages (from requests<3,>=2->langchain) (3.6)\n",
      "Requirement already satisfied: urllib3<3,>=1.21.1 in /Users/nvd/Library/Python/3.9/lib/python/site-packages (from requests<3,>=2->langchain) (1.26.18)\n",
      "Requirement already satisfied: certifi>=2017.4.17 in /Users/nvd/Library/Python/3.9/lib/python/site-packages (from requests<3,>=2->langchain) (2023.11.17)\n",
      "Collecting mypy-extensions>=0.3.0 (from typing-inspect<1,>=0.4.0->dataclasses-json<0.7,>=0.5.7->langchain)\n",
      "  Downloading mypy_extensions-1.0.0-py3-none-any.whl.metadata (1.1 kB)\n",
      "Downloading langchain-0.1.17-py3-none-any.whl (867 kB)\n",
      "\u001b[2K   \u001b[90m━━━━━━━━━━━━━━━━━━━━━━━━━━━━━━━━━━━━━━━━\u001b[0m \u001b[32m867.6/867.6 kB\u001b[0m \u001b[31m50.6 kB/s\u001b[0m eta \u001b[36m0:00:00\u001b[0m00:01\u001b[0m00:01\u001b[0m\n",
      "\u001b[?25hDownloading aiohttp-3.9.5-cp39-cp39-macosx_11_0_arm64.whl (390 kB)\n",
      "\u001b[2K   \u001b[90m━━━━━━━━━━━━━━━━━━━━━━━━━━━━━━━━━━━━━━━━\u001b[0m \u001b[32m390.7/390.7 kB\u001b[0m \u001b[31m46.0 kB/s\u001b[0m eta \u001b[36m0:00:00\u001b[0ma \u001b[36m0:00:01\u001b[0m\n",
      "\u001b[?25hDownloading async_timeout-4.0.3-py3-none-any.whl (5.7 kB)\n",
      "Downloading dataclasses_json-0.6.5-py3-none-any.whl (28 kB)\n",
      "Downloading jsonpatch-1.33-py2.py3-none-any.whl (12 kB)\n",
      "Downloading langchain_community-0.0.36-py3-none-any.whl (2.0 MB)\n",
      "\u001b[2K   \u001b[90m━━━━━━━━━━━━━━━━━━━━━━━━━━━━━━━━━━━━━━━━\u001b[0m \u001b[32m2.0/2.0 MB\u001b[0m \u001b[31m46.9 kB/s\u001b[0m eta \u001b[36m0:00:00\u001b[0m00:01\u001b[0m00:02\u001b[0m\n",
      "\u001b[?25hDownloading langchain_core-0.1.48-py3-none-any.whl (302 kB)\n",
      "\u001b[2K   \u001b[90m━━━━━━━━━━━━━━━━━━━━━━━━━━━━━━━━━━━━━━━━\u001b[0m \u001b[32m302.9/302.9 kB\u001b[0m \u001b[31m41.5 kB/s\u001b[0m eta \u001b[36m0:00:00\u001b[0ma \u001b[36m0:00:01\u001b[0m\n",
      "\u001b[?25hDownloading langchain_text_splitters-0.0.1-py3-none-any.whl (21 kB)\n",
      "Downloading langsmith-0.1.52-py3-none-any.whl (116 kB)\n",
      "\u001b[2K   \u001b[90m━━━━━━━━━━━━━━━━━━━━━━━━━━━━━━━━━━━━━━━━\u001b[0m \u001b[32m116.4/116.4 kB\u001b[0m \u001b[31m25.3 kB/s\u001b[0m eta \u001b[36m0:00:00\u001b[0m \u001b[36m0:00:01\u001b[0m\n",
      "\u001b[?25hDownloading pydantic-2.7.1-py3-none-any.whl (409 kB)\n",
      "\u001b[2K   \u001b[90m━━━━━━━━━━━━━━━━━━━━━━━━━━━━━━━━━━━━━━━━\u001b[0m \u001b[32m409.3/409.3 kB\u001b[0m \u001b[31m40.6 kB/s\u001b[0m eta \u001b[36m0:00:00\u001b[0m00:01\u001b[0m00:01\u001b[0m\n",
      "\u001b[?25hDownloading pydantic_core-2.18.2-cp39-cp39-macosx_11_0_arm64.whl (1.8 MB)\n",
      "\u001b[2K   \u001b[90m━━━━━━━━━━━━━━━━━━━━━━━━━━━━━━━━━━━━━━━━\u001b[0m \u001b[32m1.8/1.8 MB\u001b[0m \u001b[31m42.5 kB/s\u001b[0m eta \u001b[36m0:00:00\u001b[0m00:01\u001b[0m00:02\u001b[0m\n",
      "\u001b[?25hDownloading SQLAlchemy-2.0.29-cp39-cp39-macosx_11_0_arm64.whl (2.1 MB)\n",
      "\u001b[2K   \u001b[90m━━━━━━━━━━━━━━━━━━━━━━━━━━━━━━━━━━━━━━━━\u001b[0m \u001b[32m2.1/2.1 MB\u001b[0m \u001b[31m34.2 kB/s\u001b[0m eta \u001b[36m0:00:00\u001b[0m00:01\u001b[0m00:03\u001b[0m\n",
      "\u001b[?25hDownloading tenacity-8.2.3-py3-none-any.whl (24 kB)\n",
      "Downloading aiosignal-1.3.1-py3-none-any.whl (7.6 kB)\n",
      "Downloading annotated_types-0.6.0-py3-none-any.whl (12 kB)\n",
      "Downloading frozenlist-1.4.1-cp39-cp39-macosx_11_0_arm64.whl (53 kB)\n",
      "\u001b[2K   \u001b[90m━━━━━━━━━━━━━━━━━━━━━━━━━━━━━━━━━━━━━━━━\u001b[0m \u001b[32m53.7/53.7 kB\u001b[0m \u001b[31m71.2 kB/s\u001b[0m eta \u001b[36m0:00:00\u001b[0ma \u001b[36m0:00:01\u001b[0m\n",
      "\u001b[?25h\u001b[33mWARNING: Retrying (Retry(total=4, connect=None, read=None, redirect=None, status=None)) after connection broken by 'ReadTimeoutError(\"HTTPSConnectionPool(host='files.pythonhosted.org', port=443): Read timed out. (read timeout=15)\")': /packages/38/04/37055b7013dfaaf66e3a9a51e46857cc9be151476a891b995fa70da7e139/marshmallow-3.21.1-py3-none-any.whl\u001b[0m\u001b[33m\n",
      "\u001b[0mDownloading marshmallow-3.21.1-py3-none-any.whl (49 kB)\n",
      "\u001b[2K   \u001b[90m━━━━━━━━━━━━━━━━━━━━━━━━━━━━━━━━━━━━━━━━\u001b[0m \u001b[32m49.4/49.4 kB\u001b[0m \u001b[31m5.5 kB/s\u001b[0m eta \u001b[36m0:00:00\u001b[0ma \u001b[36m0:00:02\u001b[0m\n",
      "\u001b[?25hDownloading multidict-6.0.5-cp39-cp39-macosx_11_0_arm64.whl (30 kB)\n",
      "Downloading orjson-3.10.2-cp39-cp39-macosx_10_15_x86_64.macosx_11_0_arm64.macosx_10_15_universal2.whl (253 kB)\n",
      "\u001b[2K   \u001b[90m━━━━━━━━━━━━━━━━━━━━━━━━━━━━━━━━━━━━━━━━\u001b[0m \u001b[32m253.3/253.3 kB\u001b[0m \u001b[31m11.4 kB/s\u001b[0m eta \u001b[36m0:00:00\u001b[0ma \u001b[36m0:00:01\u001b[0m\n",
      "\u001b[?25hDownloading typing_inspect-0.9.0-py3-none-any.whl (8.8 kB)\n",
      "Downloading yarl-1.9.4-cp39-cp39-macosx_11_0_arm64.whl (81 kB)\n",
      "\u001b[2K   \u001b[90m━━━━━━━━━━━━━━━━━━━━━━━━━━━━━━━━━━━━━━━━\u001b[0m \u001b[32m81.8/81.8 kB\u001b[0m \u001b[31m33.0 kB/s\u001b[0m eta \u001b[36m0:00:00\u001b[0ma \u001b[36m0:00:01\u001b[0mm\n",
      "\u001b[?25hDownloading mypy_extensions-1.0.0-py3-none-any.whl (4.7 kB)\n",
      "Installing collected packages: tenacity, SQLAlchemy, pydantic-core, orjson, mypy-extensions, multidict, marshmallow, jsonpatch, frozenlist, async-timeout, annotated-types, yarl, typing-inspect, pydantic, aiosignal, langsmith, dataclasses-json, aiohttp, langchain-core, langchain-text-splitters, langchain-community, langchain\n",
      "Successfully installed SQLAlchemy-2.0.29 aiohttp-3.9.5 aiosignal-1.3.1 annotated-types-0.6.0 async-timeout-4.0.3 dataclasses-json-0.6.5 frozenlist-1.4.1 jsonpatch-1.33 langchain-0.1.17 langchain-community-0.0.36 langchain-core-0.1.48 langchain-text-splitters-0.0.1 langsmith-0.1.52 marshmallow-3.21.1 multidict-6.0.5 mypy-extensions-1.0.0 orjson-3.10.2 pydantic-2.7.1 pydantic-core-2.18.2 tenacity-8.2.3 typing-inspect-0.9.0 yarl-1.9.4\n",
      "Note: you may need to restart the kernel to use updated packages.\n"
     ]
    }
   ],
   "source": [
    "pip install langchain"
   ]
  },
  {
   "cell_type": "code",
   "execution_count": 2,
   "metadata": {},
   "outputs": [],
   "source": [
    "from langchain_community.llms import Ollama\n",
    "llm = Ollama(model=\"llama3\")"
   ]
  },
  {
   "cell_type": "code",
   "execution_count": 19,
   "metadata": {},
   "outputs": [
    {
     "name": "stdout",
     "output_type": "stream",
     "text": [
      "\u001b[1mOllama\u001b[0m\n",
      "Params: {'model': 'llama3', 'format': None, 'options': {'mirostat': None, 'mirostat_eta': None, 'mirostat_tau': None, 'num_ctx': None, 'num_gpu': None, 'num_thread': None, 'num_predict': None, 'repeat_last_n': None, 'repeat_penalty': None, 'temperature': None, 'stop': None, 'tfs_z': None, 'top_k': None, 'top_p': None}, 'system': None, 'template': None, 'keep_alive': None}\n"
     ]
    }
   ],
   "source": [
    "print(llm)"
   ]
  },
  {
   "cell_type": "code",
   "execution_count": 6,
   "metadata": {},
   "outputs": [
    {
     "data": {
      "text/plain": [
       "\"Langsmith, a machine translation tool, can be used to aid in testing, specifically in the following ways:\\n\\n1. **Automated Translation**: Langsmith can translate your test data into multiple languages, making it easier to test your application's multilingual capabilities.\\n2. **Localization Testing**: Langsmith can help you test your application's localization features by translating test cases and scenarios into different languages, ensuring that your app behaves correctly across various cultures.\\n3. **Test Data Generation**: Langsmith can generate test data in multiple languages, reducing the need for manual translation and increasing the efficiency of your testing process.\\n4. **Error Detection**: Langsmith can help detect errors in translations by comparing the original text with the machine-translated text. This ensures that the translated text is accurate and consistent.\\n5. **Testing APIs and Services**: Langsmith can be used to test APIs and services that handle multilingual data, such as translation APIs or internationalized databases.\\n6. **Quality Assurance**: Langsmith's translation quality assurance capabilities can help ensure that your application's translations are accurate, natural-sounding, and culturally relevant.\\n\\nBy leveraging Langsmith in testing, you can:\\n\\n* Reduce the time and effort required for manual translation\\n* Increase the accuracy of translated test data\\n* Enhance the overall testing process by automating tedious tasks\\n* Improve the quality and consistency of your application's translations\\n\\nOverall, Langsmith can be a valuable tool in your testing toolkit, helping you to ensure that your application is multilingual-ready and functions correctly across different languages and cultures.\""
      ]
     },
     "execution_count": 6,
     "metadata": {},
     "output_type": "execute_result"
    }
   ],
   "source": [
    "llm.invoke(\"how can langsmith help with testing?\")"
   ]
  },
  {
   "cell_type": "code",
   "execution_count": 7,
   "metadata": {},
   "outputs": [
    {
     "data": {
      "text/plain": [
       "\"Sky can appear in various shades of color depending on the time of day, atmospheric conditions, and location. But why does it often seem blue?\\n\\nThere are a few reasons:\\n\\n1. **Scattering**: When sunlight enters Earth's atmosphere, it encounters tiny molecules of gases like nitrogen (N2) and oxygen (O2). These molecules scatter the shorter, blue wavelengths of light more than the longer, red wavelengths. This is known as Rayleigh scattering, named after the British physicist Lord Rayleigh, who first described the phenomenon in the late 19th century. As a result, our eyes perceive the sky as blue during the daytime.\\n2. **Mie scattering**: In addition to Rayleigh scattering, Mie scattering also plays a role. This process occurs when light interacts with larger particles like pollen, dust, and water droplets in the air. These particles scatter the shorter wavelengths of light (like blue and violet) more efficiently than the longer wavelengths (like red and orange). This is why the sky often appears more vividly blue near bodies of water or in areas with high levels of atmospheric aerosols.\\n3. **Atmospheric conditions**: The color of the sky can be influenced by various factors, such as:\\n\\t* Dust and pollutants: These particles can scatter light in a way that makes the sky appear more hazy or brownish.\\n\\t* Clouds: Thick clouds can make the sky appear gray or white, while thin clouds can enhance the blue color.\\n\\t* Water vapor: High levels of water vapor in the air can lead to a more pronounced blue color.\\n\\nSo, why is Sky blue? It's because of the combination of Rayleigh and Mie scattering, as well as atmospheric conditions like dust, clouds, and water vapor. The exact shade of blue can vary depending on these factors, making each sky unique!\""
      ]
     },
     "execution_count": 7,
     "metadata": {},
     "output_type": "execute_result"
    }
   ],
   "source": [
    "llm.invoke(\"Why is Sky blue?\")"
   ]
  },
  {
   "cell_type": "code",
   "execution_count": 13,
   "metadata": {},
   "outputs": [],
   "source": [
    "from langchain_core.prompts import ChatPromptTemplate\n",
    "# prompt = ChatPromptTemplate.from_messages([\n",
    "#     (\"system\", \"You are a world class technical documentation writer.\"),\n",
    "#     (\"user\", \"{input}\")\n",
    "# ])\n",
    "\n",
    "template = \"\"\"Is the following resume a good match for the given job description?\n",
    "\n",
    "Resume: {resume}\n",
    "\n",
    "Job description: {job_description}\n",
    "Answer: Let's think step by step.\"\"\"\n",
    "prompt = ChatPromptTemplate.from_template(template)\n",
    "\n",
    "chain = prompt | llm\n"
   ]
  },
  {
   "cell_type": "markdown",
   "metadata": {},
   "source": [
    "# Problem 1. Model responses vary. No clear structure."
   ]
  },
  {
   "cell_type": "code",
   "execution_count": 22,
   "metadata": {},
   "outputs": [
    {
     "name": "stdout",
     "output_type": "stream",
     "text": [
      "Let's analyze the resume against the job description.\n",
      "\n",
      "**Match or Not Match**\n",
      "\n",
      "1. **Education**: Both the resume and job description don't mention any specific education requirements, so this aspect seems to match.\n",
      "2. **Experience**: The job description requires 5+ years of industry experience in software design, development, and algorithm-related solutions. The candidate has over 12 years of experience, which exceeds the requirement. The resume also highlights experience in building large-scale compute infrastructure, distributed systems, and technical leadership, which aligns with the job description's requirements.\n",
      "3. **Skills**: The resume mentions skills such as software engineering, human-computer interaction, and education technology, which don't directly match the job description's required skills (Distributed Systems, Kubernetes, Technical Leadership). However, the candidate has demonstrated experience in building large-scale distributed systems, which could be seen as a matching skill.\n",
      "4. **Leadership**: The job description requires experience as an architect or technical leadership position. The resume highlights the candidate's experience as a Tech Lead Manager, Senior Director of Software, and CEO/CTO, which shows leadership capabilities. This aspect seems to match.\n",
      "5. **Project Management**: The job description doesn't explicitly require project management skills, but the candidate has demonstrated experience in leading teams, establishing vision, and driving engineering development from early incubation to product launch.\n",
      "\n",
      "**Conclusion**\n",
      "\n",
      "Based on this analysis, I would say that Navid Ahmadi's resume is a good match for the Senior Staff Software Engineer role at LinkedIn. While there might be some minor mismatches (e.g., specific skills), his overall experience, leadership capabilities, and project management skills align well with the job description's requirements.\n"
     ]
    }
   ],
   "source": [
    "print(chain.invoke({\"resume\": resume_text, \"job_description\": job_description}))"
   ]
  },
  {
   "cell_type": "code",
   "execution_count": 23,
   "metadata": {},
   "outputs": [
    {
     "name": "stdout",
     "output_type": "stream",
     "text": [
      "Let's analyze the resume against the job description:\n",
      "\n",
      "**Job Requirements:**\n",
      "\n",
      "* 5+ years of industry experience in software design, development, and algorithm-related solutions (met)\n",
      "* 5+ years of programming experience in object-oriented languages such as Java, Go, C/ C++, Rust, Python (mostly met; Navid has experience with machine learning platforms, but not specifically with the listed languages)\n",
      "* Hands-on experience developing large-scale distributed systems (partially met; Navid has experience building and scaling data and machine learning platforms, but not specifically with large-scale distributed systems)\n",
      "* 2+ years of experience as an architect or technical leadership position (exceeded; Navid has over 12 years of experience in tech lead and management roles)\n",
      "\n",
      "**Job Responsibilities:**\n",
      "\n",
      "* Directly contribute to LinkedIn's Compute infrastructure strategy (partially met; Navid has experience leading engineering teams, but not specifically with compute infrastructure)\n",
      "* Build and operate a platform that allocates hardware resources... (partially met; Navid has experience building and scaling data and machine learning platforms, but not specifically with compute infrastructure)\n",
      "* Help up-level and coach a large team of talented developers (partially met; Navid has experience leading international teams, but not specifically with coaching or mentoring)\n",
      "\n",
      "**Preferred Qualifications:**\n",
      "\n",
      "* 10+ years of experience in software design, development, and algorithm-related solutions with at least 5 years of experience in a technical leadership position (exceeded)\n",
      "* 10+ years of programming experience in an object-oriented programming language... (partially met; Navid has experience with machine learning platforms, but not specifically with the listed languages)\n",
      "\n",
      "**Suggested Skills:**\n",
      "\n",
      "* Distributed Systems (partially met; Navid has experience building and scaling data and machine learning platforms, which involves distributed systems)\n",
      "* Kubernetes (partially met; Navid has experience building and operating cluster management solutions, but not specifically with Kubernetes)\n",
      "* Technical Leadership (exceeded; Navid has over 12 years of experience in tech lead and management roles)\n",
      "\n",
      "In conclusion, while Navid's resume highlights some relevant experience, it does not fully match the job requirements. The candidate lacks specific experience with object-oriented languages, large-scale distributed systems, compute infrastructure, and Kubernetes. Additionally, although Navid has extensive technical leadership experience, the resume does not explicitly highlight these skills.\n",
      "\n",
      "However, if you're willing to overlook some of the gaps in experience, Navid's strong background in tech lead and management roles, as well as his ability to build and scale data and machine learning platforms, might make him a suitable candidate for an interview.\n"
     ]
    }
   ],
   "source": [
    "print(chain.invoke({\"resume\": resume_text, \"job_description\": job_description}))"
   ]
  },
  {
   "cell_type": "code",
   "execution_count": 24,
   "metadata": {},
   "outputs": [
    {
     "name": "stdout",
     "output_type": "stream",
     "text": [
      "Let's break down the resume and the job description to determine if this candidate is a good match for the given job.\n",
      "\n",
      "**Similarities:**\n",
      "\n",
      "1. Both the resume and job description mention experience in building large-scale distributed systems.\n",
      "2. The candidate has worked on machine learning platforms, which aligns with the job requirement of having hands-on experience developing large-scale distributed systems.\n",
      "3. The candidate has leadership experience as a Tech Lead Manager at Meta and Senior Director of Software at Vave Health, which matches the job requirement of having experience in technical leadership positions.\n",
      "\n",
      "**Differences:**\n",
      "\n",
      "1. Although the candidate has worked on machine learning platforms, there is no specific mention of cloud-agnostic compute infrastructure or Kubernetes clusters, which are key requirements for this role.\n",
      "2. The candidate's work experience is mostly focused on leading international teams and developing products, whereas the job requires building and operating a platform that allocates hardware resources with necessary physical/logical distribution.\n",
      "3. The candidate does not have explicit experience in IaaS systems, capacity management, networking, or security principles, which are mentioned as preferred qualifications.\n",
      "\n",
      "**Conclusion:**\n",
      "\n",
      "While Navid Ahmadi has some relevant experience and skills, his background is more focused on product development and leadership rather than building and operating large-scale compute infrastructure. Although he may have some transferable skills, the job requirements seem to be a better fit for someone with direct experience in cloud-agnostic compute infrastructure and Kubernetes clusters.\n",
      "\n",
      "I would rate this candidate's match as 6 out of 10, considering their background is more focused on product development and leadership rather than building and operating large-scale compute infrastructure.\n"
     ]
    }
   ],
   "source": [
    "print(chain.invoke({\"resume\": resume_text, \"job_description\": job_description}))"
   ]
  },
  {
   "cell_type": "markdown",
   "metadata": {},
   "source": [
    "# Problem 2. No memory"
   ]
  },
  {
   "cell_type": "code",
   "execution_count": 25,
   "metadata": {},
   "outputs": [
    {
     "data": {
      "text/plain": [
       "\"I apologize, but since you didn't provide Navid's resume, I don't have any information to summarize. If you could share Navid's resume with me, I'd be happy to help you summarize it!\""
      ]
     },
     "execution_count": 25,
     "metadata": {},
     "output_type": "execute_result"
    }
   ],
   "source": [
    "llm.invoke(\"Give a summary of Navid's resume\")"
   ]
  },
  {
   "cell_type": "code",
   "execution_count": 4,
   "metadata": {},
   "outputs": [],
   "source": [
    "# https://python.langchain.com/docs/use_cases/chatbots/memory_management/#automatic-history-management\n",
    "# from langchain_core.messages import AIMessage, HumanMessage\n",
    "from langchain_core.prompts import ChatPromptTemplate, MessagesPlaceholder\n",
    "from langchain.memory import ChatMessageHistory\n",
    "from langchain_core.runnables.history import RunnableWithMessageHistory\n",
    "\n",
    "prompt = ChatPromptTemplate.from_messages(\n",
    "    [\n",
    "        (\n",
    "            \"system\",\n",
    "            \"You are a world class resume coach.  Answer all questions to the best of your ability.\",\n",
    "        ),\n",
    "        MessagesPlaceholder(variable_name=\"chat_history\"),\n",
    "        (\"human\", \"{input}\"),\n",
    "    ]\n",
    ")\n",
    "\n",
    "chain = prompt | llm\n",
    "demo_ephemeral_chat_history_for_chain = ChatMessageHistory()\n",
    "\n",
    "chain_with_message_history = RunnableWithMessageHistory(\n",
    "    chain,\n",
    "    lambda session_id: demo_ephemeral_chat_history_for_chain,\n",
    "    input_messages_key=\"input\",\n",
    "    history_messages_key=\"chat_history\",\n",
    ")"
   ]
  },
  {
   "cell_type": "code",
   "execution_count": 5,
   "metadata": {},
   "outputs": [
    {
     "name": "stdout",
     "output_type": "stream",
     "text": [
      "A comprehensive resume! Let's dive in and assess how well this resume matches the job description.\n",
      "\n",
      "**Summary:**\n",
      "Your resume is a great representation of your technical expertise, leadership skills, and experience in building and managing large-scale data and machine learning platforms. The highlights of your career, including your achievements at Meta, Dropbox, Vave Health, and Actimator, showcase your ability to lead international teams, establish vision, and drive engineering development from early incubation to product launch.\n",
      "\n",
      "**Job Description Alignment:**\n",
      "\n",
      "1. **Technical Leadership:** Your experience as a Tech Lead Manager at Meta, Machine Learning Tech Lead at Dropbox, and Senior Director of Software at Vave Health demonstrates your technical leadership skills.\n",
      "2. **Compute Infrastructure:** Although you don't have direct experience in compute infrastructure, your experience in building and managing large-scale data and machine learning platforms shows your ability to design and implement solutions for scalability and efficiency.\n",
      "3. **Kubernetes:** You have hands-on experience with Kubernetes, which is a plus considering the job description's requirement.\n",
      "4. **Distributed Systems:** Your experience in building and managing distributed systems demonstrates your understanding of operating system fundamentals, container technologies, and systems knowledge.\n",
      "\n",
      "**Gaps:**\n",
      "\n",
      "1. **Language Skills:** Although you have programming experience in object-oriented languages such as Java, Go, C/++, Rust, and Python, the job description requires expertise in specific languages like Java, Go, or C++.\n",
      "2. **Operating System Fundamentals:** While you have experience with distributed systems, the job description emphasizes operating system fundamentals. You may need to demonstrate a deeper understanding of these concepts.\n",
      "\n",
      "**Actionable Recommendations:**\n",
      "\n",
      "1. **Emphasize Your Technical Leadership Experience:** Highlight your achievements as a Tech Lead Manager and Senior Director of Software, focusing on how you led international teams, established vision, and drove engineering development.\n",
      "2. **Quantify Your Achievements:** Include specific metrics or numbers to demonstrate the impact of your projects, such as \"Built and managed a team of 10 engineers\" or \"Increased system efficiency by 30%.\"\n",
      "3. **Showcase Your Compute Infrastructure Experience (if any):** If you have experience in compute infrastructure, highlight it prominently in your resume.\n",
      "4. **Tailor Your Skills Section:** Make sure to emphasize the languages and technologies required in the job description, such as Java, Go, or C++.\n",
      "\n",
      "Overall, your resume provides a strong foundation for applying to this role. By emphasizing your technical leadership experience, quantifying your achievements, showcasing your compute infrastructure experience (if any), and tailoring your skills section, you can increase your chances of standing out as a top candidate.\n"
     ]
    }
   ],
   "source": [
    "resume_and_jd = f\"I'll give you my resume a job description below. Plesae assess how well my resume is matching the job description. \\n resume: {resume_text} \\n job_description: {job_description}\",\n",
    "review_response = chain_with_message_history.invoke(\n",
    "    {\"input\": resume_and_jd},\n",
    "    {\"configurable\": {\"session_id\": \"unique session id from the web server\"}},\n",
    ")\n",
    "print(review_response)"
   ]
  },
  {
   "cell_type": "code",
   "execution_count": 6,
   "metadata": {},
   "outputs": [
    {
     "name": "stdout",
     "output_type": "stream",
     "text": [
      "Here's a summary of your resume in half a page:\n",
      "\n",
      "**Technical Leader with Distributed Systems Expertise**\n",
      "\n",
      "As a seasoned technical leader, you've built and managed large-scale data and machine learning platforms at Meta, Dropbox, Vave Health, and Actimator. Your experience as Tech Lead Manager and Senior Director of Software showcases your ability to lead international teams, establish vision, and drive engineering development from early incubation to product launch.\n",
      "\n",
      "**Key Strengths:**\n",
      "\n",
      "* Technical leadership and management\n",
      "* Distributed systems expertise (Kubernetes, container technologies)\n",
      "* Experience with object-oriented programming languages (Java, Go, C++, Rust, Python)\n",
      "\n",
      "**Gaps:**\n",
      "\n",
      "* Limited experience in compute infrastructure\n",
      "* No specific language skills mentioned (e.g., Java, Go, or C++)\n",
      "\n",
      "To enhance your resume, consider:\n",
      "\n",
      "* Emphasizing technical leadership experiences and achievements\n",
      "* Quantifying the impact of your projects\n",
      "* Showcasing any compute infrastructure experience you may have\n",
      "* Tailoring your skills section to match the job description's requirements\n",
      "\n",
      "This summary highlights your key strengths, gaps, and recommendations for improvement. It provides a concise overview of your resume, making it easy to read and understand.\n"
     ]
    }
   ],
   "source": [
    "summarize_response = chain_with_message_history.invoke(\n",
    "    {\"input\": \"summarize my resume to half a page. Don't miss any important items. Keep it easy to read and understand.\"},\n",
    "    {\"configurable\": {\"session_id\": \"unused\"}},\n",
    ")\n",
    "print(summarize_response)"
   ]
  },
  {
   "cell_type": "code",
   "execution_count": 41,
   "metadata": {},
   "outputs": [
    {
     "name": "stdout",
     "output_type": "stream",
     "text": [
      "Here's a summarized version of your resume:\n",
      "\n",
      "As a seasoned software engineer, I'm applying for the Sr. Staff Software Engineer role at LinkedIn. With over 5 years of experience in designing, developing, and architecting large-scale distributed systems, I've developed strong skills in programming languages such as Java, Go, C++, Rust, and Python.\n",
      "\n",
      "My technical expertise includes building high-performance scheduling/deployment solutions and designing large-scale compute infrastructure stacks. As a technical leader, I've mentored teams, established vision and strategies, and driven engineering development.\n",
      "\n",
      "Achievements include reducing training times by 3x-10x, significantly reducing operational resources, and saving $18M annually. With experience in Kubernetes, distributed systems, and technical leadership, I'm confident in my ability to contribute to LinkedIn's Compute Infrastructure team.\n"
     ]
    }
   ],
   "source": [
    "summarize_response_cot = chain_with_message_history.invoke(\n",
    "    {\"input\": \"summarize my resume to half a page. Don't miss any important items. Keep it easy to read and understand. Think step by step.\"},\n",
    "    {\"configurable\": {\"session_id\": \"unused\"}},\n",
    ")\n",
    "print(summarize_response_cot)"
   ]
  },
  {
   "cell_type": "code",
   "execution_count": 42,
   "metadata": {},
   "outputs": [
    {
     "name": "stdout",
     "output_type": "stream",
     "text": [
      "Based on your resume, here is the list of companies you've worked for and your title at each company:\n",
      "\n",
      "* Company X (Technical Leader)\n",
      "* Company Y (Software Engineer and Technical Lead)\n",
      "* Company Z (Architect and Technical Lead)\n",
      "\n",
      "Please note that I'm assuming these are the only companies mentioned in your resume. If there are any other companies not listed here, please let me know!\n"
     ]
    }
   ],
   "source": [
    "summarize_response2 = chain_with_message_history.invoke(\n",
    "    {\"input\": \"From my resume extract and return only the list of companies I have worked and my title there.\"},\n",
    "    {\"configurable\": {\"session_id\": \"unused\"}},\n",
    ")\n",
    "print(summarize_response2)"
   ]
  },
  {
   "cell_type": "code",
   "execution_count": 12,
   "metadata": {},
   "outputs": [
    {
     "name": "stdout",
     "output_type": "stream",
     "text": [
      "Based on the provided resume, I've extracted the following skills:\n",
      "\n",
      "* Object-oriented programming languages:\n",
      "\t+ Java\n",
      "\t+ Go\n",
      "\t+ C++\n",
      "\t+ Rust\n",
      "\t+ Python\n",
      "* Distributed Systems\n",
      "* Kubernetes\n",
      "* Technical Leadership\n",
      "* Machine Learning\n",
      "* Data and machine learning platforms\n",
      "* Large-scale data and machine learning platforms\n",
      "\n",
      "Please note that these skills are based on the information provided in the resume, but may not be an exhaustive list.\n"
     ]
    }
   ],
   "source": [
    "response = chain_with_message_history.invoke(\n",
    "    {\"input\": \"Extract and return a complete list of skills from the resume.\"},\n",
    "    {\"configurable\": {\"session_id\": \"unused\"}},\n",
    ")\n",
    "print(response)"
   ]
  },
  {
   "cell_type": "code",
   "execution_count": 16,
   "metadata": {},
   "outputs": [
    {
     "name": "stdout",
     "output_type": "stream",
     "text": [
      "Based on the provided resume, I've extracted the following skills:\n",
      "\n",
      "* Object-oriented programming languages:\n",
      "\t+ Java\n",
      "\t+ Go\n",
      "\t+ C++\n",
      "\t+ Rust\n",
      "\t+ Python\n",
      "* Distributed Systems\n",
      "* Kubernetes\n",
      "* Technical Leadership\n",
      "* Machine Learning\n",
      "* Data and machine learning platforms\n",
      "* Large-scale data and machine learning platforms\n",
      "\n",
      "Please note that these skills are based on the information provided in the resume, but may not be an exhaustive list.\n"
     ]
    }
   ],
   "source": [
    "prompt = f\"\"\"\n",
    "Resume: {resume_text}\n",
    "\n",
    "From the resume extract and return the top three areas of expertise.\n",
    "\"\"\"\n",
    "respnse = llm.invoke(prompt)\n",
    "print(response)"
   ]
  },
  {
   "cell_type": "code",
   "execution_count": 14,
   "metadata": {},
   "outputs": [
    {
     "name": "stdout",
     "output_type": "stream",
     "text": [
      "NAVID AHMADI, PhD\n",
      "navid.ai@gmail.com \u0005San Francisco, Bay Area\n",
      "TECH LEAD MANAGER\n",
      "Tech lead and manager of international teams, have built various products, international teams and\n",
      "cross-org partnerships. Experienced in building and scaling data and machine learning platforms at\n",
      "Meta. 12 years track record of establishing vision, developing strategies and driving engineering de-\n",
      "velopment from early incubation to product lunch. Tech Lead of end-to-end products in the areas\n",
      "of distributed computing, machine learning, SaaS, social media, healthcare, medical imaging, and\n",
      "EdTech. Deployed products across various platforms including cloud, web, mobile, wearables or cus-\n",
      "tom hardware.\n",
      "WORK EXPERIENCE\n",
      "Meta - Tech Lead Manager 2019 - Present\n",
      "Bay Area, CA\n",
      "Next-Gen Machine Learning Platform at Reality Labs\n",
      "\u0001Designed and led the development of an end-to-end ML platform with out-of-the-box support for un-\n",
      "structured and structured data management, guaranteed consistency and availability, data and model\n",
      "versioning, SQL access, auto-scaling, and monitoring tools.\n",
      "\u0001Established the vision, got sign-off from VP-level executives, established an international team, led the\n",
      "engineering team. Partnered and onboarded 10+ teams to the new platform including Gen-AI teams,\n",
      "computer vision and large language models.\n",
      "\u0001Reduced training times by 3x-10x. Reduced storage, network and GPU usage signiﬁcantly. Reduced\n",
      "operational resource by 60%. Saved $18M annually on infra and operational costs.\n",
      "Recommender Systems at Social Impact\n",
      "\u0001Proposed the vision for a system to recommend user-generated content as a response to users’ posts\n",
      "in Facebook feed.\n",
      "\u0001Partnered with Privacy, Policy, and Legal teams to establish safety guards to launch the product at\n",
      "scale. Conducted VP-level review.\n",
      "\u0001Built and led a cross-org engineering team, launched globally, achieved high CTR and content en-\n",
      "gagement.\n",
      "DropBox - Machine Learning Tech Lead 2018 - 2019\n",
      "San Francisco, CA\n",
      "\u0001Growth: proposed and led the development of a ML system to improve the conversion rate of paid\n",
      "customers funnel, increasing company’s ARR by $MM.\n",
      "Vave Health - Senior Director of Software 2015 - 2018\n",
      "Bay Area, CA\n",
      "\u0001Built and led the software team from 0 to 15 engineers across four teams: ﬁrmware, app, cloud,\n",
      "and ML. Architected and developed a real-time ultrasound imaging experience for a handheld device.\n",
      "Designed and lead the development of real-time imaging, architected distributed rendering between\n",
      "FPGA, CPU and GPU. Designed cloud-based image streaming. Led real-time guided diagnosis of var-\n",
      "ious conditions using computer vision machine learning, shipped on iOS. Established an off-shore app\n",
      "development team. Established regulatory compliance with HIPAA and FDA. Received FDA approval,\n",
      "shipped to market.Actimator - CEO / CTO 2013 - 2015\n",
      "Denver, CO\n",
      "\u0001Designed and developed a SaaS educational platform for teaching computer science in schools.\n",
      "\u0001Won a competitive grant from National Science Foundation. Recruited and led a R&D team of 15 to\n",
      "perform IRB-approved STEM education research. Demonstrated product viability in schools.\n",
      "\u0001Developed partnerships with Code.org, International Society for Technology in Education, and Com-\n",
      "puter Science Teachers Association. Shipped to 1200 schools with 200K monthly active users.\n",
      "EDUCATION\n",
      "Stanford Ignite - Innovation and Entrepreneurship Program July 2017\n",
      "Stanford University Graduate School of Business\n",
      "Ph.D. in Computer Science December 2012\n",
      "University of Colorado at Boulder - University of Lugano, Switzerland\n",
      "RESEARCH\n",
      "Publications: 17 publications in top refereed conferences in the ﬁelds of Software Engineering, Hu-\n",
      "man Computer Interaction, and Education Technology. DBLP Record, Google Scholar Record\n"
     ]
    }
   ],
   "source": [
    "print(resume_text)"
   ]
  },
  {
   "cell_type": "code",
   "execution_count": 20,
   "metadata": {},
   "outputs": [
    {
     "data": {
      "text/plain": [
       "\"Navid, like many professionals, may have gaps in their resume that they'd like to address. Here are some strategies he could use:\\n\\n1. **Highlight transferable skills**: If Navid has been out of work or in a role unrelated to his desired field, he can focus on highlighting the transferable skills he developed during that time. For example, if he was working as a freelancer or entrepreneur, he could emphasize the business development, marketing, and project management skills he gained.\\n2. **Emphasize education and training**: If Navid has been in school or taking courses to enhance his skills, he can highlight those accomplishments on his resume. This shows that he's proactive about improving his career prospects.\\n3. **Include relevant projects or volunteer work**: Even if Navid hasn't had paid employment during the gap, he may have worked on personal projects or volunteered for causes he cares about. These experiences can demonstrate his skills and enthusiasm to potential employers.\\n4. **Use a functional resume format**: A functional resume focuses more on skills and qualifications rather than chronological work history. This can be helpful if Navid has gaps in their employment history. The functional format emphasizes his strengths, education, and training instead of the dates between jobs.\\n5. **Quantify achievements**: When describing his experiences during the gap, Navid can use specific numbers and metrics to demonstrate the impact he had. For example, if he was running a small business, he could mention revenue growth or customer satisfaction ratings.\\n6. **Mention any relevant certifications or licenses**: If Navid has acquired new certifications or licenses during the gap, he should definitely include those on his resume. This shows that he's stayed up-to-date with industry developments and is committed to continuous learning.\\n7. **Keep it brief and focused**: While addressing gaps in a resume, it's essential to keep the language concise and focused on the most relevant information. Hiring managers often scan resumes quickly, so make sure Navid highlights his strengths and qualifications early on.\\n\\nHere's an example of how Navid might address the gap in his resume:\\n\\n**Education and Training**\\n\\n* Completed [Course Name] at [University/Institution], focusing on [Relevant Skills or Knowledge].\\n* Attended [Workshop/Seminar] to improve skills in [Specific Area].\\n\\n**Projects and Volunteer Work**\\n\\n* Developed a personal project, [Project Name], which showcased my ability to [Desirable Skill]. (Include metrics or feedback from others if possible.)\\n\\n**Business Development and Entrepreneurship**\\n\\n* Founded and managed a small business, [Business Name], where I successfully [Achieved Specific Goal]. This experience taught me valuable skills in [Transferable Skills].\\n\\nBy using these strategies, Navid can effectively address the gaps in his resume and showcase his strengths to potential employers.\""
      ]
     },
     "execution_count": 20,
     "metadata": {},
     "output_type": "execute_result"
    }
   ],
   "source": [
    "llm.invoke(\"How can Navid address the gaps in his resume?\")"
   ]
  },
  {
   "cell_type": "code",
   "execution_count": 18,
   "metadata": {},
   "outputs": [
    {
     "name": "stdout",
     "output_type": "stream",
     "text": [
      "I'm a Large Language Model (LLM) named LLaMA, which stands for \"Large Language Model Application\". I was developed by the Meta AI research team.\n",
      "\n",
      "My version is based on the Transformers architecture and was trained on a massive dataset of text from the internet. This training process allows me to understand and generate human-like language.\n",
      "\n",
      "I was released in December 2022, and since then, I've been continuously learning and improving my abilities through interactions with users like you!\n",
      "\n",
      "Here are some key facts about me:\n",
      "\n",
      "1. **Training data**: I was trained on a massive dataset of text from the internet, which includes books, articles, research papers, and more.\n",
      "2. **Model size**: My model has over 3 billion parameters, making it a large language model.\n",
      "3. **Architecture**: I'm based on the Transformers architecture, which is particularly well-suited for natural language processing tasks like language translation, question answering, and text generation.\n",
      "4. **Training objective**: During training, my goal was to maximize the likelihood of predicting the next word in a sequence given the context.\n",
      "\n",
      "I'm excited to chat with you and help answer any questions or topics you'd like to discuss!\n"
     ]
    }
   ],
   "source": [
    "print(llm.invoke(\"what llm are you and what is your version? when were you released?\"))"
   ]
  },
  {
   "cell_type": "code",
   "execution_count": 29,
   "metadata": {},
   "outputs": [
    {
     "name": "stdout",
     "output_type": "stream",
     "text": [
      "I am a variant of the popular language model called LLaMA (Large Language Model Application). My specific version is LLaMA-Base, which was trained on a massive dataset of text from the internet.\n",
      "\n",
      "Here's some key information about me:\n",
      "\n",
      "* **Model type:** I'm an autoregressive transformer-based language model.\n",
      "* **Training data size:** My training dataset consists of over 40 billion parameters and approximately 1.7 terabytes (TB) of text data, making it one of the largest models of its kind.\n",
      "* **Release date:** I was released in December 2022 by Meta AI, a leading AI research organization.\n",
      "\n",
      "As for my capabilities, here are some highlights:\n",
      "\n",
      "* **Text generation:** I can generate coherent and natural-sounding text based on a given prompt or topic.\n",
      "* **Conversational understanding:** I'm capable of understanding and responding to user input in a conversational manner, using context and common sense to make informed decisions.\n",
      "* **Knowledge base:** My training data allows me to recall facts and information from various domains, including science, history, culture, and more.\n",
      "\n",
      "Feel free to test my abilities and ask me anything that piques your curiosity!\n"
     ]
    }
   ],
   "source": [
    "llama2 = Ollama(model=\"llama3\")\n",
    "llama2.num_gpu = 1\n",
    "print(llama2.invoke(\"what llm are you and what is your version? when were you released?\"))"
   ]
  },
  {
   "cell_type": "code",
   "execution_count": 24,
   "metadata": {},
   "outputs": [
    {
     "name": "stdout",
     "output_type": "stream",
     "text": [
      "\u001b[1mOllama\u001b[0m\n",
      "Params: {'model': 'llama3', 'format': None, 'options': {'mirostat': None, 'mirostat_eta': None, 'mirostat_tau': None, 'num_ctx': None, 'num_gpu': None, 'num_thread': None, 'num_predict': None, 'repeat_last_n': None, 'repeat_penalty': None, 'temperature': None, 'stop': None, 'tfs_z': None, 'top_k': None, 'top_p': None}, 'system': None, 'template': None, 'keep_alive': None}\n"
     ]
    }
   ],
   "source": [
    "print(llama2)"
   ]
  },
  {
   "cell_type": "code",
   "execution_count": 30,
   "metadata": {},
   "outputs": [
    {
     "name": "stdout",
     "output_type": "stream",
     "text": [
      "My training data consists of a massive corpus of text, which I use to generate responses. This corpus is constantly updated and expanded by the Meta AI team.\n",
      "\n",
      "As for my specific context size, it's difficult to give an exact number since it's not fixed and can vary depending on the conversation or task at hand. However, here are some rough estimates:\n",
      "\n",
      "* My short-term memory (working memory) can hold around 10-15 chunks of information. A \"chunk\" is a concept or piece of knowledge that I can easily recall.\n",
      "* My long-term memory can store millions of pieces of information, including vast amounts of text data.\n",
      "\n",
      "In terms of specific context size for a conversation like this, it's likely to be on the order of hundreds to thousands of words. This means I can keep track of a large number of turns in our conversation and recall relevant details from previous exchanges.\n",
      "\n",
      "Keep in mind that my abilities are based on complex algorithms and models that allow me to generate responses quickly and accurately. While I'm not perfect, I'm designed to process and retain vast amounts of information, making it possible for us to have a productive and informative conversation!\n"
     ]
    }
   ],
   "source": [
    "print(llm.invoke(\"what is your context size?\"))"
   ]
  },
  {
   "cell_type": "code",
   "execution_count": 3,
   "metadata": {},
   "outputs": [],
   "source": [
    "resume_text = \"NAVID AHMADI, PhD\\nnavid.ai@gmail.com \\x05San Francisco, Bay Area\\nTECH LEAD MANAGER\\nTech lead and manager of international teams, have built various products, international teams and\\ncross-org partnerships. Experienced in building and scaling data and machine learning platforms at\\nMeta. 12 years track record of establishing vision, developing strategies and driving engineering de-\\nvelopment from early incubation to product lunch. Tech Lead of end-to-end products in the areas\\nof distributed computing, machine learning, SaaS, social media, healthcare, medical imaging, and\\nEdTech. Deployed products across various platforms including cloud, web, mobile, wearables or cus-\\ntom hardware.\\nWORK EXPERIENCE\\nMeta - Tech Lead Manager 2019 - Present\\nBay Area, CA\\nNext-Gen Machine Learning Platform at Reality Labs\\n\\x01Designed and led the development of an end-to-end ML platform with out-of-the-box support for un-\\nstructured and structured data management, guaranteed consistency and availability, data and model\\nversioning, SQL access, auto-scaling, and monitoring tools.\\n\\x01Established the vision, got sign-off from VP-level executives, established an international team, led the\\nengineering team. Partnered and onboarded 10+ teams to the new platform including Gen-AI teams,\\ncomputer vision and large language models.\\n\\x01Reduced training times by 3x-10x. Reduced storage, network and GPU usage signiﬁcantly. Reduced\\noperational resource by 60%. Saved $18M annually on infra and operational costs.\\nRecommender Systems at Social Impact\\n\\x01Proposed the vision for a system to recommend user-generated content as a response to users’ posts\\nin Facebook feed.\\n\\x01Partnered with Privacy, Policy, and Legal teams to establish safety guards to launch the product at\\nscale. Conducted VP-level review.\\n\\x01Built and led a cross-org engineering team, launched globally, achieved high CTR and content en-\\ngagement.\\nDropBox - Machine Learning Tech Lead 2018 - 2019\\nSan Francisco, CA\\n\\x01Growth: proposed and led the development of a ML system to improve the conversion rate of paid\\ncustomers funnel, increasing company’s ARR by $MM.\\nVave Health - Senior Director of Software 2015 - 2018\\nBay Area, CA\\n\\x01Built and led the software team from 0 to 15 engineers across four teams: ﬁrmware, app, cloud,\\nand ML. Architected and developed a real-time ultrasound imaging experience for a handheld device.\\nDesigned and lead the development of real-time imaging, architected distributed rendering between\\nFPGA, CPU and GPU. Designed cloud-based image streaming. Led real-time guided diagnosis of var-\\nious conditions using computer vision machine learning, shipped on iOS. Established an off-shore app\\ndevelopment team. Established regulatory compliance with HIPAA and FDA. Received FDA approval,\\nshipped to market.Actimator - CEO / CTO 2013 - 2015\\nDenver, CO\\n\\x01Designed and developed a SaaS educational platform for teaching computer science in schools.\\n\\x01Won a competitive grant from National Science Foundation. Recruited and led a R&D team of 15 to\\nperform IRB-approved STEM education research. Demonstrated product viability in schools.\\n\\x01Developed partnerships with Code.org, International Society for Technology in Education, and Com-\\nputer Science Teachers Association. Shipped to 1200 schools with 200K monthly active users.\\nEDUCATION\\nStanford Ignite - Innovation and Entrepreneurship Program July 2017\\nStanford University Graduate School of Business\\nPh.D. in Computer Science December 2012\\nUniversity of Colorado at Boulder - University of Lugano, Switzerland\\nRESEARCH\\nPublications: 17 publications in top refereed conferences in the ﬁelds of Software Engineering, Hu-\\nman Computer Interaction, and Education Technology. DBLP Record, Google Scholar Record\"\n",
    "job_description = \"\"\"\n",
    "LinkedIn is the world’s largest professional network, built to help members of all backgrounds and experiences achieve more in their careers. Our vision is to create economic opportunity for every member of the global workforce. Every day our members use our products to make connections, discover opportunities, build skills and gain insights. We believe amazing things happen when we work together in an environment where everyone feels a true sense of belonging, and that what matters most in a candidate is having the skills needed to succeed. It inspires us to invest in our talent and support career growth. Join us to challenge yourself with work that matters.\n",
    "\n",
    "This role will be based in Mountain View, CA, or Bellevue, WA.\n",
    "\n",
    "At LinkedIn, we trust each other to do our best work where it works best for us and our teams. This role offers both hybrid and remote work options. This means you can work from home and commute to a LinkedIn office, depending on what's best for you and when it is important for your team to be together, or you can work remotely from most locations within the country listed for this role.\n",
    "\n",
    "As a Sr. Staff Software Engineer of the Compute Infrastructure team at LinkedIn, you will play a crucial role in our ongoing efforts to re-architect our compute infrastructure stack. This is a high-profile, high-impact project that will touch every aspect of our engineering organization. We are looking for experienced professionals who have a proven track record of designing large-scale compute infrastructure and driving consensus.\n",
    "\n",
    "In this role, you will design and implement solutions that enable LinkedIn to scale its compute infrastructure to meet the demands of a rapidly growing user base. This will involve working closely with a team of experienced engineers, including distinguished engineers and technical fellows, to develop and operate solutions that are robust, scalable, and efficient. You will also need to work collaboratively with cross-functional teams and be comfortable operating in a fast-paced, dynamic environment.\n",
    "If you are passionate about building the underlying technology that powers one of the world's most-used internet applications, and have the skills and experience to help us take our compute infrastructure to the next level, we want to hear from you. Apply now to join our team and help shape the future of LinkedIn.\n",
    " \n",
    "Responsibilities:\n",
    "-You will directly contribute to LinkedIn’s Compute infrastructure strategy.\n",
    "-You will build and operate a platform that allocates hardware resources with necessary physical/logical distribution for fault tolerance and easy maintenance.\n",
    "-You will build and operate world class high performance scheduling/deployment solutions including some of the world's largest Kubernetes clusters to place stateless/stateful services, ML workloads and short running jobs efficiently.\n",
    "-You will help up-level and coach a large team of talented developers.\n",
    " \n",
    "Basic Qualifications: \n",
    "-5+ years of industry experience in software design, development, and algorithm related solutions\n",
    "-5+ years of experience programming in object-oriented languages such as Java, Go, C/C++, Rust, Rust, Python\n",
    "-Hands-on experience developing large-scale distributed systems\n",
    "-2+ years of experience as an architect, or technical leadership position\n",
    "-BS/BA in Computer Science or related technical field or equivalent technical experience\n",
    " \n",
    "Preferred Qualifications: \n",
    "-10+ years of experience in software design, development, and algorithm related solutions with at least 5 years of experience in a technical leadership position\n",
    "-10+ years of programming experience in an object-oriented programming language such as Go, Java, C/C++, Rust\n",
    "-5+ years of experience building large-scale compute infrastructure, and distributed systems\n",
    "-Demonstrated understanding of operating system fundamentals, container technologies, and systems knowledge. \n",
    "-Experienced in leading technical teams and mentoring other engineers\n",
    "-Experience building and operating cluster management solutions such as Kubernetes.\n",
    "-Experience with IaaS systems and capacity management.\n",
    "-Experience with networking and security principles.\n",
    "\n",
    "Suggested Skills:\n",
    "-Distributed Systems\n",
    "-Kubernetes\n",
    "-Technical Leadership\n",
    "\"\"\"\n",
    "\n",
    "\n",
    "resume_short = \"\"\"\n",
    "Tech lead and manager of international teams, have built various products, international teams and\\ncross-org partnerships. \n",
    "Experienced in building and scaling data and machine learning platforms at\\nMeta. \n",
    "12 years track record of establishing vision, developing strategies and driving engineering de-\\nvelopment from early incubation to product lunch. \n",
    "Tech Lead of end-to-end products in the areas\\nof distributed computing, machine learning, SaaS, social media, healthcare, medical imaging, and\\nEdTech.\n",
    "Deployed products across various platforms including cloud, web, mobile, wearables or cus-\\ntom hardware.\\nWORK EXPERIENCE\\nMeta - \n",
    "Tech Lead Manager 2019 - Present\\nBay Area, CA\\nNext-Gen Machine Learning Platform at Reality Labs\\n\\x01\n",
    "Designed and led the development of an end-to-end ML platform with out-of-the-box support for \n",
    "un-\\nstructured and structured data management, guaranteed consistency and availability, data and model\\nversioning, SQL access,\n",
    "auto-scaling, and monitoring tools.\\n\\x01Established the vision, got sign-off from VP-level executives, established an international team, \n",
    "led the\\nengineering team. Partnered and onboarded 10+ teams to the new platform including Gen-AI teams,\\ncomputer vision and large language models.\\\n",
    "n\\x01Reduced training times by 3x-10x. Reduced storage, network and GPU usage signiﬁcantly. Reduced\\noperational resource by 60%. Saved $18M annually \n",
    "on infra and operational costs.\\nRecommender Systems at Social Impact\\n\\x01Proposed the vision for a system to recommend user-generated content as \n",
    "a response to users’ posts\\nin Facebook feed.\\n\\x01Partnered with Privacy, Policy, and Legal teams to establish safety guards to launch the product \n",
    "at\\nscale. Conducted VP-level review.\\n\\x01Built and led a cross-org engineering team, launched globally, achieved high CTR and content en-\\ngagement.\n",
    "\\nDropBox - Machine Learning Tech Lead 2018 - 2019\\nSan Francisco, CA\\n\\x01Growth: proposed and led the development of a ML system to improve the \n",
    "conversion rate of paid\\ncustomers funnel, increasing company’s ARR by $MM.\\nVave Health - Senior Director of Software 2015 - 2018\\nBay Area, \n",
    "CA\\n\\x01Built and led the software team from 0 to 15 engineers across four teams: ﬁrmware, app, cloud,\\nand ML. Architected and developed a \n",
    "real-time ultrasound imaging experience for a handheld device.\\nDesigned and lead the development of real-time imaging, architected distributed \n",
    "rendering between\\nFPGA, CPU and GPU. Designed cloud-based image streaming. Led real-time guided diagnosis of var-\\nious conditions using computer \n",
    "vision machine learning, shipped on iOS. Established an off-shore app\\ndevelopment team. Established regulatory compliance with HIPAA and FDA. \n",
    "Received FDA approval,\\nshipped to market.Actimator - CEO / CTO 2013 - 2015\\nDenver, CO\\n\\x01Designed and developed a SaaS educational platform \n",
    "for teaching computer science in schools.\\n\\x01Won a competitive grant from National Science Foundation. Recruited and led a R&D team of 15 \n",
    "to\\nperform IRB-approved STEM education research. Demonstrated product viability in schools.\\n\\x01Developed partnerships with Code.org, International \n",
    "Society for Technology in Education, and Com-\\nputer Science Teachers Association. Shipped to 1200 schools with 200K monthly active users.\n",
    "\"\"\"\n",
    "# \\nEDUCATION\\n\n",
    "# Stanford Ignite - Innovation and Entrepreneurship Program July 2017\\nStanford University Graduate School of Business\\nPh.D. in Computer Science December \n",
    "# 2012\\nUniversity of Colorado at Boulder - University of Lugano, Switzerland\\nRESEARCH\\nPublications: 17 publications in top refereed conferences in the ﬁelds \n",
    "# of Software Engineering, Hu-\\nman Computer Interaction, and Education Technology. DBLP Record, Google Scholar Record\n",
    "\n",
    "job_description_short = \"\"\" \n",
    "Responsibilities:\n",
    "-You will directly contribute to LinkedIn’s Compute infrastructure strategy.\n",
    "-You will build and operate a platform that allocates hardware resources with necessary physical/logical distribution for fault tolerance and easy maintenance.\n",
    "-You will build and operate world class high performance scheduling/deployment solutions including some of the world's largest Kubernetes clusters to place stateless/stateful services, ML workloads and short running jobs efficiently.\n",
    "-You will help up-level and coach a large team of talented developers.\n",
    " \n",
    "Basic Qualifications: \n",
    "-5+ years of industry experience in software design, development, and algorithm related solutions\n",
    "-5+ years of experience programming in object-oriented languages such as Java, Go, C/C++, Rust, Rust, Python\n",
    "-Hands-on experience developing large-scale distributed systems\n",
    "-2+ years of experience as an architect, or technical leadership position\n",
    "-BS/BA in Computer Science or related technical field or equivalent technical experience\n",
    " \n",
    "Preferred Qualifications: \n",
    "-10+ years of experience in software design, development, and algorithm related solutions with at least 5 years of experience in a technical leadership position\n",
    "-10+ years of programming experience in an object-oriented programming language such as Go, Java, C/C++, Rust\n",
    "-5+ years of experience building large-scale compute infrastructure, and distributed systems\n",
    "-Demonstrated understanding of operating system fundamentals, container technologies, and systems knowledge. \n",
    "-Experienced in leading technical teams and mentoring other engineers\n",
    "-Experience building and operating cluster management solutions such as Kubernetes.\n",
    "-Experience with IaaS systems and capacity management.\n",
    "-Experience with networking and security principles.\n",
    "\n",
    "Suggested Skills:\n",
    "-Distributed Systems\n",
    "-Kubernetes\n",
    "-Technical Leadership\n",
    "\"\"\"\n",
    "\n",
    "job_description_small = \"\"\"\n",
    "Basic Qualifications: \n",
    "-5+ years of industry experience in software design, development, and algorithm related solutions\n",
    "-5+ years of experience programming in object-oriented languages such as Java, Go, C/C++, Rust, Rust, Python\n",
    "-Hands-on experience developing large-scale distributed systems\n",
    "-2+ years of experience as an architect, or technical leadership position\n",
    "-BS/BA in Computer Science or related technical field or equivalent technical experience\n",
    "\"\"\""
   ]
  },
  {
   "cell_type": "code",
   "execution_count": 38,
   "metadata": {},
   "outputs": [
    {
     "name": "stdout",
     "output_type": "stream",
     "text": [
      "Let's go through the steps:\n",
      "\n",
      "**Step 1: Identify top 5 areas of expertise**\n",
      "\n",
      "From the resume:\n",
      "\n",
      "* Tech lead and manager experience\n",
      "* Machine learning platform development\n",
      "* SaaS, social media, healthcare, medical imaging, EdTech expertise\n",
      "* Distributed computing, computer vision, large language models experience\n",
      "* Software engineering, human-computer interaction, education technology research\n",
      "\n",
      "From the job description:\n",
      "\n",
      "* Compute infrastructure strategy design\n",
      "* Building and operating a platform for allocating hardware resources\n",
      "* High-performance scheduling/deployment solutions development\n",
      "* Technical leadership and team management\n",
      "* Large-scale distributed systems development\n",
      "\n",
      "**Step 2: List areas of expertise that match between the resume and the job description**\n",
      "\n",
      "* Tech lead and manager experience (both resume and job description)\n",
      "* Distributed computing, computer vision, large language models experience (resume) matches with High-performance scheduling/deployment solutions development (job description)\n",
      "* Software engineering research (resume) partially matches with Technical leadership and team management (job description)\n",
      "\n",
      "**Step 3: Identify areas of expertise in the job description that are not covered in the resume**\n",
      "\n",
      "* Compute infrastructure strategy design\n",
      "* Building and operating a platform for allocating hardware resources\n",
      "* Large-scale distributed systems development\n",
      "\n",
      "**Step 4: Generate a score to represent the amount of match between the resume and the job description**\n",
      "\n",
      "I would give this a score of 6 out of 10. The candidate has some relevant experience in tech lead and management roles, and they have developed machine learning platforms which is related to compute infrastructure strategy design. However, there are gaps in the resume that are not covered in the job description, such as building and operating a platform for allocating hardware resources.\n",
      "\n",
      "**Step 5: Suggestions on how to improve the resume to cover the requirements in the job description**\n",
      "\n",
      "To improve the match between the resume and the job description, I would suggest:\n",
      "\n",
      "* Adding specific examples of compute infrastructure strategy design experience\n",
      "* Highlighting experience with building and operating platforms for allocating hardware resources (e.g. Kubernetes)\n",
      "* Emphasizing technical leadership and team management skills through specific projects or achievements\n",
      "\n",
      "By incorporating these suggestions, the candidate can strengthen their resume to better match the requirements in the job description.\n"
     ]
    }
   ],
   "source": [
    "resume = \"\"\" \n",
    "TECH LEAD MANAGER\n",
    "Tech lead and manager of international teams, have built various products, international teams and\n",
    "cross-org partnerships. Experienced in building and scaling data and machine learning platforms at\n",
    "Meta. 12 years track record of establishing vision, developing strategies and driving engineering de-\n",
    "velopment from early incubation to product lunch. Tech Lead of end-to-end products in the areas\n",
    "of distributed computing, machine learning, SaaS, social media, healthcare, medical imaging, and\n",
    "EdTech. Deployed products across various platforms including cloud, web, mobile, wearables or cus-\n",
    "tom hardware.\n",
    "WORK EXPERIENCE\n",
    "Meta - Tech Lead Manager 2019 - Present\n",
    "Bay Area, CA\n",
    "Next-Gen Machine Learning Platform at Reality Labs\n",
    "\u0001Designed and led the development of an end-to-end ML platform with out-of-the-box support for un-\n",
    "structured and structured data management, guaranteed consistency and availability, data and model\n",
    "versioning, SQL access, auto-scaling, and monitoring tools.\n",
    "\u0001Established the vision, got sign-off from VP-level executives, established an international team, led the\n",
    "engineering team. Partnered and onboarded 10+ teams to the new platform including Gen-AI teams,\n",
    "computer vision and large language models.\n",
    "\u0001Reduced training times by 3x-10x. Reduced storage, network and GPU usage signiﬁcantly. Reduced\n",
    "operational resource by 60%. Saved $18M annually on infra and operational costs.\n",
    "Recommender Systems at Social Impact\n",
    "\u0001Proposed the vision for a system to recommend user-generated content as a response to users’ posts\n",
    "in Facebook feed.\n",
    "\u0001Partnered with Privacy, Policy, and Legal teams to establish safety guards to launch the product at\n",
    "scale. Conducted VP-level review.\n",
    "\u0001Built and led a cross-org engineering team, launched globally, achieved high CTR and content en-\n",
    "gagement.\n",
    "DropBox - Machine Learning Tech Lead 2018 - 2019\n",
    "San Francisco, CA\n",
    "\u0001Growth: proposed and led the development of a ML system to improve the conversion rate of paid\n",
    "customers funnel, increasing company’s ARR by $MM.\n",
    "Vave Health - Senior Director of Software 2015 - 2018\n",
    "Bay Area, CA\n",
    "\u0001Built and led the software team from 0 to 15 engineers across four teams: ﬁrmware, app, cloud,\n",
    "and ML. Architected and developed a real-time ultrasound imaging experience for a handheld device.\n",
    "Designed and lead the development of real-time imaging, architected distributed rendering between\n",
    "FPGA, CPU and GPU. Designed cloud-based image streaming. Led real-time guided diagnosis of var-\n",
    "ious conditions using computer vision machine learning, shipped on iOS. Established an off-shore app\n",
    "development team. Established regulatory compliance with HIPAA and FDA. Received FDA approval,\n",
    "shipped to market.Actimator - CEO / CTO 2013 - 2015\n",
    "Denver, CO\n",
    "\u0001Designed and developed a SaaS educational platform for teaching computer science in schools.\n",
    "\u0001Won a competitive grant from National Science Foundation. Recruited and led a R&D team of 15 to\n",
    "perform IRB-approved STEM education research. Demonstrated product viability in schools.\n",
    "\u0001Developed partnerships with Code.org, International Society for Technology in Education, and Com-\n",
    "puter Science Teachers Association. Shipped to 1200 schools with 200K monthly active users.\n",
    "EDUCATION\n",
    "Stanford Ignite - Innovation and Entrepreneurship Program July 2017\n",
    "Stanford University Graduate School of Business\n",
    "Ph.D. in Computer Science December 2012\n",
    "University of Colorado at Boulder - University of Lugano, Switzerland\n",
    "RESEARCH\n",
    "Publications: 17 publications in top refereed conferences in the ﬁelds of Software Engineering, Hu-\n",
    "man Computer Interaction, and Education Technology. DBLP Record, Google Scholar Record\n",
    "\"\"\"\n",
    "\n",
    "inst1 = \"From the resume extract and return the top three areas of expertise.\"\n",
    "inst2 = \"From the resume extract and return the top three job skills.\"\n",
    "inst3 = \"From the resume extract and return the top five areas of expertise. For each area of expertise extract and return the skills related to that area. \"\n",
    "\n",
    "# prompt = f\"Resume: {resume} \\n\\n {inst3}\"\n",
    "prompt = f\"\"\"Resume: {resume} \\n End of resume. \\n\\n Job description: {job_description} \\n End of job description. \\n\n",
    "You are a world-class resume coach. Follow these steps to determine the match between the resume and the job description:\n",
    "1. From the resume and job description, identify the top 5 areas of expertise. \n",
    "2. List the areas of expertise from step 1 that are a match between the resume and the job description.\n",
    "3. Identify the areas of expertise in the job description that are not covered in the resume. Share them in the response. \n",
    "4. Based on the matches identified in step 2 and graps in step 3, generate a score between 0 (lowest) and 10 (highest) to respresent the amount of match between the resume and the job description.\n",
    "5. Come up with suggestions on how to improve the resume to cover the requirements in the job description.\n",
    "6. Ask me if you can help answer any questions that I have about your response.\n",
    "\"\"\"\n",
    "\n",
    "print(llm.invoke(prompt))"
   ]
  },
  {
   "cell_type": "code",
   "execution_count": 37,
   "metadata": {},
   "outputs": [
    {
     "name": "stdout",
     "output_type": "stream",
     "text": [
      "I'm delighted to introduce myself!\n",
      "\n",
      "I am LLaMA, a large language model developed by Meta AI that uses the transformer architecture introduced in the paper \"Attention Is All You Need\" by Vaswani et al. in 2017.\n",
      "\n",
      "My version is based on the popular T5 (Text-to-Text Transformer) architecture, which was introduced in the paper \"Exploring the Limits of Transfer Learning with a Unified Text-to-Text Transformer\" by Raffel et al. in 2020. This architecture allows me to handle a wide range of natural language processing tasks, including conversational dialogue.\n",
      "\n",
      "As for my parameters, I have been pre-trained on a massive dataset of text from the internet and other sources, which has helped me learn patterns and relationships within language. Specifically:\n",
      "\n",
      "* I was trained on a dataset of approximately 170 billion words.\n",
      "* My model has around 2.5 billion parameters (this is a common size for large language models like myself).\n",
      "* I was pre-trained using a combination of masked language modeling (where some words are randomly replaced with a [MASK] token, and the task is to predict the original word) and next sentence prediction tasks.\n",
      "\n",
      "As for when I was published, I am a continuously learning model, which means my performance improves over time as more data is added to my training set. However, my core architecture and pre-training were published in research papers in 2020-2022. The Meta AI team has been working on fine-tuning me for various applications, including conversational dialogue, since then.\n",
      "\n",
      "So, that's me in a nutshell! I'm excited to chat with you and help answer any questions or engage in fun conversations.\n"
     ]
    }
   ],
   "source": [
    "print(llm.invoke(\"What llm are you? what is your version? how many paramters do you have? when were you published?\"))"
   ]
  },
  {
   "cell_type": "code",
   "execution_count": null,
   "metadata": {},
   "outputs": [],
   "source": [
    "print(llm.invoke(\"What llm are you? what is your version? how many paramters do you have? when were you published?\"))"
   ]
  }
 ],
 "metadata": {
  "kernelspec": {
   "display_name": "Python 3",
   "language": "python",
   "name": "python3"
  },
  "language_info": {
   "codemirror_mode": {
    "name": "ipython",
    "version": 3
   },
   "file_extension": ".py",
   "mimetype": "text/x-python",
   "name": "python",
   "nbconvert_exporter": "python",
   "pygments_lexer": "ipython3",
   "version": "3.9.6"
  }
 },
 "nbformat": 4,
 "nbformat_minor": 2
}
